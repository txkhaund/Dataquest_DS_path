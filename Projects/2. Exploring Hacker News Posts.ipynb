{
 "cells": [
  {
   "cell_type": "markdown",
   "metadata": {},
   "source": [
    "# Exploring Hacker News Posts\n",
    "\n",
    "## About: \n",
    "In this project, we'll work with a data set of submissions to popular technology site <a href =\"https://news.ycombinator.com/\">Hacker News</a>.\n",
    "\n",
    "Hacker News is a site started by the startup incubator <a href= \"https://www.ycombinator.com/\">Y Combinator</a>, where user-submitted stories (known as \"posts\") are voted and commented upon, similar to reddit. Hacker News is extremely popular in technology and startup circles, and posts that make it to the top of Hacker News' listings can get hundreds of thousands of visitors as a result.\n",
    "\n",
    "__Data:__ https://www.kaggle.com/hacker-news/hacker-news-posts\n",
    "\n",
    "For the purpose of this project, we have removed the rows where there are no comments\n",
    "\n",
    "Data descriptions of the columns:\n",
    "\n",
    "- _id_: The unique identifier from Hacker News for the post\n",
    "- _title_: The title of the post\n",
    "- _url_: The URL that the posts links to, if it the post has a URL\n",
    "- _num_points_: The number of points the post acquired, calculated as the total number of upvotes minus the total number of downvotes\n",
    "- _num_comments_: The number of comments that were made on the post\n",
    "- _author_: The username of the person who submitted the post\n",
    "- _created_at_: The date and time at which the post was submitted"
   ]
  },
  {
   "cell_type": "markdown",
   "metadata": {},
   "source": [
    "## Goal: \n",
    "We're specifically interested in posts whose titles begin with either _Ask HN_ or _Show HN_. Users submit Ask HN posts to ask the Hacker News community a specific question.\n",
    "\n",
    "We'll compare these two types of posts to determine the following:\n",
    "\n",
    "- Do Ask HN or Show HN receive more comments on average?\n",
    "- Do posts created at a certain time receive more comments on average?"
   ]
  },
  {
   "cell_type": "markdown",
   "metadata": {},
   "source": [
    "### Introduction"
   ]
  },
  {
   "cell_type": "code",
   "execution_count": 2,
   "metadata": {},
   "outputs": [
    {
     "data": {
      "text/plain": [
       "[['id', 'title', 'url', 'num_points', 'num_comments', 'author', 'created_at'],\n",
       " ['10176908',\n",
       "  'Dying vets fuck you letter (2013)',\n",
       "  'http://dangerousminds.net/comments/dying_vets_fuck_you_letter_to_george_bush_dick_cheney_needs_to_be_read',\n",
       "  '10',\n",
       "  '2',\n",
       "  'mycodebreaks',\n",
       "  '9/6/2015 5:56'],\n",
       " ['10176919',\n",
       "  'Ask HN: What is/are your favorite quote(s)?',\n",
       "  '',\n",
       "  '15',\n",
       "  '20',\n",
       "  'kumarski',\n",
       "  '9/6/2015 6:02'],\n",
       " ['10176923',\n",
       "  \"Why we aren't tempted to use ACLs on our Unix machines\",\n",
       "  'https://utcc.utoronto.ca/~cks/space/blog/sysadmin/NoACLTemptation',\n",
       "  '34',\n",
       "  '23',\n",
       "  'mjn',\n",
       "  '9/6/2015 6:03'],\n",
       " ['10176974',\n",
       "  \"Google's new logo was created by Russian designer in 2008\",\n",
       "  'http://www.dailytech.com/Exclusive+Googles+New+Search+Icon+Was+Created+in+2008+by+Russian+Designer/article37480.htm',\n",
       "  '25',\n",
       "  '12',\n",
       "  'usaphp',\n",
       "  '9/6/2015 6:49']]"
      ]
     },
     "execution_count": 2,
     "metadata": {},
     "output_type": "execute_result"
    }
   ],
   "source": [
    "from csv import reader\n",
    "\n",
    "hn = list(reader(open('data/hacker_news.csv', encoding='utf8')))\n",
    "hn[:5]"
   ]
  },
  {
   "cell_type": "markdown",
   "metadata": {},
   "source": [
    "### Removing Headers from a List of Lists"
   ]
  },
  {
   "cell_type": "code",
   "execution_count": 3,
   "metadata": {},
   "outputs": [
    {
     "name": "stdout",
     "output_type": "stream",
     "text": [
      "['id', 'title', 'url', 'num_points', 'num_comments', 'author', 'created_at']\n"
     ]
    },
    {
     "data": {
      "text/plain": [
       "[['10176908',\n",
       "  'Dying vets fuck you letter (2013)',\n",
       "  'http://dangerousminds.net/comments/dying_vets_fuck_you_letter_to_george_bush_dick_cheney_needs_to_be_read',\n",
       "  '10',\n",
       "  '2',\n",
       "  'mycodebreaks',\n",
       "  '9/6/2015 5:56'],\n",
       " ['10176919',\n",
       "  'Ask HN: What is/are your favorite quote(s)?',\n",
       "  '',\n",
       "  '15',\n",
       "  '20',\n",
       "  'kumarski',\n",
       "  '9/6/2015 6:02'],\n",
       " ['10176923',\n",
       "  \"Why we aren't tempted to use ACLs on our Unix machines\",\n",
       "  'https://utcc.utoronto.ca/~cks/space/blog/sysadmin/NoACLTemptation',\n",
       "  '34',\n",
       "  '23',\n",
       "  'mjn',\n",
       "  '9/6/2015 6:03'],\n",
       " ['10176974',\n",
       "  \"Google's new logo was created by Russian designer in 2008\",\n",
       "  'http://www.dailytech.com/Exclusive+Googles+New+Search+Icon+Was+Created+in+2008+by+Russian+Designer/article37480.htm',\n",
       "  '25',\n",
       "  '12',\n",
       "  'usaphp',\n",
       "  '9/6/2015 6:49'],\n",
       " ['10176976',\n",
       "  'My Keyboard',\n",
       "  'http://zyghost.com/articles/My-Keyboard.html',\n",
       "  '144',\n",
       "  '105',\n",
       "  'efnx',\n",
       "  '9/6/2015 6:49']]"
      ]
     },
     "execution_count": 3,
     "metadata": {},
     "output_type": "execute_result"
    }
   ],
   "source": [
    "headers = hn[0]\n",
    "hn = hn[1:]\n",
    "\n",
    "print(headers)\n",
    "hn[:5]"
   ]
  },
  {
   "cell_type": "markdown",
   "metadata": {},
   "source": [
    "### Extracting Ask HN and Show HN Posts"
   ]
  },
  {
   "cell_type": "markdown",
   "metadata": {},
   "source": [
    "We're ready to filter our data. Since we're only concerned with post titles beginning with Ask HN or Show HN, we'll create new lists of lists containing just the data for those titles.\n",
    "\n",
    "To find the posts that begin with either Ask HN or Show HN, we'll use the string method startswith."
   ]
  },
  {
   "cell_type": "code",
   "execution_count": 4,
   "metadata": {},
   "outputs": [
    {
     "name": "stdout",
     "output_type": "stream",
     "text": [
      "6911\n",
      "5059\n",
      "68431\n"
     ]
    }
   ],
   "source": [
    "ask_posts = []\n",
    "show_posts = []\n",
    "other_posts = []\n",
    "\n",
    "for row in hn:\n",
    "    title = row[1]  # Index for Title is 1\n",
    "    if title.lower().startswith('ask hn'):\n",
    "        ask_posts.append(row)\n",
    "    elif title.lower().startswith('show hn'):\n",
    "        show_posts.append(row)\n",
    "    else:\n",
    "        other_posts.append(row)\n",
    "        \n",
    "print(len(ask_posts))\n",
    "print(len(show_posts))\n",
    "print(len(other_posts))"
   ]
  },
  {
   "cell_type": "markdown",
   "metadata": {},
   "source": [
    "### Calculating the Average Number of Comments for Ask HN and Show HN Posts"
   ]
  },
  {
   "cell_type": "markdown",
   "metadata": {},
   "source": [
    "1. Find the total number of comments in ask posts and assign it to total_ask_comments.\n",
    "    - Set total_ask_comments to 0.\n",
    "2. Use a for loop to iterate over the ask posts.\n",
    "    - Because the num_comments column is the fifth column in ask_posts, you'll need to get the element at index 4 in each row.\n",
    "        - You'll also need to convert the value to an integer so that we can calculate the sum of all the comments.\n",
    "        - Add this value to total_ask_comments.\n",
    "3. Compute the average number of comments on ask posts and assign it to avg_ask_comments.\n",
    "4. Print avg_ask_comments.\n",
    "5. Find the total number of comments in show posts and assign it to total_show_comments.\n",
    "    - Set total_show_comments to 0.\n",
    "6. Use a for loop to iterate over the show posts.\n",
    "    - Because the num_comments column is the fifth column in show_posts, you'll need to get the element at index 4 in each row.\n",
    "    - You'll also need to convert the value to an integer so that we can calculate the sum of all the comments.\n",
    "    - Add this value to total_show_comments.\n",
    "7. Compute the average number of comments on show posts and assign it to avg_show_comments.\n",
    "8. Print avg_show_comments.\n",
    "9. Do show posts or ask posts receive more comments on average? Write a markdown cell explaining your findings."
   ]
  },
  {
   "cell_type": "code",
   "execution_count": 5,
   "metadata": {},
   "outputs": [
    {
     "name": "stdout",
     "output_type": "stream",
     "text": [
      "13.744175951381855\n",
      "9.810832180272781\n"
     ]
    }
   ],
   "source": [
    "\"\"\"\n",
    "Average Number of Comments for the Ask HN Posts\n",
    "\"\"\"\n",
    "total_ask_comments = 0\n",
    "\n",
    "# Iterate through the ask_posts list\n",
    "for row in ask_posts:\n",
    "    num_comments = int(row[4]) # Index is 4 for number of comments\n",
    "    total_ask_comments += num_comments\n",
    "\n",
    "avg_ask_comments = total_ask_comments / len(ask_posts)\n",
    "print(avg_ask_comments)\n",
    "\n",
    "\"\"\"\n",
    "Average Number of Comments for the Show HN Posts\n",
    "\"\"\"\n",
    "total_show_comments = 0\n",
    "\n",
    "# Loop through the show_posts list\n",
    "for row in show_posts:\n",
    "    num_comments = int(row[4])  # Index is 4 for number of comments\n",
    "    total_show_comments += num_comments\n",
    "    \n",
    "avg_show_comments = total_show_comments / len(show_posts)\n",
    "print(avg_show_comments)"
   ]
  },
  {
   "cell_type": "markdown",
   "metadata": {},
   "source": [
    "On average, Ask HN posts receive more comments than the Show HN posts."
   ]
  },
  {
   "cell_type": "markdown",
   "metadata": {},
   "source": [
    "### Finding the Amount of Ask Posts and Comments by Hour Created"
   ]
  },
  {
   "cell_type": "markdown",
   "metadata": {},
   "source": [
    "Since ask posts are more likely to receive comments, we'll focus our remaining analysis just on these posts.\n",
    "\n",
    "Next, we'll determine if ask posts created at a certain time are more likely to attract comments. We'll use the following steps to perform this analysis:\n",
    "\n",
    "1. Calculate the amount of ask posts created in each hour of the day, along with the number of comments received.\n",
    "2. Calculate the average number of comments ask posts receive by hour created."
   ]
  },
  {
   "cell_type": "code",
   "execution_count": 7,
   "metadata": {},
   "outputs": [
    {
     "data": {
      "text/plain": [
       "{'00': 2277,\n",
       " '01': 2089,\n",
       " '02': 2996,\n",
       " '03': 2154,\n",
       " '04': 2360,\n",
       " '05': 1838,\n",
       " '06': 1587,\n",
       " '07': 1585,\n",
       " '08': 2362,\n",
       " '09': 1477,\n",
       " '10': 3013,\n",
       " '11': 2797,\n",
       " '12': 4234,\n",
       " '13': 7245,\n",
       " '14': 4972,\n",
       " '15': 18525,\n",
       " '16': 4466,\n",
       " '17': 5547,\n",
       " '18': 4877,\n",
       " '19': 3954,\n",
       " '20': 4462,\n",
       " '21': 4500,\n",
       " '22': 3372,\n",
       " '23': 2297}"
      ]
     },
     "execution_count": 7,
     "metadata": {},
     "output_type": "execute_result"
    }
   ],
   "source": [
    "import datetime as dt\n",
    "\n",
    "result_list = []\n",
    "for row in ask_posts:\n",
    "    created_at = row[6] # Index is 6 for post creation date\n",
    "    num_comments = int(row[4]) # Index is 4 for number of comments\n",
    "    result_list.append([created_at, num_comments])\n",
    "    \n",
    "counts_by_hour = {}\n",
    "comments_by_hour = {}\n",
    "\n",
    "# Loop through the result_list list\n",
    "for row in result_list:\n",
    "    date_str = row[0]\n",
    "    comment = row[1]\n",
    "    date_dt = dt.datetime.strptime(date_str, \"%m/%d/%Y %H:%M\")\n",
    "    hour = date_dt.strftime(\"%H\")\n",
    "    if hour not in counts_by_hour:\n",
    "        counts_by_hour[hour] = 1\n",
    "        comments_by_hour[hour] = comment\n",
    "    else:\n",
    "        counts_by_hour[hour] += 1\n",
    "        comments_by_hour[hour] += comment\n",
    "comments_by_hour"
   ]
  },
  {
   "cell_type": "markdown",
   "metadata": {},
   "source": [
    "### Calculating the Average Number of Comments for Ask HN Posts by Hour\n",
    "\n",
    "We'll use the two dictionaries we created to calculate the average number of comments for posts created during each hour of the day."
   ]
  },
  {
   "cell_type": "code",
   "execution_count": 8,
   "metadata": {},
   "outputs": [
    {
     "data": {
      "text/plain": [
       "[['03', 10.160377358490566],\n",
       " ['22', 11.749128919860627],\n",
       " ['14', 13.153439153439153],\n",
       " ['07', 10.095541401273886],\n",
       " ['10', 13.757990867579908],\n",
       " ['15', 39.66809421841542],\n",
       " ['04', 12.688172043010752],\n",
       " ['23', 8.322463768115941],\n",
       " ['19', 9.414285714285715],\n",
       " ['08', 12.43157894736842],\n",
       " ['13', 22.2239263803681],\n",
       " ['05', 11.139393939393939],\n",
       " ['11', 11.143426294820717],\n",
       " ['18', 10.789823008849558],\n",
       " ['06', 9.017045454545455],\n",
       " ['12', 15.452554744525548],\n",
       " ['17', 13.73019801980198],\n",
       " ['21', 11.056511056511056],\n",
       " ['16', 10.76144578313253],\n",
       " ['00', 9.857142857142858],\n",
       " ['02', 13.198237885462555],\n",
       " ['01', 9.367713004484305],\n",
       " ['09', 8.392045454545455],\n",
       " ['20', 11.38265306122449]]"
      ]
     },
     "execution_count": 8,
     "metadata": {},
     "output_type": "execute_result"
    }
   ],
   "source": [
    "avg_by_hour = []\n",
    "\n",
    "for hour in comments_by_hour:\n",
    "    avg_comment = comments_by_hour[hour] / counts_by_hour[hour]\n",
    "    avg_by_hour.append([hour, avg_comment])\n",
    "    \n",
    "avg_by_hour"
   ]
  },
  {
   "cell_type": "markdown",
   "metadata": {},
   "source": [
    "### Sorting and Printing Values from a List of Lists\n",
    "\n",
    "Although we now have the results we need, this format makes it hard to identify the hours with the highest values. Let's finish by sorting the list of lists and printing the five highest values in a format that's easier to read."
   ]
  },
  {
   "cell_type": "code",
   "execution_count": 9,
   "metadata": {},
   "outputs": [
    {
     "name": "stdout",
     "output_type": "stream",
     "text": [
      "[[10.160377358490566, '03'], [11.749128919860627, '22'], [13.153439153439153, '14'], [10.095541401273886, '07'], [13.757990867579908, '10'], [39.66809421841542, '15'], [12.688172043010752, '04'], [8.322463768115941, '23'], [9.414285714285715, '19'], [12.43157894736842, '08'], [22.2239263803681, '13'], [11.139393939393939, '05'], [11.143426294820717, '11'], [10.789823008849558, '18'], [9.017045454545455, '06'], [15.452554744525548, '12'], [13.73019801980198, '17'], [11.056511056511056, '21'], [10.76144578313253, '16'], [9.857142857142858, '00'], [13.198237885462555, '02'], [9.367713004484305, '01'], [8.392045454545455, '09'], [11.38265306122449, '20']]\n"
     ]
    },
    {
     "data": {
      "text/plain": [
       "[[39.66809421841542, '15'],\n",
       " [22.2239263803681, '13'],\n",
       " [15.452554744525548, '12'],\n",
       " [13.757990867579908, '10'],\n",
       " [13.73019801980198, '17'],\n",
       " [13.198237885462555, '02'],\n",
       " [13.153439153439153, '14'],\n",
       " [12.688172043010752, '04'],\n",
       " [12.43157894736842, '08'],\n",
       " [11.749128919860627, '22'],\n",
       " [11.38265306122449, '20'],\n",
       " [11.143426294820717, '11'],\n",
       " [11.139393939393939, '05'],\n",
       " [11.056511056511056, '21'],\n",
       " [10.789823008849558, '18'],\n",
       " [10.76144578313253, '16'],\n",
       " [10.160377358490566, '03'],\n",
       " [10.095541401273886, '07'],\n",
       " [9.857142857142858, '00'],\n",
       " [9.414285714285715, '19'],\n",
       " [9.367713004484305, '01'],\n",
       " [9.017045454545455, '06'],\n",
       " [8.392045454545455, '09'],\n",
       " [8.322463768115941, '23']]"
      ]
     },
     "execution_count": 9,
     "metadata": {},
     "output_type": "execute_result"
    }
   ],
   "source": [
    "swap_avg_by_hour = []\n",
    "\n",
    "for row in avg_by_hour:\n",
    "    swap_avg_by_hour.append([row[1], row[0]])\n",
    "    \n",
    "print(swap_avg_by_hour)\n",
    "\n",
    "sorted_swap = sorted(swap_avg_by_hour, reverse=True)\n",
    "sorted_swap"
   ]
  },
  {
   "cell_type": "code",
   "execution_count": 10,
   "metadata": {},
   "outputs": [
    {
     "name": "stdout",
     "output_type": "stream",
     "text": [
      "Top 5 Hours for Ask Posts Comments\n",
      "15:00: 39.67 average comments per post\n",
      "13:00: 22.22 average comments per post\n",
      "12:00: 15.45 average comments per post\n",
      "10:00: 13.76 average comments per post\n",
      "17:00: 13.73 average comments per post\n"
     ]
    }
   ],
   "source": [
    "# Sorted list and print the five highest values\n",
    "print(\"Top 5 Hours for Ask Posts Comments\")\n",
    "\n",
    "for avg, hr in sorted_swap[:5]:\n",
    "    print(\"{}: {:.2f} average comments per post\".format(dt.datetime.strptime(hr, \"%H\").strftime(\"%H:%M\"), avg))"
   ]
  },
  {
   "cell_type": "markdown",
   "metadata": {},
   "source": [
    "According to the <a href=\"https://www.kaggle.com/hacker-news/hacker-news-posts\">dataset documentation</a>, the timezone is Eastern Time in US.\n",
    "\n",
    "Based on my timezone, if we create a post in between 11am and 2pm (US Central Time), we are more likely to recieve comments. 3pm EST seems to be a peak time for comments with an average of 39.67 comments per post."
   ]
  },
  {
   "cell_type": "markdown",
   "metadata": {},
   "source": [
    "## Conclusion\n",
    "\n",
    "In this project, we analyzed the Ask HN and Show HN posts. Users submit Ask HN posts to ask the Hacker News community a specific question.\n",
    "\n",
    "Note: For the purpose of this project, we have removed the rows where there are no comments\n",
    "\n",
    "We compared these two types of posts and found that Ask HN posts receive more comments as opposed to Show HN posts. Then, we looked into the Ask HN posts to determine the time frame where posts receive the highest number of comments. We found that if we created a post around 2pm (Central Time), we will be more likely to receive a lot of comments."
   ]
  }
 ],
 "metadata": {
  "kernelspec": {
   "display_name": "Python 3",
   "language": "python",
   "name": "python3"
  },
  "language_info": {
   "codemirror_mode": {
    "name": "ipython",
    "version": 3
   },
   "file_extension": ".py",
   "mimetype": "text/x-python",
   "name": "python",
   "nbconvert_exporter": "python",
   "pygments_lexer": "ipython3",
   "version": "3.5.2"
  }
 },
 "nbformat": 4,
 "nbformat_minor": 4
}
