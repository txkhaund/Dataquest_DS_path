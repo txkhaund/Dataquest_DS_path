{
 "cells": [
  {
   "cell_type": "markdown",
   "metadata": {},
   "source": [
    "## Introduction\n",
    "\n",
    "We'll learn another way pandas makes working with data easier. It has many built-in methods and functions for common exploration and analysis tasks.\n",
    "\n",
    "__Dataset__: Fortune Global 500 list [f500.csv]\n",
    "\n",
    "__Source__: https://data.world/chasewillden/fortune-500-companies-2017\n",
    "\n",
    "Here is a data dictionary for some of the columns in the CSV:\n",
    "\n",
    "- ```company```: Name of the company.\n",
    "- ```rank```: Global 500 rank for the company.\n",
    "- ```revenues```: Company's total revenue for the fiscal year, in millions of dollars (USD).\n",
    "- ```revenue_change```: Percentage change in revenue between the current and prior fiscal year.\n",
    "- ```profits```: Net income for the fiscal year, in millions of dollars (USD).\n",
    "- ```ceo```: Company's Chief Executive Officer.\n",
    "- ```industry```: Industry in which the company operates.\n",
    "- ```sector```: Sector in which the company operates.\n",
    "- ```previous_rank```: Global 500 rank for the company for the prior year.\n",
    "- ```country```: Country in which the company is headquartered.\n",
    "- ```hq_location```: City and Country, (or City and State for the USA) where the company is headquarted.\n",
    "- ```employees```: Total employees (full-time equivalent, if available) at fiscal year-end."
   ]
  },
  {
   "cell_type": "code",
   "execution_count": 1,
   "metadata": {},
   "outputs": [
    {
     "name": "stdout",
     "output_type": "stream",
     "text": [
      "<class 'pandas.core.frame.DataFrame'>\n",
      "Index: 500 entries, Walmart to AutoNation\n",
      "Data columns (total 16 columns):\n",
      "rank                        500 non-null int64\n",
      "revenues                    500 non-null int64\n",
      "revenue_change              498 non-null float64\n",
      "profits                     499 non-null float64\n",
      "assets                      500 non-null int64\n",
      "profit_change               436 non-null float64\n",
      "ceo                         500 non-null object\n",
      "industry                    500 non-null object\n",
      "sector                      500 non-null object\n",
      "previous_rank               500 non-null int64\n",
      "country                     500 non-null object\n",
      "hq_location                 500 non-null object\n",
      "website                     500 non-null object\n",
      "years_on_global_500_list    500 non-null int64\n",
      "employees                   500 non-null int64\n",
      "total_stockholder_equity    500 non-null int64\n",
      "dtypes: float64(3), int64(7), object(6)\n",
      "memory usage: 52.7+ KB\n"
     ]
    }
   ],
   "source": [
    "import pandas as pd\n",
    "\n",
    "f500 = pd.read_csv('data/f500.csv', index_col=0)\n",
    "f500_head = f500.head(10)\n",
    "f500.info()"
   ]
  },
  {
   "cell_type": "markdown",
   "metadata": {},
   "source": [
    "### Vectorized Operations"
   ]
  },
  {
   "cell_type": "markdown",
   "metadata": {},
   "source": [
    "Just like with NumPy, we can use any of the standard Python numeric operators with series, including:\n",
    "- ```series_a + series_b``` - Addition\n",
    "- ```series_a - series_b``` - Subtraction\n",
    "- ```series_a * series_b``` - Multiplication (this is unrelated to the multiplications used in linear algebra).\n",
    "- ```series_a / series_b``` - Division"
   ]
  },
  {
   "cell_type": "code",
   "execution_count": 2,
   "metadata": {},
   "outputs": [],
   "source": [
    "rank_change = f500.loc[:, \"previous_rank\"] - f500.loc[:, \"rank\"]"
   ]
  },
  {
   "cell_type": "markdown",
   "metadata": {},
   "source": [
    "### Series Data Exploration Methods\n",
    "\n",
    "Like NumPy, pandas supports many descriptive stats methods that can help us answer these questions. Here are a few of the most useful ones (with links to documentation):\n",
    "- ```Series.max()```\n",
    "- ```Series.min()```\n",
    "- ```Series.mean()```\n",
    "- ```Series.median()```\n",
    "- ```Series.mode()```\n",
    "- ```Series.sum()```"
   ]
  },
  {
   "cell_type": "code",
   "execution_count": 3,
   "metadata": {},
   "outputs": [],
   "source": [
    "rank_change_max = rank_change.max()\n",
    "rank_change_min = rank_change.min()"
   ]
  },
  {
   "cell_type": "markdown",
   "metadata": {},
   "source": [
    "### Series Describe Method\n",
    "\n",
    "We used the Series.max() and Series.min() methods to figure out the biggest increase and decrease in rank:\n",
    "- Biggest increase in rank: 226\n",
    "- Biggest decrease in rank: -500\n",
    "\n",
    "However, according to the data dictionary, this list should only rank companies on a scale of 1 to 500. Even if the company ranked 1st in the previous year moved to 500th this year, the rank change calculated would be -499. This indicates that there is incorrect data in either the ```rank``` column or ```previous_rank``` column.\n",
    "\n",
    "We'll learn another method that can help us more quickly investigate this issue - the ```Series.describe()``` method. This method tells us how many non-null values are contained in the series, along with the mean, minimum, maximum, and other statistics."
   ]
  },
  {
   "cell_type": "markdown",
   "metadata": {},
   "source": [
    "The first statistic, __count__, is the same as for numeric columns, showing us the number of non-null values. The other three statistics are new:\n",
    "- ```unique```: Number of unique values in the series.\n",
    "- ```top```: Most common value in the series.\n",
    "- ```freq```: Frequency of the most common value."
   ]
  },
  {
   "cell_type": "code",
   "execution_count": 4,
   "metadata": {},
   "outputs": [],
   "source": [
    "rank = f500[\"rank\"]\n",
    "rank_desc = rank.describe()\n",
    "\n",
    "prev_rank = f500[\"previous_rank\"]\n",
    "prev_rank_desc = prev_rank.describe()"
   ]
  },
  {
   "cell_type": "code",
   "execution_count": 5,
   "metadata": {},
   "outputs": [
    {
     "data": {
      "text/plain": [
       "count    500.000000\n",
       "mean     222.134000\n",
       "std      146.941961\n",
       "min        0.000000\n",
       "25%       92.750000\n",
       "50%      219.500000\n",
       "75%      347.250000\n",
       "max      500.000000\n",
       "Name: previous_rank, dtype: float64"
      ]
     },
     "execution_count": 5,
     "metadata": {},
     "output_type": "execute_result"
    }
   ],
   "source": [
    "prev_rank_desc"
   ]
  },
  {
   "cell_type": "markdown",
   "metadata": {},
   "source": [
    "### Method Chaining\n",
    "\n",
    "We notice that the minimum rank is 0, which is odd! To investigate the possible cause of this issue, let's confirm the number of 0 values that appear in the previous_rank column.\n",
    "\n",
    "We can skip some of the intermediate code assignments. This is called __method chaining__ — a way to combine multiple methods together in a single line.\n",
    "- When writing code, always assess whether method chaining will make your code harder to read. If it does, it's always preferable to break the code into more than one line."
   ]
  },
  {
   "cell_type": "code",
   "execution_count": 6,
   "metadata": {},
   "outputs": [],
   "source": [
    "# Count the number of zeros in our previous_rank column\n",
    "zero_previous_rank = f500[\"previous_rank\"].value_counts().loc[0]"
   ]
  },
  {
   "cell_type": "markdown",
   "metadata": {},
   "source": [
    "### Dataframe Exploration Methods\n",
    "\n",
    "We confirmed that 33 companies in the dataframe have a value of 0 in the previous_rank column. Given that multiple companies have a 0 rank, we might conclude that these companies didn't have a rank at all for the previous year. It would make more sense for us to replace these values with a null value instead.\n",
    "\n",
    "Because series and dataframes are two distinct objects, they have their own unique methods. However, there are many times where both series and dataframe objects have a method of the same name that behaves in similar ways. Below are some examples:\n",
    "- ```Series.max()``` and ```DataFrame.max()```\n",
    "- ```Series.min()``` and ```DataFrame.min()```\n",
    "- ```Series.mean()``` and ```DataFrame.mean()```\n",
    "- ```Series.median()``` and ```DataFrame.median()```\n",
    "- ```Series.mode()``` and ```DataFrame.mode()```\n",
    "- ```Series.sum()``` and ```DataFrame.sum()```\n",
    "\n",
    "Unlike their series counterparts, dataframe methods require an _axis parameter_ so we know which axis to calculate across. While you can use integers to refer to the first and second axis, pandas dataframe methods also accept the strings ```\"index\"``` and ```\"columns\"``` for the axis parameter"
   ]
  },
  {
   "cell_type": "code",
   "execution_count": 7,
   "metadata": {},
   "outputs": [
    {
     "data": {
      "text/plain": [
       "rank                            500.0\n",
       "revenues                     485873.0\n",
       "revenue_change                  442.3\n",
       "profits                       45687.0\n",
       "assets                      3473238.0\n",
       "profit_change                  8909.5\n",
       "previous_rank                   500.0\n",
       "years_on_global_500_list         23.0\n",
       "employees                   2300000.0\n",
       "total_stockholder_equity     301893.0\n",
       "dtype: float64"
      ]
     },
     "execution_count": 7,
     "metadata": {},
     "output_type": "execute_result"
    }
   ],
   "source": [
    "# find the maximum value for only the numeric columns from f500\n",
    "max_f500 = f500.max(numeric_only=True)\n",
    "max_f500"
   ]
  },
  {
   "cell_type": "markdown",
   "metadata": {},
   "source": [
    "### Dataframe Describe Method\n",
    "\n",
    "Based on the column descriptions, the maximum for each of these columns seems reasonable. Like series objects, dataframe objects also have a ```DataFrame.describe()``` method that we can use to explore the dataframe more quickly.\n",
    "\n",
    "One difference is that we need to manually specify if you want to see the statistics for the non-numeric columns. By default, ```DataFrame.describe()``` will return statistics for only numeric columns. If we wanted to get just the object columns, we need to use the ```include=['O']``` parameter\n",
    "\n",
    "Whereas the ```Series.describe()``` method returns a series object, the ```DataFrame.describe()``` method returns a dataframe object"
   ]
  },
  {
   "cell_type": "code",
   "execution_count": 8,
   "metadata": {},
   "outputs": [
    {
     "data": {
      "text/html": [
       "<div>\n",
       "<style scoped>\n",
       "    .dataframe tbody tr th:only-of-type {\n",
       "        vertical-align: middle;\n",
       "    }\n",
       "\n",
       "    .dataframe tbody tr th {\n",
       "        vertical-align: top;\n",
       "    }\n",
       "\n",
       "    .dataframe thead th {\n",
       "        text-align: right;\n",
       "    }\n",
       "</style>\n",
       "<table border=\"1\" class=\"dataframe\">\n",
       "  <thead>\n",
       "    <tr style=\"text-align: right;\">\n",
       "      <th></th>\n",
       "      <th>rank</th>\n",
       "      <th>revenues</th>\n",
       "      <th>revenue_change</th>\n",
       "      <th>profits</th>\n",
       "      <th>assets</th>\n",
       "      <th>profit_change</th>\n",
       "      <th>previous_rank</th>\n",
       "      <th>years_on_global_500_list</th>\n",
       "      <th>employees</th>\n",
       "      <th>total_stockholder_equity</th>\n",
       "    </tr>\n",
       "  </thead>\n",
       "  <tbody>\n",
       "    <tr>\n",
       "      <th>count</th>\n",
       "      <td>500.000000</td>\n",
       "      <td>500.000000</td>\n",
       "      <td>498.000000</td>\n",
       "      <td>499.000000</td>\n",
       "      <td>5.000000e+02</td>\n",
       "      <td>436.000000</td>\n",
       "      <td>500.000000</td>\n",
       "      <td>500.000000</td>\n",
       "      <td>5.000000e+02</td>\n",
       "      <td>500.000000</td>\n",
       "    </tr>\n",
       "    <tr>\n",
       "      <th>mean</th>\n",
       "      <td>250.500000</td>\n",
       "      <td>55416.358000</td>\n",
       "      <td>4.538353</td>\n",
       "      <td>3055.203206</td>\n",
       "      <td>2.436323e+05</td>\n",
       "      <td>24.152752</td>\n",
       "      <td>222.134000</td>\n",
       "      <td>15.036000</td>\n",
       "      <td>1.339983e+05</td>\n",
       "      <td>30628.076000</td>\n",
       "    </tr>\n",
       "    <tr>\n",
       "      <th>std</th>\n",
       "      <td>144.481833</td>\n",
       "      <td>45725.478963</td>\n",
       "      <td>28.549067</td>\n",
       "      <td>5171.981071</td>\n",
       "      <td>4.851937e+05</td>\n",
       "      <td>437.509566</td>\n",
       "      <td>146.941961</td>\n",
       "      <td>7.932752</td>\n",
       "      <td>1.700878e+05</td>\n",
       "      <td>43642.576833</td>\n",
       "    </tr>\n",
       "    <tr>\n",
       "      <th>min</th>\n",
       "      <td>1.000000</td>\n",
       "      <td>21609.000000</td>\n",
       "      <td>-67.300000</td>\n",
       "      <td>-13038.000000</td>\n",
       "      <td>3.717000e+03</td>\n",
       "      <td>-793.700000</td>\n",
       "      <td>0.000000</td>\n",
       "      <td>1.000000</td>\n",
       "      <td>3.280000e+02</td>\n",
       "      <td>-59909.000000</td>\n",
       "    </tr>\n",
       "    <tr>\n",
       "      <th>25%</th>\n",
       "      <td>125.750000</td>\n",
       "      <td>29003.000000</td>\n",
       "      <td>-5.900000</td>\n",
       "      <td>556.950000</td>\n",
       "      <td>3.658850e+04</td>\n",
       "      <td>-22.775000</td>\n",
       "      <td>92.750000</td>\n",
       "      <td>7.000000</td>\n",
       "      <td>4.293250e+04</td>\n",
       "      <td>7553.750000</td>\n",
       "    </tr>\n",
       "    <tr>\n",
       "      <th>50%</th>\n",
       "      <td>250.500000</td>\n",
       "      <td>40236.000000</td>\n",
       "      <td>0.550000</td>\n",
       "      <td>1761.600000</td>\n",
       "      <td>7.326150e+04</td>\n",
       "      <td>-0.350000</td>\n",
       "      <td>219.500000</td>\n",
       "      <td>17.000000</td>\n",
       "      <td>9.291050e+04</td>\n",
       "      <td>15809.500000</td>\n",
       "    </tr>\n",
       "    <tr>\n",
       "      <th>75%</th>\n",
       "      <td>375.250000</td>\n",
       "      <td>63926.750000</td>\n",
       "      <td>6.975000</td>\n",
       "      <td>3954.000000</td>\n",
       "      <td>1.805640e+05</td>\n",
       "      <td>17.700000</td>\n",
       "      <td>347.250000</td>\n",
       "      <td>23.000000</td>\n",
       "      <td>1.689172e+05</td>\n",
       "      <td>37828.500000</td>\n",
       "    </tr>\n",
       "    <tr>\n",
       "      <th>max</th>\n",
       "      <td>500.000000</td>\n",
       "      <td>485873.000000</td>\n",
       "      <td>442.300000</td>\n",
       "      <td>45687.000000</td>\n",
       "      <td>3.473238e+06</td>\n",
       "      <td>8909.500000</td>\n",
       "      <td>500.000000</td>\n",
       "      <td>23.000000</td>\n",
       "      <td>2.300000e+06</td>\n",
       "      <td>301893.000000</td>\n",
       "    </tr>\n",
       "  </tbody>\n",
       "</table>\n",
       "</div>"
      ],
      "text/plain": [
       "             rank       revenues  revenue_change       profits        assets  \\\n",
       "count  500.000000     500.000000      498.000000    499.000000  5.000000e+02   \n",
       "mean   250.500000   55416.358000        4.538353   3055.203206  2.436323e+05   \n",
       "std    144.481833   45725.478963       28.549067   5171.981071  4.851937e+05   \n",
       "min      1.000000   21609.000000      -67.300000 -13038.000000  3.717000e+03   \n",
       "25%    125.750000   29003.000000       -5.900000    556.950000  3.658850e+04   \n",
       "50%    250.500000   40236.000000        0.550000   1761.600000  7.326150e+04   \n",
       "75%    375.250000   63926.750000        6.975000   3954.000000  1.805640e+05   \n",
       "max    500.000000  485873.000000      442.300000  45687.000000  3.473238e+06   \n",
       "\n",
       "       profit_change  previous_rank  years_on_global_500_list     employees  \\\n",
       "count     436.000000     500.000000                500.000000  5.000000e+02   \n",
       "mean       24.152752     222.134000                 15.036000  1.339983e+05   \n",
       "std       437.509566     146.941961                  7.932752  1.700878e+05   \n",
       "min      -793.700000       0.000000                  1.000000  3.280000e+02   \n",
       "25%       -22.775000      92.750000                  7.000000  4.293250e+04   \n",
       "50%        -0.350000     219.500000                 17.000000  9.291050e+04   \n",
       "75%        17.700000     347.250000                 23.000000  1.689172e+05   \n",
       "max      8909.500000     500.000000                 23.000000  2.300000e+06   \n",
       "\n",
       "       total_stockholder_equity  \n",
       "count                500.000000  \n",
       "mean               30628.076000  \n",
       "std                43642.576833  \n",
       "min               -59909.000000  \n",
       "25%                 7553.750000  \n",
       "50%                15809.500000  \n",
       "75%                37828.500000  \n",
       "max               301893.000000  "
      ]
     },
     "execution_count": 8,
     "metadata": {},
     "output_type": "execute_result"
    }
   ],
   "source": [
    "f500_desc = f500.describe()\n",
    "f500_desc"
   ]
  },
  {
   "cell_type": "markdown",
   "metadata": {},
   "source": [
    "### Assignment with pandas\n",
    "\n",
    "After reviewing the descriptive statistics for the numeric columns in f500, we can conclude that no values look unusual besides the 0 values in the previous_rank column.\n",
    "\n",
    "We'll learn how to do two things so we can correct these values:\n",
    "- __Perform assignment in pandas.__\n",
    "- Use boolean indexing in pandas.\n",
    "\n",
    "Just like in NumPy, the same techniques that we use to select data could be used for assignment. When we selected a whole column by label and used assignment, we assigned the value to every item in that column.\n",
    "\n",
    "By providing labels for both axes, we can assign them to a single value within our dataframe."
   ]
  },
  {
   "cell_type": "code",
   "execution_count": 9,
   "metadata": {},
   "outputs": [
    {
     "data": {
      "text/plain": [
       "'Jim Fitterling'"
      ]
     },
     "execution_count": 9,
     "metadata": {},
     "output_type": "execute_result"
    }
   ],
   "source": [
    "f500.loc[\"Dow Chemical\",\"ceo\"] = \"Jim Fitterling\"\n",
    "\n",
    "f500.loc[\"Dow Chemical\", \"ceo\"]"
   ]
  },
  {
   "cell_type": "markdown",
   "metadata": {},
   "source": [
    "### Using Boolean Indexing with pandas Objects\n",
    "\n",
    "While it's helpful to be able to replace specific values when we know the row label ahead of time, this can be cumbersome when we need to replace many values. Instead, we can use __boolean indexing__ to change all rows that meet the same criteria, just like we did with NumPy.\n",
    "\n",
    "Next, let's use boolean indexing to identify companies belonging to the \"Motor Vehicles and Parts\" industry in our Fortune 500 dataset."
   ]
  },
  {
   "cell_type": "code",
   "execution_count": 10,
   "metadata": {},
   "outputs": [
    {
     "data": {
      "text/plain": [
       "company\n",
       "Toyota Motor                                 Japan\n",
       "Volkswagen                                 Germany\n",
       "Daimler                                    Germany\n",
       "General Motors                                 USA\n",
       "Ford Motor                                     USA\n",
       "Honda Motor                                  Japan\n",
       "SAIC Motor                                   China\n",
       "Nissan Motor                                 Japan\n",
       "BMW Group                                  Germany\n",
       "Dongfeng Motor                               China\n",
       "Robert Bosch                               Germany\n",
       "Hyundai Motor                          South Korea\n",
       "China FAW Group                              China\n",
       "Beijing Automotive Group                     China\n",
       "Peugeot                                     France\n",
       "Renault                                     France\n",
       "Kia Motors                             South Korea\n",
       "Continental                                Germany\n",
       "Denso                                        Japan\n",
       "Guangzhou Automobile Industry Group          China\n",
       "Tata Motors                                  India\n",
       "ZF Friedrichshafen                         Germany\n",
       "Jardine Matheson                             China\n",
       "Magna International                         Canada\n",
       "Volvo                                       Sweden\n",
       "Hyundai Mobis                          South Korea\n",
       "Aisin Seiki                                  Japan\n",
       "Zhejiang Geely Holding Group                 China\n",
       "Subaru                                       Japan\n",
       "Bridgestone                                  Japan\n",
       "Mazda Motor                                  Japan\n",
       "Suzuki Motor                                 Japan\n",
       "Sumitomo Electric Industries                 Japan\n",
       "Michelin                                    France\n",
       "Name: country, dtype: object"
      ]
     },
     "execution_count": 10,
     "metadata": {},
     "output_type": "execute_result"
    }
   ],
   "source": [
    "motor_bool = f500[\"industry\"] == \"Motor Vehicles and Parts\"\n",
    "\n",
    "motor_countries = f500.loc[motor_bool, \"country\"] # one specific column\n",
    "\n",
    "motor_countries"
   ]
  },
  {
   "cell_type": "markdown",
   "metadata": {},
   "source": [
    "### Using Boolean Arrays to Assign Values\n",
    "\n",
    "We now have all the knowledge we need to fix the 0 values in the previous_rank column:\n",
    "- Perform assignment in pandas.\n",
    "- Use boolean indexing in pandas.\n",
    "\n",
    "We can remove the intermediate step of creating a boolean series, and combine everything into one line. This is the most common way to write pandas code to perform assignment using boolean arrays\n",
    "\n",
    "Now we can follow this pattern to replace the values in the previous_rank column. We'll replace these values with ```np.nan```. Just like in NumPy, ```np.nan``` is used in pandas to represent values that can't be represented numerically, most commonly missing values."
   ]
  },
  {
   "cell_type": "markdown",
   "metadata": {},
   "source": [
    "To make comparing the values in this column before and after our operation easier, we've added the following line of code:\n",
    "```\n",
    "prev_rank_before = f500[\"previous_rank\"].value_counts(dropna=False).head()\n",
    "```\n",
    "This uses ```Series.value_counts()``` and ```Series.head()``` to display the 5 most common values in the ```previous_rank``` column, but adds an additional ```dropna=False``` parameter, which stops the ```Series.value_counts()``` method from excluding null values when it makes its calculation."
   ]
  },
  {
   "cell_type": "code",
   "execution_count": 11,
   "metadata": {},
   "outputs": [],
   "source": [
    "import numpy as np\n",
    "\n",
    "# Pandas series for the prev_rank for comparison\n",
    "prev_rank_before = f500[\"previous_rank\"].value_counts(dropna=False).head()\n",
    "\n",
    "# Changing the rank 0 to NAN\n",
    "f500.loc[f500[\"previous_rank\"] == 0, \"previous_rank\"] = np.nan\n",
    "# The After series\n",
    "prev_rank_after = f500[\"previous_rank\"].value_counts(dropna=False).head()"
   ]
  },
  {
   "cell_type": "markdown",
   "metadata": {},
   "source": [
    "### Creating New Columns\n",
    "\n",
    "You may have noticed that after we assigned NaN values, the previous_rank column changed dtype.\n",
    "\n",
    "The index of the series that Series.value_counts() produces now shows us floats like 471.0 instead of integers.\n",
    "- Pandas uses the NumPy integer dtype, which does not support NaN values.\n",
    "- Pandas inherits this behavior, and in instances where you try and assign a NaN value to an integer column, pandas will silently convert that column to a float dtype.\n",
    "\n",
    "Now that we've corrected the data, let's create the rank_change series again. This time, we'll add it to our f500 dataframe as a new column."
   ]
  },
  {
   "cell_type": "code",
   "execution_count": 12,
   "metadata": {},
   "outputs": [],
   "source": [
    "f500[\"rank_change\"] = f500[\"previous_rank\"] - f500[\"rank\"]\n",
    "\n",
    "rank_change_desc = f500[\"rank_change\"].describe()"
   ]
  },
  {
   "cell_type": "markdown",
   "metadata": {},
   "source": [
    "## Challenge: Top Performers by Country\n",
    "\n",
    "In this challenge, we'll calculate a specific statistic or attribute of each of the three most common countries from our f500 dataframe.\n",
    "\n",
    "Tasks:\n",
    "- Create a series, industry_usa, containing counts of the two most common values in the industry column for companies headquartered in the USA.\n",
    "- Create a series, sector_china, containing counts of the three most common values in the sector column for companies headquartered in the China.\n",
    "- Create a float object, mean_employees_japan, containing the mean (average) number of employees for companies headquartered in Japan."
   ]
  },
  {
   "cell_type": "code",
   "execution_count": 13,
   "metadata": {},
   "outputs": [],
   "source": [
    "top_3_countries = f500[\"country\"].value_counts().head(3)\n",
    "\n",
    "# counts of the two most common values in the industry column for companies headquartered in the USA\n",
    "industry_usa = f500.loc[f500[\"country\"] == \"USA\", \"industry\"].value_counts().head(2)\n",
    "\n",
    "# counts of the three most common values in the sector column for companies headquartered in the China.\n",
    "sector_china = f500.loc[f500[\"country\"] == \"China\", \"sector\"].value_counts().head(3)\n",
    "\n",
    "# Not literal Mean ;), if only!\n",
    "# containing the mean (average) number of employees for companies headquartered in Japan.\n",
    "mean_employees_japan = f500.loc[f500[\"country\"] == \"Japan\", \"employees\"].mean()"
   ]
  },
  {
   "cell_type": "markdown",
   "metadata": {},
   "source": [
    "## Conclusion:\n",
    "\n",
    "### Fundamentals\n",
    "- How to select data from pandas objects using boolean arrays.\n",
    "- How to assign data using labels and boolean arrays.\n",
    "- How to create new rows and columns in pandas.\n",
    "- Many new methods to make data analysis easier in pandas.\n",
    "\n",
    "Now we will continue with some advance pandas concepts"
   ]
  },
  {
   "cell_type": "markdown",
   "metadata": {},
   "source": [
    "## Exploring data with pandas: Intermediate "
   ]
  },
  {
   "cell_type": "markdown",
   "metadata": {},
   "source": [
    "We'll continue working with the 2017 Fortune Global 500 dataset as we learn more advanced selection and exploration techniques. As a reminder, the data dictionary for the main columns in the f500.csv file is below:\n",
    "- company: Name of the company.\n",
    "- rank: Global 500 rank for the company.\n",
    "- revenues: Company's total revenue for the fiscal year, in millions of dollars (USD).\n",
    "- revenue_change: Percentage change in revenue between the current and prior fiscal year.\n",
    "- profits: Net income for the fiscal year, in millions of dollars (USD).\n",
    "- sector: Sector in which the company operates.\n",
    "- previous_rank: Global 500 rank for the company for the prior year.\n",
    "- country: Country in which the company is headquartered.\n",
    "- hq_location: City and country, (or city and state for the USA) where the company is headquartered.\n",
    "- employees: Total employees (full-time equivalent, if available) at fiscal year-end."
   ]
  },
  {
   "cell_type": "code",
   "execution_count": 14,
   "metadata": {},
   "outputs": [],
   "source": [
    "import pandas as pd\n",
    "import numpy as np\n",
    "\n",
    "# Read the data into a pandas dataframe\n",
    "f500 = pd.read_csv('data/f500.csv', index_col=0)\n",
    "f500.index.name = None\n",
    "\n",
    "# Replace the 0 values in the 'previous_rank' column with NaN\n",
    "f500.loc[f500[\"previous_rank\"] == 0, \"previous_rank\"] = np.nan\n",
    "\n",
    "f500_selection = f500[[\"rank\", \"revenues\", \"revenue_change\"]].head() # select the top 5 rows from the resp columns"
   ]
  },
  {
   "cell_type": "markdown",
   "metadata": {},
   "source": [
    "### Reading CSV files with pandas\n",
    "```\n",
    "f500 = pd.read_csv(\"f500.csv\", index_col=0)\n",
    "f500.index.name = None\n",
    "```\n",
    "\n",
    "When we compared the files, the index axis labels are actaully the values of the first column in the dataset. ```company```\n",
    "\n",
    "The ```index_col``` parameter is an optional argument and should specify which column to use as the row labels for the dataframe. When we used a value of ```0```, we specified that we wanted to use the first column as the row labels."
   ]
  },
  {
   "cell_type": "code",
   "execution_count": 15,
   "metadata": {},
   "outputs": [],
   "source": [
    "f500 = pd.read_csv('data/f500.csv') # without the index_col parameter\n",
    "f500.loc[f500[\"previous_rank\"] == 0, \"previous_rank\"] = np.nan"
   ]
  },
  {
   "cell_type": "markdown",
   "metadata": {},
   "source": [
    "### Using iloc to select by integer position\n",
    "\n"
   ]
  },
  {
   "cell_type": "markdown",
   "metadata": {},
   "source": [
    "We read our CSV file into pandas again. However, this time, we didn't use the ```index_col``` parameter\n",
    "\n",
    "There are two differences with this approach:\n",
    "- The company column is now included as a regular column, instead of being used for the index.\n",
    "- The index labels are now integers starting from 0.\n",
    "\n",
    "In some scenarios, using labels to make selections makes things easier — in others though, it makes things harder.\n",
    "- Just like in NumPy, we can also use integer positions to select data using ```Dataframe.iloc[]``` and ```Series.iloc[]```. It's easy to get ```loc[]``` and ```iloc[]``` confused at first, but the easiest way is to remember the first letter of each method:\n",
    "    - __l__oc: __l__abel based selection\n",
    "    - __i__loc: __integer__ position based selection\n",
    "- Using ```iloc[]``` is almost identical to indexing with NumPy, with integer positions starting at 0 like ndarrays and Python lists.\n",
    "\n",
    "The full syntax for ```DataFrame.iloc[]```, in pseudocode, is:\n",
    "\n",
    "```df.iloc[row_index, column_index]```"
   ]
  },
  {
   "cell_type": "code",
   "execution_count": 16,
   "metadata": {},
   "outputs": [],
   "source": [
    "fifth_row = f500.iloc[4] # 5th row of the f500 dataframe\n",
    "\n",
    "company_value = f500.iloc[0, 0] # selct the first row of the first column 'company'"
   ]
  },
  {
   "cell_type": "markdown",
   "metadata": {},
   "source": [
    "Recall that ```loc[]``` handles slicing differently:\n",
    "- With ```loc[]```, the ending slice __is__ included.\n",
    "- With ```iloc[]```, the ending slice __is not__ included.\n",
    "\n",
    "The table below summarizes how we can use ```DataFrame.iloc[]``` and ```Series.iloc[]``` to select by integer position:\n",
    "\n",
    "| Select by integer position | Explicit Syntax | Shorthand Convention |\n",
    "| -------------------------- | --------------- | -------------------- |\n",
    "| Single column from dataframe | ```df.iloc[:,3]``` |  |\n",
    "| List of columns from dataframe | ```df.iloc[:,[3,5,6]]``` |  |\n",
    "| Slice of columns from dataframe | ```df.iloc[:,3:7]``` |  |\n",
    "| Single row from dataframe | ```df.iloc[20]``` |  |\n",
    "| List of rows from dataframe | ```df.iloc[[0,3,8]]``` |  |\n",
    "| Slice of rows from dataframe | ```df.iloc[3:5]``` | ```df[3:5]``` |\n",
    "| Single items from series | ```s.iloc[8]``` | ```s[8]``` |\n",
    "| List of item from series | ```s.iloc[[2,8,1]]``` | ```s[[2,8,1]]``` |\n",
    "| Slice of items from series | ```s.iloc[5:10]``` | ```s[5:10]``` |"
   ]
  },
  {
   "cell_type": "code",
   "execution_count": 17,
   "metadata": {},
   "outputs": [],
   "source": [
    "first_three_rows = f500.iloc[:3]\n",
    "first_seventh_row_slice = f500.iloc[[0, 6], :5] # First and Seventh row, first five columns"
   ]
  },
  {
   "cell_type": "markdown",
   "metadata": {},
   "source": [
    "### Using pandas methods to create boolean masks\n",
    "\n",
    "There are a number of pandas methods that return boolean masks useful for exploring data.\n",
    "\n",
    "Two examples are the ```Series.isnull()``` method and ```Series.notnull()``` method. These can be used to select either rows that contain null (or NaN) values or rows that do __not__ contain null values for a certain column."
   ]
  },
  {
   "cell_type": "code",
   "execution_count": 18,
   "metadata": {},
   "outputs": [
    {
     "data": {
      "text/html": [
       "<div>\n",
       "<style scoped>\n",
       "    .dataframe tbody tr th:only-of-type {\n",
       "        vertical-align: middle;\n",
       "    }\n",
       "\n",
       "    .dataframe tbody tr th {\n",
       "        vertical-align: top;\n",
       "    }\n",
       "\n",
       "    .dataframe thead th {\n",
       "        text-align: right;\n",
       "    }\n",
       "</style>\n",
       "<table border=\"1\" class=\"dataframe\">\n",
       "  <thead>\n",
       "    <tr style=\"text-align: right;\">\n",
       "      <th></th>\n",
       "      <th>company</th>\n",
       "      <th>rank</th>\n",
       "      <th>previous_rank</th>\n",
       "    </tr>\n",
       "  </thead>\n",
       "  <tbody>\n",
       "    <tr>\n",
       "      <th>48</th>\n",
       "      <td>Legal &amp; General Group</td>\n",
       "      <td>49</td>\n",
       "      <td>NaN</td>\n",
       "    </tr>\n",
       "    <tr>\n",
       "      <th>90</th>\n",
       "      <td>Uniper</td>\n",
       "      <td>91</td>\n",
       "      <td>NaN</td>\n",
       "    </tr>\n",
       "    <tr>\n",
       "      <th>123</th>\n",
       "      <td>Dell Technologies</td>\n",
       "      <td>124</td>\n",
       "      <td>NaN</td>\n",
       "    </tr>\n",
       "    <tr>\n",
       "      <th>138</th>\n",
       "      <td>Anbang Insurance Group</td>\n",
       "      <td>139</td>\n",
       "      <td>NaN</td>\n",
       "    </tr>\n",
       "    <tr>\n",
       "      <th>140</th>\n",
       "      <td>Albertsons Cos.</td>\n",
       "      <td>141</td>\n",
       "      <td>NaN</td>\n",
       "    </tr>\n",
       "  </tbody>\n",
       "</table>\n",
       "</div>"
      ],
      "text/plain": [
       "                    company  rank  previous_rank\n",
       "48    Legal & General Group    49            NaN\n",
       "90                   Uniper    91            NaN\n",
       "123       Dell Technologies   124            NaN\n",
       "138  Anbang Insurance Group   139            NaN\n",
       "140         Albertsons Cos.   141            NaN"
      ]
     },
     "execution_count": 18,
     "metadata": {},
     "output_type": "execute_result"
    }
   ],
   "source": [
    "# Select all rows that have NULL in previous_rank column\n",
    "# Select all values from the \"company\", \"rank\" and \"previous_rank\" columns only\n",
    "null_previous_rank = f500[f500[\"previous_rank\"].isnull()]\n",
    "null_previous_rank[[\"company\", \"rank\", \"previous_rank\"]].head()"
   ]
  },
  {
   "cell_type": "markdown",
   "metadata": {},
   "source": [
    "### Working with Integer Labels\n",
    "\n",
    "If we wanted to select the first company from our new `null_previous_rank` dataframe by integer position, we can use `DataFrame.iloc[]`\n",
    "\n",
    "If we use `DataFrame.loc[]` instead of `DataFrame.iloc[]`\n",
    "- We get an error, telling us that the the `label [0] is not in the [index]`. Recall that `DataFrame.loc[]` is used for _label_ based selection:\n",
    "    - __l__oc: __l__abel based selection\n",
    "    - __i__loc: __integer__ position based selection"
   ]
  },
  {
   "cell_type": "code",
   "execution_count": 19,
   "metadata": {},
   "outputs": [],
   "source": [
    "top5_null_prev_rank = null_previous_rank.iloc[:5]"
   ]
  },
  {
   "cell_type": "markdown",
   "metadata": {},
   "source": [
    "### Pandas Index Alignment\n",
    "\n",
    "Now that we've identified the rows with null values in the previous_rank column, let's use the `Series.notnull()` method to exclude them from the next part of our analysis.\n",
    "\n",
    "Another powerful aspect of pandas is that almost every operation will __align on the index labels__.\n",
    "\n",
    "Pandas will also:\n",
    "- Discard any items that have an index that doesn't match the dataframe (like arugula).\n",
    "- Fill any remaining rows with NaN.\n",
    "\n",
    "The pandas library will align on index at every opportunity, no matter if our index labels are strings or integers - this makes working with data from different sources or working with data when we have removed, added, or reordered rows much easier than it would be otherwise."
   ]
  },
  {
   "cell_type": "code",
   "execution_count": 20,
   "metadata": {},
   "outputs": [],
   "source": [
    "# select all rows from f500 that have a non-null value\n",
    "previously_ranked = f500[f500[\"previous_rank\"].notnull()]\n",
    "# subtract the rank column from the previous_rank column\n",
    "rank_change = previously_ranked[\"previous_rank\"] - previously_ranked[\"rank\"]\n",
    "# Assign the values in the rank_change to a new column in the f500 dataframe\n",
    "f500[\"rank_change\"] = rank_change"
   ]
  },
  {
   "cell_type": "markdown",
   "metadata": {},
   "source": [
    "### Using Boolean Operators\n",
    "\n",
    "Boolean indexing is a powerful tool which allows us to select or exclude parts of our data based on their values. However, to answer more complex questions, we need to learn how to combine boolean arrays.\n",
    "\n",
    "We combine boolean arrays using boolean operators. In Python, these boolean operators are and, or, and not. In pandas, the operators are slightly different:\n",
    "\n",
    "| pandas | Python equivalent | Meaning |\n",
    "| ------ | ----------------- | ------- |\n",
    "| `a & b` | `a and b` | `True` if both `a` and `b` are `True`, else `False` |\n",
    "| `a  b` | `a or b` | `True` if either `a` or `b` is `True` |\n",
    "| `~a` | `not a` | `True` if `a` is `False`, else `False` |"
   ]
  },
  {
   "cell_type": "code",
   "execution_count": 21,
   "metadata": {},
   "outputs": [],
   "source": [
    "large_revenue = f500[\"revenues\"] > 100000 # Greater than 100 billion\n",
    "# Negative profit\n",
    "negative_profits = f500[\"profits\"] < 0\n",
    "# Combine the above two\n",
    "combined = large_revenue & negative_profits\n",
    "big_rev_neg_profit = f500[combined]"
   ]
  },
  {
   "cell_type": "code",
   "execution_count": 22,
   "metadata": {},
   "outputs": [
    {
     "data": {
      "text/html": [
       "<div>\n",
       "<style scoped>\n",
       "    .dataframe tbody tr th:only-of-type {\n",
       "        vertical-align: middle;\n",
       "    }\n",
       "\n",
       "    .dataframe tbody tr th {\n",
       "        vertical-align: top;\n",
       "    }\n",
       "\n",
       "    .dataframe thead th {\n",
       "        text-align: right;\n",
       "    }\n",
       "</style>\n",
       "<table border=\"1\" class=\"dataframe\">\n",
       "  <thead>\n",
       "    <tr style=\"text-align: right;\">\n",
       "      <th></th>\n",
       "      <th>company</th>\n",
       "      <th>rank</th>\n",
       "      <th>revenues</th>\n",
       "      <th>revenue_change</th>\n",
       "      <th>profits</th>\n",
       "      <th>assets</th>\n",
       "      <th>profit_change</th>\n",
       "      <th>ceo</th>\n",
       "      <th>industry</th>\n",
       "      <th>sector</th>\n",
       "      <th>previous_rank</th>\n",
       "      <th>country</th>\n",
       "      <th>hq_location</th>\n",
       "      <th>website</th>\n",
       "      <th>years_on_global_500_list</th>\n",
       "      <th>employees</th>\n",
       "      <th>total_stockholder_equity</th>\n",
       "      <th>rank_change</th>\n",
       "    </tr>\n",
       "  </thead>\n",
       "  <tbody>\n",
       "    <tr>\n",
       "      <th>32</th>\n",
       "      <td>Japan Post Holdings</td>\n",
       "      <td>33</td>\n",
       "      <td>122990</td>\n",
       "      <td>3.6</td>\n",
       "      <td>-267.4</td>\n",
       "      <td>2631385</td>\n",
       "      <td>-107.5</td>\n",
       "      <td>Masatsugu Nagato</td>\n",
       "      <td>Insurance: Life, Health (stock)</td>\n",
       "      <td>Financials</td>\n",
       "      <td>37.0</td>\n",
       "      <td>Japan</td>\n",
       "      <td>Tokyo, Japan</td>\n",
       "      <td>http://www.japanpost.jp</td>\n",
       "      <td>21</td>\n",
       "      <td>248384</td>\n",
       "      <td>91532</td>\n",
       "      <td>4.0</td>\n",
       "    </tr>\n",
       "    <tr>\n",
       "      <th>44</th>\n",
       "      <td>Chevron</td>\n",
       "      <td>45</td>\n",
       "      <td>107567</td>\n",
       "      <td>-18.0</td>\n",
       "      <td>-497.0</td>\n",
       "      <td>260078</td>\n",
       "      <td>-110.8</td>\n",
       "      <td>John S. Watson</td>\n",
       "      <td>Petroleum Refining</td>\n",
       "      <td>Energy</td>\n",
       "      <td>31.0</td>\n",
       "      <td>USA</td>\n",
       "      <td>San Ramon, CA</td>\n",
       "      <td>http://www.chevron.com</td>\n",
       "      <td>23</td>\n",
       "      <td>55200</td>\n",
       "      <td>145556</td>\n",
       "      <td>-14.0</td>\n",
       "    </tr>\n",
       "  </tbody>\n",
       "</table>\n",
       "</div>"
      ],
      "text/plain": [
       "                company  rank  revenues  revenue_change  profits   assets  \\\n",
       "32  Japan Post Holdings    33    122990             3.6   -267.4  2631385   \n",
       "44              Chevron    45    107567           -18.0   -497.0   260078   \n",
       "\n",
       "    profit_change               ceo                         industry  \\\n",
       "32         -107.5  Masatsugu Nagato  Insurance: Life, Health (stock)   \n",
       "44         -110.8    John S. Watson               Petroleum Refining   \n",
       "\n",
       "        sector  previous_rank country    hq_location                  website  \\\n",
       "32  Financials           37.0   Japan   Tokyo, Japan  http://www.japanpost.jp   \n",
       "44      Energy           31.0     USA  San Ramon, CA   http://www.chevron.com   \n",
       "\n",
       "    years_on_global_500_list  employees  total_stockholder_equity  rank_change  \n",
       "32                        21     248384                     91532          4.0  \n",
       "44                        23      55200                    145556        -14.0  "
      ]
     },
     "execution_count": 22,
     "metadata": {},
     "output_type": "execute_result"
    }
   ],
   "source": [
    "big_rev_neg_profit"
   ]
  },
  {
   "cell_type": "markdown",
   "metadata": {},
   "source": [
    "Just like when we use a single boolean array to perform selection, we don't need to use intermediate variables. The first place we can optimize our code is by combining our two boolean arrays in a single line, instead of assigning them to the intermediate large_revenue and negative_profits variables first.\n",
    "\n",
    "```\n",
    "combined = (f500[\"revenues\"] > 100000) & (f500[\"profits\"] < 0)\n",
    "```\n",
    "\n",
    "We used parentheses around each of our boolean comparisons. This is very important — __our boolean operation will fail without parentheses__.\n",
    "\n",
    "Lastly, instead of assigning the boolean arrays to combined, we can insert the comparison directly into our selection"
   ]
  },
  {
   "cell_type": "code",
   "execution_count": 23,
   "metadata": {},
   "outputs": [],
   "source": [
    "brazil_venezuela = f500[(f500[\"country\"] == \"Brazil\") | (f500[\"country\"] == \"Venezuela\")]\n",
    "tech_outside_usa = f500[(f500[\"sector\"] == \"Technology\") & ~(f500[\"country\"] == \"USA\" )].head()"
   ]
  },
  {
   "cell_type": "code",
   "execution_count": 24,
   "metadata": {},
   "outputs": [
    {
     "data": {
      "text/html": [
       "<div>\n",
       "<style scoped>\n",
       "    .dataframe tbody tr th:only-of-type {\n",
       "        vertical-align: middle;\n",
       "    }\n",
       "\n",
       "    .dataframe tbody tr th {\n",
       "        vertical-align: top;\n",
       "    }\n",
       "\n",
       "    .dataframe thead th {\n",
       "        text-align: right;\n",
       "    }\n",
       "</style>\n",
       "<table border=\"1\" class=\"dataframe\">\n",
       "  <thead>\n",
       "    <tr style=\"text-align: right;\">\n",
       "      <th></th>\n",
       "      <th>company</th>\n",
       "      <th>rank</th>\n",
       "      <th>revenues</th>\n",
       "      <th>revenue_change</th>\n",
       "      <th>profits</th>\n",
       "      <th>assets</th>\n",
       "      <th>profit_change</th>\n",
       "      <th>ceo</th>\n",
       "      <th>industry</th>\n",
       "      <th>sector</th>\n",
       "      <th>previous_rank</th>\n",
       "      <th>country</th>\n",
       "      <th>hq_location</th>\n",
       "      <th>website</th>\n",
       "      <th>years_on_global_500_list</th>\n",
       "      <th>employees</th>\n",
       "      <th>total_stockholder_equity</th>\n",
       "      <th>rank_change</th>\n",
       "    </tr>\n",
       "  </thead>\n",
       "  <tbody>\n",
       "    <tr>\n",
       "      <th>74</th>\n",
       "      <td>Petrobras</td>\n",
       "      <td>75</td>\n",
       "      <td>81405</td>\n",
       "      <td>-16.3</td>\n",
       "      <td>-4838.0</td>\n",
       "      <td>246983</td>\n",
       "      <td>NaN</td>\n",
       "      <td>Pedro Pullen Parente</td>\n",
       "      <td>Petroleum Refining</td>\n",
       "      <td>Energy</td>\n",
       "      <td>58.0</td>\n",
       "      <td>Brazil</td>\n",
       "      <td>Rio de Janeiro, Brazil</td>\n",
       "      <td>http://www.petrobras.com.br</td>\n",
       "      <td>23</td>\n",
       "      <td>68829</td>\n",
       "      <td>76779</td>\n",
       "      <td>-17.0</td>\n",
       "    </tr>\n",
       "    <tr>\n",
       "      <th>112</th>\n",
       "      <td>Itau Unibanco Holding</td>\n",
       "      <td>113</td>\n",
       "      <td>66876</td>\n",
       "      <td>21.4</td>\n",
       "      <td>6666.4</td>\n",
       "      <td>415972</td>\n",
       "      <td>-13.7</td>\n",
       "      <td>Candido Botelho Bracher</td>\n",
       "      <td>Banks: Commercial and Savings</td>\n",
       "      <td>Financials</td>\n",
       "      <td>159.0</td>\n",
       "      <td>Brazil</td>\n",
       "      <td>Sao Paulo, Brazil</td>\n",
       "      <td>http://www.itau.com.br</td>\n",
       "      <td>4</td>\n",
       "      <td>94779</td>\n",
       "      <td>37680</td>\n",
       "      <td>46.0</td>\n",
       "    </tr>\n",
       "    <tr>\n",
       "      <th>150</th>\n",
       "      <td>Banco do Brasil</td>\n",
       "      <td>151</td>\n",
       "      <td>58093</td>\n",
       "      <td>-13.4</td>\n",
       "      <td>2013.8</td>\n",
       "      <td>426416</td>\n",
       "      <td>-52.3</td>\n",
       "      <td>Paulo Rogerio Caffarelli</td>\n",
       "      <td>Banks: Commercial and Savings</td>\n",
       "      <td>Financials</td>\n",
       "      <td>115.0</td>\n",
       "      <td>Brazil</td>\n",
       "      <td>Brasilia, Brazil</td>\n",
       "      <td>http://www.bb.com.br</td>\n",
       "      <td>23</td>\n",
       "      <td>100622</td>\n",
       "      <td>26551</td>\n",
       "      <td>-36.0</td>\n",
       "    </tr>\n",
       "    <tr>\n",
       "      <th>153</th>\n",
       "      <td>Banco Bradesco</td>\n",
       "      <td>154</td>\n",
       "      <td>57443</td>\n",
       "      <td>31.3</td>\n",
       "      <td>5127.9</td>\n",
       "      <td>366418</td>\n",
       "      <td>-5.7</td>\n",
       "      <td>Luiz Carlos Trabuco Cappi</td>\n",
       "      <td>Banks: Commercial and Savings</td>\n",
       "      <td>Financials</td>\n",
       "      <td>209.0</td>\n",
       "      <td>Brazil</td>\n",
       "      <td>Osasco, Brazil</td>\n",
       "      <td>http://www.bradesco.com.br</td>\n",
       "      <td>21</td>\n",
       "      <td>94541</td>\n",
       "      <td>32369</td>\n",
       "      <td>55.0</td>\n",
       "    </tr>\n",
       "    <tr>\n",
       "      <th>190</th>\n",
       "      <td>JBS</td>\n",
       "      <td>191</td>\n",
       "      <td>48825</td>\n",
       "      <td>-0.1</td>\n",
       "      <td>107.7</td>\n",
       "      <td>31605</td>\n",
       "      <td>-92.3</td>\n",
       "      <td>Wesley Mendonca Batista</td>\n",
       "      <td>Food Production</td>\n",
       "      <td>Food, Beverages &amp; Tobacco</td>\n",
       "      <td>185.0</td>\n",
       "      <td>Brazil</td>\n",
       "      <td>Sao Paulo, Brazil</td>\n",
       "      <td>http://jbss.infoinvest.com.br</td>\n",
       "      <td>8</td>\n",
       "      <td>237061</td>\n",
       "      <td>7307</td>\n",
       "      <td>-6.0</td>\n",
       "    </tr>\n",
       "  </tbody>\n",
       "</table>\n",
       "</div>"
      ],
      "text/plain": [
       "                   company  rank  revenues  revenue_change  profits  assets  \\\n",
       "74               Petrobras    75     81405           -16.3  -4838.0  246983   \n",
       "112  Itau Unibanco Holding   113     66876            21.4   6666.4  415972   \n",
       "150        Banco do Brasil   151     58093           -13.4   2013.8  426416   \n",
       "153         Banco Bradesco   154     57443            31.3   5127.9  366418   \n",
       "190                    JBS   191     48825            -0.1    107.7   31605   \n",
       "\n",
       "     profit_change                        ceo                       industry  \\\n",
       "74             NaN       Pedro Pullen Parente             Petroleum Refining   \n",
       "112          -13.7    Candido Botelho Bracher  Banks: Commercial and Savings   \n",
       "150          -52.3   Paulo Rogerio Caffarelli  Banks: Commercial and Savings   \n",
       "153           -5.7  Luiz Carlos Trabuco Cappi  Banks: Commercial and Savings   \n",
       "190          -92.3    Wesley Mendonca Batista                Food Production   \n",
       "\n",
       "                        sector  previous_rank country             hq_location  \\\n",
       "74                      Energy           58.0  Brazil  Rio de Janeiro, Brazil   \n",
       "112                 Financials          159.0  Brazil       Sao Paulo, Brazil   \n",
       "150                 Financials          115.0  Brazil        Brasilia, Brazil   \n",
       "153                 Financials          209.0  Brazil          Osasco, Brazil   \n",
       "190  Food, Beverages & Tobacco          185.0  Brazil       Sao Paulo, Brazil   \n",
       "\n",
       "                           website  years_on_global_500_list  employees  \\\n",
       "74     http://www.petrobras.com.br                        23      68829   \n",
       "112         http://www.itau.com.br                         4      94779   \n",
       "150           http://www.bb.com.br                        23     100622   \n",
       "153     http://www.bradesco.com.br                        21      94541   \n",
       "190  http://jbss.infoinvest.com.br                         8     237061   \n",
       "\n",
       "     total_stockholder_equity  rank_change  \n",
       "74                      76779        -17.0  \n",
       "112                     37680         46.0  \n",
       "150                     26551        -36.0  \n",
       "153                     32369         55.0  \n",
       "190                      7307         -6.0  "
      ]
     },
     "execution_count": 24,
     "metadata": {},
     "output_type": "execute_result"
    }
   ],
   "source": [
    "brazil_venezuela.head()"
   ]
  },
  {
   "cell_type": "code",
   "execution_count": 25,
   "metadata": {},
   "outputs": [
    {
     "data": {
      "text/html": [
       "<div>\n",
       "<style scoped>\n",
       "    .dataframe tbody tr th:only-of-type {\n",
       "        vertical-align: middle;\n",
       "    }\n",
       "\n",
       "    .dataframe tbody tr th {\n",
       "        vertical-align: top;\n",
       "    }\n",
       "\n",
       "    .dataframe thead th {\n",
       "        text-align: right;\n",
       "    }\n",
       "</style>\n",
       "<table border=\"1\" class=\"dataframe\">\n",
       "  <thead>\n",
       "    <tr style=\"text-align: right;\">\n",
       "      <th></th>\n",
       "      <th>company</th>\n",
       "      <th>rank</th>\n",
       "      <th>revenues</th>\n",
       "      <th>revenue_change</th>\n",
       "      <th>profits</th>\n",
       "      <th>assets</th>\n",
       "      <th>profit_change</th>\n",
       "      <th>ceo</th>\n",
       "      <th>industry</th>\n",
       "      <th>sector</th>\n",
       "      <th>previous_rank</th>\n",
       "      <th>country</th>\n",
       "      <th>hq_location</th>\n",
       "      <th>website</th>\n",
       "      <th>years_on_global_500_list</th>\n",
       "      <th>employees</th>\n",
       "      <th>total_stockholder_equity</th>\n",
       "      <th>rank_change</th>\n",
       "    </tr>\n",
       "  </thead>\n",
       "  <tbody>\n",
       "    <tr>\n",
       "      <th>14</th>\n",
       "      <td>Samsung Electronics</td>\n",
       "      <td>15</td>\n",
       "      <td>173957</td>\n",
       "      <td>-2.0</td>\n",
       "      <td>19316.5</td>\n",
       "      <td>217104</td>\n",
       "      <td>16.8</td>\n",
       "      <td>Oh-Hyun Kwon</td>\n",
       "      <td>Electronics, Electrical Equip.</td>\n",
       "      <td>Technology</td>\n",
       "      <td>13.0</td>\n",
       "      <td>South Korea</td>\n",
       "      <td>Suwon, South Korea</td>\n",
       "      <td>http://www.samsung.com</td>\n",
       "      <td>23</td>\n",
       "      <td>325000</td>\n",
       "      <td>154376</td>\n",
       "      <td>-2.0</td>\n",
       "    </tr>\n",
       "    <tr>\n",
       "      <th>26</th>\n",
       "      <td>Hon Hai Precision Industry</td>\n",
       "      <td>27</td>\n",
       "      <td>135129</td>\n",
       "      <td>-4.3</td>\n",
       "      <td>4608.8</td>\n",
       "      <td>80436</td>\n",
       "      <td>-0.4</td>\n",
       "      <td>Terry Gou</td>\n",
       "      <td>Electronics, Electrical Equip.</td>\n",
       "      <td>Technology</td>\n",
       "      <td>25.0</td>\n",
       "      <td>Taiwan</td>\n",
       "      <td>New Taipei City, Taiwan</td>\n",
       "      <td>http://www.foxconn.com</td>\n",
       "      <td>13</td>\n",
       "      <td>726772</td>\n",
       "      <td>33476</td>\n",
       "      <td>-2.0</td>\n",
       "    </tr>\n",
       "    <tr>\n",
       "      <th>70</th>\n",
       "      <td>Hitachi</td>\n",
       "      <td>71</td>\n",
       "      <td>84558</td>\n",
       "      <td>1.2</td>\n",
       "      <td>2134.3</td>\n",
       "      <td>86742</td>\n",
       "      <td>48.8</td>\n",
       "      <td>Toshiaki Higashihara</td>\n",
       "      <td>Electronics, Electrical Equip.</td>\n",
       "      <td>Technology</td>\n",
       "      <td>79.0</td>\n",
       "      <td>Japan</td>\n",
       "      <td>Tokyo, Japan</td>\n",
       "      <td>http://www.hitachi.com</td>\n",
       "      <td>23</td>\n",
       "      <td>303887</td>\n",
       "      <td>26632</td>\n",
       "      <td>8.0</td>\n",
       "    </tr>\n",
       "    <tr>\n",
       "      <th>82</th>\n",
       "      <td>Huawei Investment &amp; Holding</td>\n",
       "      <td>83</td>\n",
       "      <td>78511</td>\n",
       "      <td>24.9</td>\n",
       "      <td>5579.4</td>\n",
       "      <td>63837</td>\n",
       "      <td>-5.0</td>\n",
       "      <td>Ren Zhengfei</td>\n",
       "      <td>Network and Other Communications Equipment</td>\n",
       "      <td>Technology</td>\n",
       "      <td>129.0</td>\n",
       "      <td>China</td>\n",
       "      <td>Shenzhen, China</td>\n",
       "      <td>http://www.huawei.com</td>\n",
       "      <td>8</td>\n",
       "      <td>180000</td>\n",
       "      <td>20159</td>\n",
       "      <td>46.0</td>\n",
       "    </tr>\n",
       "    <tr>\n",
       "      <th>104</th>\n",
       "      <td>Sony</td>\n",
       "      <td>105</td>\n",
       "      <td>70170</td>\n",
       "      <td>3.9</td>\n",
       "      <td>676.4</td>\n",
       "      <td>158519</td>\n",
       "      <td>-45.1</td>\n",
       "      <td>Kazuo Hirai</td>\n",
       "      <td>Electronics, Electrical Equip.</td>\n",
       "      <td>Technology</td>\n",
       "      <td>113.0</td>\n",
       "      <td>Japan</td>\n",
       "      <td>Tokyo, Japan</td>\n",
       "      <td>http://www.sony.net</td>\n",
       "      <td>23</td>\n",
       "      <td>128400</td>\n",
       "      <td>22415</td>\n",
       "      <td>8.0</td>\n",
       "    </tr>\n",
       "  </tbody>\n",
       "</table>\n",
       "</div>"
      ],
      "text/plain": [
       "                         company  rank  revenues  revenue_change  profits  \\\n",
       "14           Samsung Electronics    15    173957            -2.0  19316.5   \n",
       "26    Hon Hai Precision Industry    27    135129            -4.3   4608.8   \n",
       "70                       Hitachi    71     84558             1.2   2134.3   \n",
       "82   Huawei Investment & Holding    83     78511            24.9   5579.4   \n",
       "104                         Sony   105     70170             3.9    676.4   \n",
       "\n",
       "     assets  profit_change                   ceo  \\\n",
       "14   217104           16.8          Oh-Hyun Kwon   \n",
       "26    80436           -0.4             Terry Gou   \n",
       "70    86742           48.8  Toshiaki Higashihara   \n",
       "82    63837           -5.0          Ren Zhengfei   \n",
       "104  158519          -45.1           Kazuo Hirai   \n",
       "\n",
       "                                       industry      sector  previous_rank  \\\n",
       "14               Electronics, Electrical Equip.  Technology           13.0   \n",
       "26               Electronics, Electrical Equip.  Technology           25.0   \n",
       "70               Electronics, Electrical Equip.  Technology           79.0   \n",
       "82   Network and Other Communications Equipment  Technology          129.0   \n",
       "104              Electronics, Electrical Equip.  Technology          113.0   \n",
       "\n",
       "         country              hq_location                 website  \\\n",
       "14   South Korea       Suwon, South Korea  http://www.samsung.com   \n",
       "26        Taiwan  New Taipei City, Taiwan  http://www.foxconn.com   \n",
       "70         Japan             Tokyo, Japan  http://www.hitachi.com   \n",
       "82         China          Shenzhen, China   http://www.huawei.com   \n",
       "104        Japan             Tokyo, Japan     http://www.sony.net   \n",
       "\n",
       "     years_on_global_500_list  employees  total_stockholder_equity  \\\n",
       "14                         23     325000                    154376   \n",
       "26                         13     726772                     33476   \n",
       "70                         23     303887                     26632   \n",
       "82                          8     180000                     20159   \n",
       "104                        23     128400                     22415   \n",
       "\n",
       "     rank_change  \n",
       "14          -2.0  \n",
       "26          -2.0  \n",
       "70           8.0  \n",
       "82          46.0  \n",
       "104          8.0  "
      ]
     },
     "execution_count": 25,
     "metadata": {},
     "output_type": "execute_result"
    }
   ],
   "source": [
    "tech_outside_usa"
   ]
  },
  {
   "cell_type": "markdown",
   "metadata": {},
   "source": [
    "### Sorting Values\n",
    "\n",
    "By default, the `sort_values()` method will sort the rows in _ascending_ order — from smallest to largest.\n",
    "\n",
    "To sort the rows in _descending_ order instead, so the company with the largest number of employees appears first, we can set the `ascending` parameter to `False`"
   ]
  },
  {
   "cell_type": "code",
   "execution_count": 26,
   "metadata": {},
   "outputs": [],
   "source": [
    "Japan = f500[f500[\"country\"] == \"Japan\"] # Select Japanese companies only\n",
    "Japan_sorted = Japan.sort_values(\"employees\", ascending=False) # Sort the rows in descending order\n",
    "first_row = Japan_sorted.iloc[0]\n",
    "top_japanese_employer = first_row.loc[\"company\"]"
   ]
  },
  {
   "cell_type": "code",
   "execution_count": 27,
   "metadata": {},
   "outputs": [
    {
     "data": {
      "text/plain": [
       "'Toyota Motor'"
      ]
     },
     "execution_count": 27,
     "metadata": {},
     "output_type": "execute_result"
    }
   ],
   "source": [
    "top_japanese_employer"
   ]
  },
  {
   "cell_type": "markdown",
   "metadata": {},
   "source": [
    "### Using Loops with pandas\n",
    "\n",
    "We've explicitly avoided using loops in pandas because one of the key benefits of pandas is that it has vectorized methods to work with data more efficiently. We'll learn how to use loops for __aggregation__.\n",
    "- Aggregation is where we apply a statistical operation to groups of our data.\n",
    "\n",
    "Let's say that we wanted to calculate the average revenue for each country in the data set. Our process might look like this:\n",
    "- Identify each unique country in the data set.\n",
    "- For each country:\n",
    "    - Select only the rows corresponding to that country.\n",
    "    - Calculate the average revenue for those rows.\n",
    "\n",
    "To identify the unique countries, we can use the `Series.unique()` method. This method returns an array of unique values from any series. Then, we can loop over that array and perform our operation."
   ]
  },
  {
   "cell_type": "code",
   "execution_count": 28,
   "metadata": {},
   "outputs": [],
   "source": [
    "# Create an empty dictionary\n",
    "top_employer_by_country = {}\n",
    "\n",
    "country_unique = f500[\"country\"].unique() # Select an array of unique country names\n",
    "\n",
    "for country in country_unique:\n",
    "    rows = f500[f500[\"country\"] == country] # Select all rows that fits the country\n",
    "    rows_sorted = rows.sort_values(\"employees\", ascending=False) # Sort by the employees column in DESC order\n",
    "    first_row = rows_sorted.iloc[0] # Select first row\n",
    "    company = first_row.loc[\"company\"] # Select the company name (col 1, Index 0)\n",
    "    top_employer_by_country[country] = company"
   ]
  },
  {
   "cell_type": "code",
   "execution_count": 29,
   "metadata": {},
   "outputs": [
    {
     "data": {
      "text/plain": [
       "{'Australia': 'Wesfarmers',\n",
       " 'Belgium': 'Anheuser-Busch InBev',\n",
       " 'Brazil': 'JBS',\n",
       " 'Britain': 'Compass Group',\n",
       " 'Canada': 'George Weston',\n",
       " 'China': 'China National Petroleum',\n",
       " 'Denmark': 'Maersk Group',\n",
       " 'Finland': 'Nokia',\n",
       " 'France': 'Sodexo',\n",
       " 'Germany': 'Volkswagen',\n",
       " 'India': 'State Bank of India',\n",
       " 'Indonesia': 'Pertamina',\n",
       " 'Ireland': 'Accenture',\n",
       " 'Israel': 'Teva Pharmaceutical Industries',\n",
       " 'Italy': 'Poste Italiane',\n",
       " 'Japan': 'Toyota Motor',\n",
       " 'Luxembourg': 'ArcelorMittal',\n",
       " 'Malaysia': 'Petronas',\n",
       " 'Mexico': 'America Movil',\n",
       " 'Netherlands': 'EXOR Group',\n",
       " 'Norway': 'Statoil',\n",
       " 'Russia': 'Gazprom',\n",
       " 'Saudi Arabia': 'SABIC',\n",
       " 'Singapore': 'Flex',\n",
       " 'South Korea': 'Samsung Electronics',\n",
       " 'Spain': 'Banco Santander',\n",
       " 'Sweden': 'H & M Hennes & Mauritz',\n",
       " 'Switzerland': 'Nestle',\n",
       " 'Taiwan': 'Hon Hai Precision Industry',\n",
       " 'Thailand': 'PTT',\n",
       " 'Turkey': 'Koc Holding',\n",
       " 'U.A.E': 'Emirates Group',\n",
       " 'USA': 'Walmart',\n",
       " 'Venezuela': 'Mercantil Servicios Financieros'}"
      ]
     },
     "execution_count": 29,
     "metadata": {},
     "output_type": "execute_result"
    }
   ],
   "source": [
    "top_employer_by_country"
   ]
  },
  {
   "cell_type": "markdown",
   "metadata": {},
   "source": [
    "## Challenge: Calculating Return on Assets by Country\n",
    "\n",
    "The column we create is going to contain a metric called __return on assets (ROA)__. ROA is a business-specific metric which indicates a companies ability to make profit using their available assets.\n",
    "\\begin{equation}return\\ on\\ assets = \\frac{profit}{assets}\\end{equation}\n",
    "Once we've created the new column, we'll aggregate by sector, and find the company with the highest ROA from each sector."
   ]
  },
  {
   "cell_type": "code",
   "execution_count": 30,
   "metadata": {},
   "outputs": [],
   "source": [
    "f500[\"roa\"] = f500[\"profits\"] / f500[\"assets\"]\n",
    "\n",
    "top_roa_by_sector = {}\n",
    "\n",
    "sector_unique = f500[\"sector\"].unique()\n",
    "\n",
    "for sector in sector_unique:\n",
    "    rows = f500[f500[\"sector\"] == sector]\n",
    "    rows_sorted_by_roa = rows.sort_values(\"roa\", ascending=False)\n",
    "    first_row = rows_sorted_by_roa.iloc[0]\n",
    "    company = first_row.loc[\"company\"]\n",
    "    top_roa_by_sector[sector] = company"
   ]
  },
  {
   "cell_type": "code",
   "execution_count": 31,
   "metadata": {},
   "outputs": [
    {
     "data": {
      "text/plain": [
       "{'Aerospace & Defense': 'Lockheed Martin',\n",
       " 'Apparel': 'Nike',\n",
       " 'Business Services': 'Adecco Group',\n",
       " 'Chemicals': 'LyondellBasell Industries',\n",
       " 'Energy': 'National Grid',\n",
       " 'Engineering & Construction': 'Pacific Construction Group',\n",
       " 'Financials': 'Berkshire Hathaway',\n",
       " 'Food & Drug Stores': 'Publix Super Markets',\n",
       " 'Food, Beverages & Tobacco': 'Philip Morris International',\n",
       " 'Health Care': 'Gilead Sciences',\n",
       " 'Hotels, Restaurants & Leisure': 'McDonald’s',\n",
       " 'Household Products': 'Unilever',\n",
       " 'Industrials': '3M',\n",
       " 'Materials': 'CRH',\n",
       " 'Media': 'Disney',\n",
       " 'Motor Vehicles & Parts': 'Subaru',\n",
       " 'Retailing': 'H & M Hennes & Mauritz',\n",
       " 'Technology': 'Accenture',\n",
       " 'Telecommunications': 'KDDI',\n",
       " 'Transportation': 'Delta Air Lines',\n",
       " 'Wholesalers': 'McKesson'}"
      ]
     },
     "execution_count": 31,
     "metadata": {},
     "output_type": "execute_result"
    }
   ],
   "source": [
    "top_roa_by_sector"
   ]
  },
  {
   "cell_type": "markdown",
   "metadata": {},
   "source": [
    "## Conclusion: \n",
    "### Intermediate\n",
    "\n",
    "We learned how to:\n",
    "- Select columns, rows and individual items using their integer location.\n",
    "- Use pd.read_csv() to read CSV files in pandas.\n",
    "- Work with integer axis labels.\n",
    "- How to use pandas methods to produce boolean arrays.\n",
    "- Use boolean operators to combine boolean comparisons to perform more complex analysis.\n",
    "- Use index labels to align data.\n",
    "- Use aggregation to perform advanced analysis using loops."
   ]
  }
 ],
 "metadata": {
  "kernelspec": {
   "display_name": "Python 3",
   "language": "python",
   "name": "python3"
  },
  "language_info": {
   "codemirror_mode": {
    "name": "ipython",
    "version": 3
   },
   "file_extension": ".py",
   "mimetype": "text/x-python",
   "name": "python",
   "nbconvert_exporter": "python",
   "pygments_lexer": "ipython3",
   "version": "3.5.2"
  }
 },
 "nbformat": 4,
 "nbformat_minor": 4
}
