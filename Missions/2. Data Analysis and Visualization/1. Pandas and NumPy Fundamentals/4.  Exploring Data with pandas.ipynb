{
 "cells": [
  {
   "cell_type": "markdown",
   "metadata": {},
   "source": [
    "## Introduction\n",
    "\n",
    "We'll learn another way pandas makes working with data easier. It has many built-in methods and functions for common exploration and analysis tasks.\n",
    "\n",
    "__Dataset__: Fortune Global 500 list [f500.csv]\n",
    "\n",
    "__Source__: https://data.world/chasewillden/fortune-500-companies-2017\n",
    "\n",
    "Here is a data dictionary for some of the columns in the CSV:\n",
    "\n",
    "- ```company```: Name of the company.\n",
    "- ```rank```: Global 500 rank for the company.\n",
    "- ```revenues```: Company's total revenue for the fiscal year, in millions of dollars (USD).\n",
    "- ```revenue_change```: Percentage change in revenue between the current and prior fiscal year.\n",
    "- ```profits```: Net income for the fiscal year, in millions of dollars (USD).\n",
    "- ```ceo```: Company's Chief Executive Officer.\n",
    "- ```industry```: Industry in which the company operates.\n",
    "- ```sector```: Sector in which the company operates.\n",
    "- ```previous_rank```: Global 500 rank for the company for the prior year.\n",
    "- ```country```: Country in which the company is headquartered.\n",
    "- ```hq_location```: City and Country, (or City and State for the USA) where the company is headquarted.\n",
    "- ```employees```: Total employees (full-time equivalent, if available) at fiscal year-end."
   ]
  },
  {
   "cell_type": "code",
   "execution_count": 1,
   "metadata": {},
   "outputs": [
    {
     "name": "stdout",
     "output_type": "stream",
     "text": [
      "<class 'pandas.core.frame.DataFrame'>\n",
      "Index: 500 entries, Walmart to AutoNation\n",
      "Data columns (total 16 columns):\n",
      "rank                        500 non-null int64\n",
      "revenues                    500 non-null int64\n",
      "revenue_change              498 non-null float64\n",
      "profits                     499 non-null float64\n",
      "assets                      500 non-null int64\n",
      "profit_change               436 non-null float64\n",
      "ceo                         500 non-null object\n",
      "industry                    500 non-null object\n",
      "sector                      500 non-null object\n",
      "previous_rank               500 non-null int64\n",
      "country                     500 non-null object\n",
      "hq_location                 500 non-null object\n",
      "website                     500 non-null object\n",
      "years_on_global_500_list    500 non-null int64\n",
      "employees                   500 non-null int64\n",
      "total_stockholder_equity    500 non-null int64\n",
      "dtypes: float64(3), int64(7), object(6)\n",
      "memory usage: 52.7+ KB\n"
     ]
    }
   ],
   "source": [
    "import pandas as pd\n",
    "\n",
    "f500 = pd.read_csv('data/f500.csv', index_col=0)\n",
    "f500_head = f500.head(10)\n",
    "f500.info()"
   ]
  },
  {
   "cell_type": "markdown",
   "metadata": {},
   "source": [
    "### Vectorized Operations"
   ]
  },
  {
   "cell_type": "markdown",
   "metadata": {},
   "source": [
    "Just like with NumPy, we can use any of the standard Python numeric operators with series, including:\n",
    "- ```series_a + series_b``` - Addition\n",
    "- ```series_a - series_b``` - Subtraction\n",
    "- ```series_a * series_b``` - Multiplication (this is unrelated to the multiplications used in linear algebra).\n",
    "- ```series_a / series_b``` - Division"
   ]
  },
  {
   "cell_type": "code",
   "execution_count": 2,
   "metadata": {},
   "outputs": [],
   "source": [
    "rank_change = f500.loc[:, \"previous_rank\"] - f500.loc[:, \"rank\"]"
   ]
  },
  {
   "cell_type": "markdown",
   "metadata": {},
   "source": [
    "### Series Data Exploration Methods\n",
    "\n",
    "Like NumPy, pandas supports many descriptive stats methods that can help us answer these questions. Here are a few of the most useful ones (with links to documentation):\n",
    "- ```Series.max()```\n",
    "- ```Series.min()```\n",
    "- ```Series.mean()```\n",
    "- ```Series.median()```\n",
    "- ```Series.mode()```\n",
    "- ```Series.sum()```"
   ]
  },
  {
   "cell_type": "code",
   "execution_count": 3,
   "metadata": {},
   "outputs": [],
   "source": [
    "rank_change_max = rank_change.max()\n",
    "rank_change_min = rank_change.min()"
   ]
  },
  {
   "cell_type": "markdown",
   "metadata": {},
   "source": [
    "### Series Describe Method\n",
    "\n",
    "We used the Series.max() and Series.min() methods to figure out the biggest increase and decrease in rank:\n",
    "- Biggest increase in rank: 226\n",
    "- Biggest decrease in rank: -500\n",
    "\n",
    "However, according to the data dictionary, this list should only rank companies on a scale of 1 to 500. Even if the company ranked 1st in the previous year moved to 500th this year, the rank change calculated would be -499. This indicates that there is incorrect data in either the ```rank``` column or ```previous_rank``` column.\n",
    "\n",
    "We'll learn another method that can help us more quickly investigate this issue - the ```Series.describe()``` method. This method tells us how many non-null values are contained in the series, along with the mean, minimum, maximum, and other statistics."
   ]
  },
  {
   "cell_type": "markdown",
   "metadata": {},
   "source": [
    "The first statistic, __count__, is the same as for numeric columns, showing us the number of non-null values. The other three statistics are new:\n",
    "- ```unique```: Number of unique values in the series.\n",
    "- ```top```: Most common value in the series.\n",
    "- ```freq```: Frequency of the most common value."
   ]
  },
  {
   "cell_type": "code",
   "execution_count": 4,
   "metadata": {},
   "outputs": [],
   "source": [
    "rank = f500[\"rank\"]\n",
    "rank_desc = rank.describe()\n",
    "\n",
    "prev_rank = f500[\"previous_rank\"]\n",
    "prev_rank_desc = prev_rank.describe()"
   ]
  },
  {
   "cell_type": "code",
   "execution_count": 5,
   "metadata": {},
   "outputs": [
    {
     "data": {
      "text/plain": [
       "count    500.000000\n",
       "mean     222.134000\n",
       "std      146.941961\n",
       "min        0.000000\n",
       "25%       92.750000\n",
       "50%      219.500000\n",
       "75%      347.250000\n",
       "max      500.000000\n",
       "Name: previous_rank, dtype: float64"
      ]
     },
     "execution_count": 5,
     "metadata": {},
     "output_type": "execute_result"
    }
   ],
   "source": [
    "prev_rank_desc"
   ]
  },
  {
   "cell_type": "markdown",
   "metadata": {},
   "source": [
    "### Method Chaining\n",
    "\n",
    "We notice that the minimum rank is 0, which is odd! To investigate the possible cause of this issue, let's confirm the number of 0 values that appear in the previous_rank column.\n",
    "\n",
    "We can skip some of the intermediate code assignments. This is called __method chaining__ — a way to combine multiple methods together in a single line.\n",
    "- When writing code, always assess whether method chaining will make your code harder to read. If it does, it's always preferable to break the code into more than one line."
   ]
  },
  {
   "cell_type": "code",
   "execution_count": 6,
   "metadata": {},
   "outputs": [],
   "source": [
    "# Count the number of zeros in our previous_rank column\n",
    "zero_previous_rank = f500[\"previous_rank\"].value_counts().loc[0]"
   ]
  },
  {
   "cell_type": "markdown",
   "metadata": {},
   "source": [
    "### Dataframe Exploration Methods\n",
    "\n",
    "We confirmed that 33 companies in the dataframe have a value of 0 in the previous_rank column. Given that multiple companies have a 0 rank, we might conclude that these companies didn't have a rank at all for the previous year. It would make more sense for us to replace these values with a null value instead.\n",
    "\n",
    "Because series and dataframes are two distinct objects, they have their own unique methods. However, there are many times where both series and dataframe objects have a method of the same name that behaves in similar ways. Below are some examples:\n",
    "- ```Series.max()``` and ```DataFrame.max()```\n",
    "- ```Series.min()``` and ```DataFrame.min()```\n",
    "- ```Series.mean()``` and ```DataFrame.mean()```\n",
    "- ```Series.median()``` and ```DataFrame.median()```\n",
    "- ```Series.mode()``` and ```DataFrame.mode()```\n",
    "- ```Series.sum()``` and ```DataFrame.sum()```\n",
    "\n",
    "Unlike their series counterparts, dataframe methods require an _axis parameter_ so we know which axis to calculate across. While you can use integers to refer to the first and second axis, pandas dataframe methods also accept the strings ```\"index\"``` and ```\"columns\"``` for the axis parameter"
   ]
  },
  {
   "cell_type": "code",
   "execution_count": 7,
   "metadata": {},
   "outputs": [],
   "source": [
    "# find the maximum value for only the numeric columns from f500\n",
    "max_f500 = f500[[\"rank\", \"revenues\", \"revenue_change\", \"profits\", \"assets\", \"profit_change\", \"previous_rank\", \"years_on_global_500_list\", \"employees\", \"total_stockholder_equity\"]].max(axis=0)"
   ]
  },
  {
   "cell_type": "code",
   "execution_count": null,
   "metadata": {},
   "outputs": [],
   "source": []
  }
 ],
 "metadata": {
  "kernelspec": {
   "display_name": "Python 3",
   "language": "python",
   "name": "python3"
  },
  "language_info": {
   "codemirror_mode": {
    "name": "ipython",
    "version": 3
   },
   "file_extension": ".py",
   "mimetype": "text/x-python",
   "name": "python",
   "nbconvert_exporter": "python",
   "pygments_lexer": "ipython3",
   "version": "3.5.2"
  }
 },
 "nbformat": 4,
 "nbformat_minor": 4
}
