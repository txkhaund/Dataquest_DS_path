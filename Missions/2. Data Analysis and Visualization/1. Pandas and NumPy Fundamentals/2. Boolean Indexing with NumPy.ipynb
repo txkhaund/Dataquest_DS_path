{
 "cells": [
  {
   "cell_type": "markdown",
   "metadata": {},
   "source": [
    "### Reading CSV files with NumPy\n",
    "\n",
    "How to use the __numpy.genfromtxt()__ function to read files into NumPy ndarrays. Here is the simplified syntax for the function, and an explanation of the two parameters:\n",
    "\n",
    "```\n",
    "np.genfromtxt(filename, delimiter=None)\n",
    "```\n",
    "where:\n",
    "- filename: A positional argument, usually a string representing the path to the text file to be read.\n",
    "- delimiter: A named argument, specifying the string used to separate each value."
   ]
  },
  {
   "cell_type": "code",
   "execution_count": 1,
   "metadata": {},
   "outputs": [
    {
     "data": {
      "text/plain": [
       "(89561, 15)"
      ]
     },
     "execution_count": 1,
     "metadata": {},
     "output_type": "execute_result"
    }
   ],
   "source": [
    "import numpy as np\n",
    "\n",
    "# Read a CSV file\n",
    "taxi = np.genfromtxt('data/nyc_taxis.csv', delimiter=',')\n",
    "\n",
    "taxi_shape = taxi.shape\n",
    "\n",
    "taxi_shape"
   ]
  },
  {
   "cell_type": "markdown",
   "metadata": {},
   "source": [
    "In our previous data import code, we converted all the values to floats before we converted the list of lists to a ndarray. That's because NumPy ndarrays can contain only _one datatype_.\n",
    "\n",
    "In this case, using _genfromtxt()_, NumPy attempts to determine the data type of the file by looking at the values.\n",
    "\n",
    "NumPy chose the float64 type, since it will allow most of the values from our CSV to be read. You can think of NumPy's float64 type as being identical to Python's float type (the \"64\" refers to the number of bits used to store the underlying value).\n",
    "\n",
    "NaN is an acronym for __Not a Number__ - it literally means that the value cannot be stored as a number. It is similar to (and often referred to as a) null value, like Python's None constant.\n",
    "\n",
    "NaN is most commonly seen when a value is missing, but in this case, we have NaN values because the first line from our CSV file contains the names of each column. NumPy is unable to convert string values like pickup_year into the float64 data type.\n",
    "\n",
    "Alternatively, we can pass an additional parameter, __skip_header__, to the _numpy.genfromtxt()_ function. The skip_header parameter accepts an integer, the number of rows from the start of the file to skip.\n",
    "- Note that because this integer should be the number of rows and not the index, skipping the first row would require a value of 1, not 0."
   ]
  },
  {
   "cell_type": "code",
   "execution_count": 2,
   "metadata": {},
   "outputs": [
    {
     "data": {
      "text/plain": [
       "(89560, 15)"
      ]
     },
     "execution_count": 2,
     "metadata": {},
     "output_type": "execute_result"
    }
   ],
   "source": [
    "taxi = np.genfromtxt('data/nyc_taxis.csv', delimiter=',', skip_header=1) # Remove the header row\n",
    "\n",
    "taxi_shape = taxi.shape\n",
    "taxi_shape"
   ]
  },
  {
   "cell_type": "markdown",
   "metadata": {},
   "source": [
    "### Boolean Arrays\n",
    "\n",
    "A __boolean array__, as the name suggests, is an array of boolean values.\n",
    "- Boolean arrays are sometimes called __boolean vectors__ or __boolean masks__\n",
    "\n",
    "The boolean (or bool) type is a built-in Python type that can be one of two unique values:\n",
    "- True\n",
    "- False"
   ]
  },
  {
   "cell_type": "code",
   "execution_count": 3,
   "metadata": {},
   "outputs": [],
   "source": [
    "a = np.array([1, 2, 3, 4, 5])\n",
    "b = np.array([\"blue\", \"blue\", \"red\", \"blue\"])\n",
    "c = np.array([80.0, 103.4, 96.9, 200.3])\n",
    "\n",
    "a_bool = a < 3\n",
    "b_bool = b == 'blue'\n",
    "c_bool = c > 100"
   ]
  },
  {
   "cell_type": "markdown",
   "metadata": {},
   "source": [
    "### Boolean Indexing with 1D ndarrays\n",
    "\n",
    "To index using our new boolean array, we simply insert it in the square brackets.\n",
    "\n",
    "The boolean array acts as a filter, so that the values corresponding to True become part of the result and the values corresponding to False are removed."
   ]
  },
  {
   "cell_type": "code",
   "execution_count": 4,
   "metadata": {},
   "outputs": [
    {
     "name": "stdout",
     "output_type": "stream",
     "text": [
      "13481\n"
     ]
    },
    {
     "data": {
      "text/plain": [
       "13333"
      ]
     },
     "execution_count": 4,
     "metadata": {},
     "output_type": "execute_result"
    }
   ],
   "source": [
    "pickup_month = taxi[:, 1]\n",
    "\n",
    "january_bool = pickup_month == 1\n",
    "\n",
    "january = pickup_month[january_bool] # Filter out all False values / entries\n",
    "\n",
    "january_rides = january.shape[0]\n",
    "\n",
    "print(january_rides)\n",
    "\n",
    "# Now to check number of rides in the month of February\n",
    "february_bool = pickup_month == 2\n",
    "\n",
    "february = pickup_month[february_bool]\n",
    "\n",
    "february_rides = february.shape[0]\n",
    "\n",
    "february_rides"
   ]
  },
  {
   "cell_type": "markdown",
   "metadata": {},
   "source": [
    "### Boolean Indexing with 2D ndarrays\n",
    "\n",
    "When working with 2D ndarrays, you can use boolean indexing in combination with any of the indexing methods.\n",
    "-  The only limitation is that the boolean array must have the same length as the dimension you're indexing.\n",
    "\n",
    "Because a boolean array contains no information about how it was created, we can use a boolean array made from just one column of our array to index the whole array."
   ]
  },
  {
   "cell_type": "code",
   "execution_count": 5,
   "metadata": {},
   "outputs": [],
   "source": [
    "# examine the rows that have the highest values for the tip_amount column\n",
    "tip_amount = taxi[:, 12]\n",
    "\n",
    "tip_bool = tip_amount > 50\n",
    "\n",
    "top_tips = taxi[tip_bool, 5:14]"
   ]
  },
  {
   "cell_type": "markdown",
   "metadata": {},
   "source": [
    "### Assigning Values in ndarrays\n",
    "\n",
    "Syntax:\n",
    "```\n",
    "ndarray[location_of_values] = new_value\n",
    "```"
   ]
  },
  {
   "cell_type": "code",
   "execution_count": 6,
   "metadata": {},
   "outputs": [],
   "source": [
    "# this creates a copy of our taxi ndarray\n",
    "taxi_modified = taxi.copy()\n",
    "\n",
    "taxi_modified[28214,5] = 1 # The pickup location is 0. which is incorrect\n",
    "\n",
    "# Change the year format from YYYY to YY since all of them are 2016\n",
    "taxi_modified[:, 0] = 16\n",
    "\n",
    "taxi_modified[1800:1802, 7] = taxi_modified[:, 7].mean()"
   ]
  },
  {
   "cell_type": "markdown",
   "metadata": {},
   "source": [
    "### Assignment Using Boolean Arrays\n",
    "- Boolean arrays become very powerful when we use them for assignment.\n",
    "- The boolean array controls the values that the assignment applies to, and the other values remain unchanged.\n",
    "\n",
    "\"shortcut\" - we inserted the definition of the boolean array directly into the selection. This \"shortcut\" is the conventional way to write boolean indexing."
   ]
  },
  {
   "cell_type": "code",
   "execution_count": 7,
   "metadata": {},
   "outputs": [],
   "source": [
    "# this creates a copy of our taxi ndarray\n",
    "taxi_copy = taxi.copy()\n",
    "\n",
    "total_amount = taxi_copy[:, 13]\n",
    "total_amount[total_amount < 0] = 0"
   ]
  },
  {
   "cell_type": "markdown",
   "metadata": {},
   "source": [
    "The pseudocode syntax for this code is as follows, first using an intermediate variable:\n",
    "\n",
    "```\n",
    "bool = array[:, column_for_comparison] == value_for_comparison\n",
    "array[bool, column_for_assignment] = new_value\n",
    "```\n",
    "and then all in one line:\n",
    "```\n",
    "array[array[:, column_for_comparison] == value_for_comparison, column_for_assignment] = new_value\n",
    "```\n",
    "\n",
    "We have created a new copy of our taxi dataset, taxi_modified with an additional column containing the value 0 for every row."
   ]
  },
  {
   "cell_type": "code",
   "execution_count": 8,
   "metadata": {},
   "outputs": [
    {
     "name": "stdout",
     "output_type": "stream",
     "text": [
      "[[2.016e+03 1.000e+00 1.000e+00 ... 6.999e+01 1.000e+00 0.000e+00]\n",
      " [2.016e+03 1.000e+00 1.000e+00 ... 5.430e+01 1.000e+00 0.000e+00]\n",
      " [2.016e+03 1.000e+00 1.000e+00 ... 3.780e+01 2.000e+00 0.000e+00]\n",
      " ...\n",
      " [2.016e+03 6.000e+00 3.000e+01 ... 6.334e+01 1.000e+00 0.000e+00]\n",
      " [2.016e+03 6.000e+00 3.000e+01 ... 4.475e+01 1.000e+00 0.000e+00]\n",
      " [2.016e+03 6.000e+00 3.000e+01 ... 5.484e+01 2.000e+00 0.000e+00]]\n"
     ]
    }
   ],
   "source": [
    "# create a new column filled with '0'\n",
    "zeros = np.zeros([taxi.shape[0], 1])\n",
    "taxi_modified = np.concatenate([taxi, zeros], axis=1)\n",
    "print(taxi_modified)\n",
    "\n",
    "# JFK Airport modification\n",
    "taxi_modified[taxi_modified[:, 5] == 2, 15] = 1\n",
    "\n",
    "# LaGuardia Airport modification\n",
    "taxi_modified[taxi_modified[:, 5] == 3, 15] = 1\n",
    "\n",
    "# Newark Airport modification\n",
    "taxi_modified[taxi_modified[:, 5] == 5, 15] = 1"
   ]
  },
  {
   "cell_type": "markdown",
   "metadata": {},
   "source": [
    "## Challenge 1: Which is the most popular airport?\n",
    "\n",
    "To do that, we'll use boolean indexing to create three filtered arrays and then look at how many rows are in each array. We'll need to check if the __dropoff_location_code__ column (column index 6) is equal to one of the following values:\n",
    "\n",
    "- 2: JFK Airport\n",
    "- 3: LaGuardia Airport\n",
    "- 5: Newark Airport."
   ]
  },
  {
   "cell_type": "code",
   "execution_count": 9,
   "metadata": {},
   "outputs": [],
   "source": [
    "# JFK Airport drop offs\n",
    "jfk = taxi[taxi[:, 6] == 2]\n",
    "jfk_count = jfk.shape[0]\n",
    "\n",
    "# LaGuardia Airport drop offs\n",
    "laguardia = taxi[taxi[:, 6] == 3]\n",
    "laguardia_count = laguardia.shape[0]\n",
    "\n",
    "# Newark Airport drop offs\n",
    "newark = taxi[taxi[:, 6] == 5]\n",
    "newark_count = newark.shape[0]"
   ]
  },
  {
   "cell_type": "code",
   "execution_count": 10,
   "metadata": {},
   "outputs": [
    {
     "name": "stdout",
     "output_type": "stream",
     "text": [
      "11832 16602 63\n"
     ]
    }
   ],
   "source": [
    "print(jfk_count, laguardia_count, newark_count)"
   ]
  },
  {
   "cell_type": "markdown",
   "metadata": {},
   "source": [
    "Looks like LaGuardia Airport has the most drop offs in our dataset."
   ]
  },
  {
   "cell_type": "markdown",
   "metadata": {},
   "source": [
    "## Challenge 2: Calculating Statistics for Trips on Clean Data\n",
    "\n",
    "We need to remove bad data from our dataset and calculating some descriptive statistics on the remaining \"clean\" data.\n",
    "\n",
    "We'll start by using boolean indexing to remove any rows that have an average speed for the trip greater than 100 mph (160 kph) which should remove the questionable data we have worked with over the past two missions. Then, we'll use array methods to calculate the mean for specific columns of the remaining data. The columns we're interested in are:\n",
    "\n",
    "- trip_distance, at column index 7\n",
    "- trip_length, at column index 8\n",
    "- total_amount, at column index 13"
   ]
  },
  {
   "cell_type": "code",
   "execution_count": 11,
   "metadata": {},
   "outputs": [],
   "source": [
    "trip_mph = taxi[:, 7] / (taxi[:, 8] / 3600)\n",
    "\n",
    "# Create a new ndarray containing only rows where trip_mph are less than 100\n",
    "cleaned_taxi = taxi[trip_mph < 100]\n",
    "mean_distance = cleaned_taxi[:, 7].mean()\n",
    "mean_length = cleaned_taxi[:, 8].mean()\n",
    "mean_total_amount = cleaned_taxi[:, 13].mean()"
   ]
  },
  {
   "cell_type": "markdown",
   "metadata": {},
   "source": [
    "### Conclusion\n",
    "\n",
    "In this mission we learned:\n",
    "\n",
    "- How to use numpy.genfromtxt() to read in an ndarray.\n",
    "- About NaN values.\n",
    "- What a boolean array is, and how to create one.\n",
    "- How to use boolean indexing to filter values in one and two-dimensional ndarrays.\n",
    "- How to assign one or more new values to an ndarray based on their locations.\n",
    "- How to assign one or more new values to an ndarray based on their values."
   ]
  }
 ],
 "metadata": {
  "kernelspec": {
   "display_name": "Python 3",
   "language": "python",
   "name": "python3"
  },
  "language_info": {
   "codemirror_mode": {
    "name": "ipython",
    "version": 3
   },
   "file_extension": ".py",
   "mimetype": "text/x-python",
   "name": "python",
   "nbconvert_exporter": "python",
   "pygments_lexer": "ipython3",
   "version": "3.5.2"
  }
 },
 "nbformat": 4,
 "nbformat_minor": 4
}
