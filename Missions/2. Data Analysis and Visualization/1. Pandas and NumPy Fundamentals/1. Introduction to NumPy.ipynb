{
 "cells": [
  {
   "cell_type": "markdown",
   "metadata": {},
   "source": [
    "### Introduction to Ndarrays\n",
    "\n",
    "The core data structure in NumPy is the __ndarray__ or __n-dimensional array__. In programming, __array__ describes a collection of elements, similar to a list. The word __n-dimensional__ refers to the fact that ndarrays can have one or more dimensions. We'll start by working with one-dimensional (1D) ndarrays.\n",
    "\n",
    "__Syntax:__\n",
    "\n",
    "_import numpy as np_\n",
    "\n",
    "We can directly convert a list to an ndarray using the _numpy.array()_ constructor. To create a 1D ndarray, we can pass in a single list"
   ]
  },
  {
   "cell_type": "code",
   "execution_count": 1,
   "metadata": {},
   "outputs": [],
   "source": [
    "# Importing the library\n",
    "import numpy as np\n",
    "\n",
    "# Create a NumPy array\n",
    "data_ndarray = np.array([10, 20, 30])"
   ]
  },
  {
   "cell_type": "markdown",
   "metadata": {},
   "source": [
    "### Understanding Vectorization\n",
    "Example: Read 8 rows of data (two cols) and calculate the sum\n",
    "\n",
    "Using regular Python code with list of lists and for loops, our computer would take eight processor cycles to process the eight rows of our data.\n",
    "\n",
    "The NumPy library takes advantage of a processor feature called __Single Instruction Multiple Data (SIMD)__ to process data faster. SIMD allows a processor to perform the same operation, on multiple data points, in a single processor cycle\n",
    "\n",
    "As a result, the NumPy version of our code would only take two processor cycles — a four times speed-up! This concept of replacing for loops with operations applied to multiple data points at once is called __vectorization__ and ndarrays make vectorization possible."
   ]
  },
  {
   "cell_type": "markdown",
   "metadata": {},
   "source": [
    "### NYC Tax-Airport Data\n",
    "\n",
    "source: https://www1.nyc.gov/site/tlc/about/tlc-trip-record-data.page\n",
    "\n",
    "For this project, we'll only work with a subset of this data - approximately 90,000 yellow taxi trips to and from New York City airports between January and June 2016. Below is information about selected columns from the data set:\n",
    "\n",
    "- _pickup_year_: The year of the trip.\n",
    "- _pickup_month_: The month of the trip (January is 1, December is 12).\n",
    "- _pickup_day_: The day of the month of the trip.\n",
    "- _pickup_location_code_: The airport or borough where the trip started.\n",
    "- _dropoff_location_code_: The airport or borough where the trip finished.\n",
    "- _trip_distance_: The distance of the trip in miles.\n",
    "- _trip_length_: The length of the trip in seconds.\n",
    "- _fare_amount_: The base fare of the trip, in dollars.\n",
    "- _total_amount_: The total amount charged to the passenger, including all fees, tolls and tips."
   ]
  },
  {
   "cell_type": "markdown",
   "metadata": {},
   "source": [
    "To convert the data set into a 2D ndarray, we'll first use Python's built-in __csv__ module to import our CSV as a \"list of lists\". Then, we'll convert the list of lists to an ndarray. We'll again use the _numpy.array()_ constructor, but to create a 2D ndarray, we'll pass in our list of lists instead of a single list"
   ]
  },
  {
   "cell_type": "code",
   "execution_count": 2,
   "metadata": {},
   "outputs": [],
   "source": [
    "# Library imports\n",
    "import csv\n",
    "import numpy as np\n",
    "\n",
    "# read dataset into list of lists\n",
    "input_file = open('data/nyc_taxis.csv')\n",
    "read_file = csv.reader(input_file)\n",
    "taxi_list = list(read_file)\n",
    "\n",
    "# remove the header row\n",
    "taxi_list = taxi_list[1:]\n",
    "\n",
    "# convert all values to float\n",
    "converted_taxi_list = []\n",
    "for row in taxi_list:\n",
    "    converted_row = []\n",
    "    for item in row:\n",
    "        converted_row.append(float(item))\n",
    "    converted_taxi_list.append(converted_row)\n",
    "    \n",
    "# Using NumPy araay constructor\n",
    "taxi = np.array(converted_taxi_list)"
   ]
  },
  {
   "cell_type": "markdown",
   "metadata": {},
   "source": [
    "### Array Shapes\n",
    "\n",
    "It's often useful to know the number of rows and columns in an ndarray. When we can't easily print the entire ndarray, we can use the ndarray.shape attribute instead.\n",
    "\n",
    "The data type returned is called a tuple. Tuples are very similar to Python lists, but can't be modified.\n",
    "\n",
    "The output gives us a few important pieces of information:\n",
    "- The first number tells us num of rows in data_ndarray.\n",
    "- The second number tells us num of cols 3 columns in data_ndarray."
   ]
  },
  {
   "cell_type": "code",
   "execution_count": 3,
   "metadata": {},
   "outputs": [
    {
     "data": {
      "text/plain": [
       "(89560, 15)"
      ]
     },
     "execution_count": 3,
     "metadata": {},
     "output_type": "execute_result"
    }
   ],
   "source": [
    "# Assign the array shape to a new variable\n",
    "taxi_shape = taxi.shape\n",
    "taxi_shape"
   ]
  },
  {
   "cell_type": "markdown",
   "metadata": {},
   "source": [
    "### Selecting and Slicing Rows and Items from ndarrays\n",
    "\n",
    "For any 2D array, the full syntax for selecting data is:\n",
    "\n",
    "__ndarray[row_index,column_index]__\n",
    "###### # or if you want to select all\n",
    "###### # columns for a given set of rows\n",
    "__ndarray[row_index]__\n",
    "\n",
    "Where row_index defines the location along the row axis and column_index defines the location along the column axis.\n",
    "\n",
    "#### Selection:\n",
    "- With a list of lists, we use two separate pairs of square brackets back-to-back.\n",
    "- With a NumPy ndarray, we use a single pair of brackets with comma-separated row and column locations."
   ]
  },
  {
   "cell_type": "code",
   "execution_count": null,
   "metadata": {},
   "outputs": [],
   "source": []
  }
 ],
 "metadata": {
  "kernelspec": {
   "display_name": "Python 3",
   "language": "python",
   "name": "python3"
  },
  "language_info": {
   "codemirror_mode": {
    "name": "ipython",
    "version": 3
   },
   "file_extension": ".py",
   "mimetype": "text/x-python",
   "name": "python",
   "nbconvert_exporter": "python",
   "pygments_lexer": "ipython3",
   "version": "3.5.2"
  }
 },
 "nbformat": 4,
 "nbformat_minor": 4
}
