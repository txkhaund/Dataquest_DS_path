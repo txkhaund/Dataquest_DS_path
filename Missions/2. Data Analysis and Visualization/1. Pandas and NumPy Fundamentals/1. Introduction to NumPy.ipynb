{
 "cells": [
  {
   "cell_type": "markdown",
   "metadata": {},
   "source": [
    "### Introduction to Ndarrays\n",
    "\n",
    "The core data structure in NumPy is the __ndarray__ or __n-dimensional array__. In programming, __array__ describes a collection of elements, similar to a list. The word __n-dimensional__ refers to the fact that ndarrays can have one or more dimensions. We'll start by working with one-dimensional (1D) ndarrays.\n",
    "\n",
    "__Syntax:__\n",
    "\n",
    "_import numpy as np_\n",
    "\n",
    "We can directly convert a list to an ndarray using the _numpy.array()_ constructor. To create a 1D ndarray, we can pass in a single list"
   ]
  },
  {
   "cell_type": "code",
   "execution_count": 1,
   "metadata": {},
   "outputs": [],
   "source": [
    "# Importing the library\n",
    "import numpy as np\n",
    "\n",
    "# Create a NumPy array\n",
    "data_ndarray = np.array([10, 20, 30])"
   ]
  },
  {
   "cell_type": "markdown",
   "metadata": {},
   "source": [
    "### Understanding Vectorization\n",
    "Example: Read 8 rows of data (two cols) and calculate the sum\n",
    "\n",
    "Using regular Python code with list of lists and for loops, our computer would take eight processor cycles to process the eight rows of our data.\n",
    "\n",
    "The NumPy library takes advantage of a processor feature called __Single Instruction Multiple Data (SIMD)__ to process data faster. SIMD allows a processor to perform the same operation, on multiple data points, in a single processor cycle\n",
    "\n",
    "As a result, the NumPy version of our code would only take two processor cycles — a four times speed-up! This concept of replacing for loops with operations applied to multiple data points at once is called __vectorization__ and ndarrays make vectorization possible."
   ]
  },
  {
   "cell_type": "markdown",
   "metadata": {},
   "source": [
    "### NYC Tax-Airport Data\n",
    "\n",
    "source: https://www1.nyc.gov/site/tlc/about/tlc-trip-record-data.page\n",
    "\n",
    "For this project, we'll only work with a subset of this data - approximately 90,000 yellow taxi trips to and from New York City airports between January and June 2016. Below is information about selected columns from the data set:\n",
    "\n",
    "- _pickup_year_: The year of the trip.\n",
    "- _pickup_month_: The month of the trip (January is 1, December is 12).\n",
    "- _pickup_day_: The day of the month of the trip.\n",
    "- _pickup_location_code_: The airport or borough where the trip started.\n",
    "- _dropoff_location_code_: The airport or borough where the trip finished.\n",
    "- _trip_distance_: The distance of the trip in miles.\n",
    "- _trip_length_: The length of the trip in seconds.\n",
    "- _fare_amount_: The base fare of the trip, in dollars.\n",
    "- _total_amount_: The total amount charged to the passenger, including all fees, tolls and tips."
   ]
  },
  {
   "cell_type": "markdown",
   "metadata": {},
   "source": [
    "To convert the data set into a 2D ndarray, we'll first use Python's built-in __csv__ module to import our CSV as a \"list of lists\". Then, we'll convert the list of lists to an ndarray. We'll again use the _numpy.array()_ constructor, but to create a 2D ndarray, we'll pass in our list of lists instead of a single list"
   ]
  },
  {
   "cell_type": "code",
   "execution_count": 2,
   "metadata": {},
   "outputs": [],
   "source": [
    "# Library imports\n",
    "import csv\n",
    "import numpy as np\n",
    "\n",
    "# read dataset into list of lists\n",
    "input_file = open('data/nyc_taxis.csv')\n",
    "read_file = csv.reader(input_file)\n",
    "taxi_list = list(read_file)\n",
    "\n",
    "# remove the header row\n",
    "taxi_list = taxi_list[1:]\n",
    "\n",
    "# convert all values to float\n",
    "converted_taxi_list = []\n",
    "for row in taxi_list:\n",
    "    converted_row = []\n",
    "    for item in row:\n",
    "        converted_row.append(float(item))\n",
    "    converted_taxi_list.append(converted_row)\n",
    "    \n",
    "# Using NumPy araay constructor\n",
    "taxi = np.array(converted_taxi_list)"
   ]
  },
  {
   "cell_type": "markdown",
   "metadata": {},
   "source": [
    "### Array Shapes\n",
    "\n",
    "It's often useful to know the number of rows and columns in an ndarray. When we can't easily print the entire ndarray, we can use the ndarray.shape attribute instead.\n",
    "\n",
    "The data type returned is called a tuple. Tuples are very similar to Python lists, but can't be modified.\n",
    "\n",
    "The output gives us a few important pieces of information:\n",
    "- The first number tells us num of rows in data_ndarray.\n",
    "- The second number tells us num of cols 3 columns in data_ndarray."
   ]
  },
  {
   "cell_type": "code",
   "execution_count": 3,
   "metadata": {},
   "outputs": [
    {
     "data": {
      "text/plain": [
       "(89560, 15)"
      ]
     },
     "execution_count": 3,
     "metadata": {},
     "output_type": "execute_result"
    }
   ],
   "source": [
    "# Assign the array shape to a new variable\n",
    "taxi_shape = taxi.shape\n",
    "taxi_shape"
   ]
  },
  {
   "cell_type": "markdown",
   "metadata": {},
   "source": [
    "### Selecting and Slicing Rows and Items from ndarrays\n",
    "\n",
    "For any 2D array, the full syntax for selecting data is:\n",
    "\n",
    "__ndarray[row_index,column_index]__\n",
    "###### # or if you want to select all\n",
    "###### # columns for a given set of rows\n",
    "__ndarray[row_index]__\n",
    "\n",
    "Where row_index defines the location along the row axis and column_index defines the location along the column axis.\n",
    "\n",
    "#### Selection:\n",
    "- With a list of lists, we use two separate pairs of square brackets back-to-back.\n",
    "- With a NumPy ndarray, we use a single pair of brackets with comma-separated row and column locations."
   ]
  },
  {
   "cell_type": "code",
   "execution_count": 4,
   "metadata": {},
   "outputs": [],
   "source": [
    "#Select the row at index 0\n",
    "row_0 = taxi[0]\n",
    "\n",
    "# Select every column for the rows at indexes 391 to 500 inclusive.\n",
    "rows_391_to_500 = taxi[391:501]\n",
    "\n",
    "#Select the item at row index 21 and column index 5\n",
    "row_21_column_5 = taxi[21, 5]"
   ]
  },
  {
   "cell_type": "markdown",
   "metadata": {},
   "source": [
    "### Selecting Columns and Custom Slicing ndarrays"
   ]
  },
  {
   "cell_type": "code",
   "execution_count": 5,
   "metadata": {},
   "outputs": [],
   "source": [
    "# Select every row for the columns at indexes 1, 4, and 7\n",
    "cols = [1, 4, 7]\n",
    "columns_1_4_7 = taxi[:,cols]\n",
    "\n",
    "# Select the columns at indexes 5 to 8 inclusive for the row at index 99\n",
    "row_99_columns_5_to_8 = taxi[99, 5:9]\n",
    "\n",
    "# Select the rows at indexes 100 to 200 inclusive for the column at index 14\n",
    "rows_100_to_200_column_14 = taxi[100:201, 14]"
   ]
  },
  {
   "cell_type": "markdown",
   "metadata": {},
   "source": [
    "### Vector Math\n",
    "\n",
    "NumPy ndarrays allow us to select data much more easily. Beyond this, the selection we make is a lot faster when working with __vectorized operations__ because the operations are applied to multiple data points at once.\n",
    "\n",
    "The result of adding two 1D ndarrays is a 1D ndarray of the same shape (or dimensions) as the original.\n",
    "- In this context, ndarrays can also be called __vectors__, a term taken from a branch of mathematics called linear algebra.\n",
    "- What we just did, adding two vectors together, is called __vector addition__."
   ]
  },
  {
   "cell_type": "code",
   "execution_count": 6,
   "metadata": {},
   "outputs": [],
   "source": [
    "fare_amount = taxi[:, 9]\n",
    "fees_amount = taxi[:, 10]\n",
    "\n",
    "fare_and_fees = fare_amount + fees_amount"
   ]
  },
  {
   "cell_type": "markdown",
   "metadata": {},
   "source": [
    "Let's use the columns _trip_distance_ & _trip_length_ to calculate the average travel speed of each trip in miles per hour. The formula for calculating miles per hour is:\n",
    "\n",
    "$$\n",
    "miles per hour (m.p.h) = [distance in miles] / [length in hours]\n",
    "$$"
   ]
  },
  {
   "cell_type": "code",
   "execution_count": 7,
   "metadata": {},
   "outputs": [
    {
     "data": {
      "text/plain": [
       "array([37.11340206, 38.58157895, 31.27222982, ..., 22.29907867,\n",
       "       42.41551247, 36.90473407])"
      ]
     },
     "execution_count": 7,
     "metadata": {},
     "output_type": "execute_result"
    }
   ],
   "source": [
    "trip_distance_miles = taxi[:, 7]\n",
    "trip_length_seconds = taxi[:, 8]\n",
    "\n",
    "trip_length_hrs = trip_length_seconds / 3600   # 3600 seconds is 1 hour\n",
    "\n",
    "# Calculate miles per hour\n",
    "trip_mph = trip_distance_miles / trip_length_hrs\n",
    "\n",
    "trip_mph"
   ]
  },
  {
   "cell_type": "markdown",
   "metadata": {},
   "source": [
    "### Calculating Statistics for 1D ndarrays\n",
    "\n",
    "_trip_mph_ is a 1D ndarray of the average mile-per-hour speed of each trip."
   ]
  },
  {
   "cell_type": "code",
   "execution_count": 8,
   "metadata": {},
   "outputs": [
    {
     "name": "stdout",
     "output_type": "stream",
     "text": [
      "Min mph:  0.0\n",
      "Max mph:  82800.0\n",
      "Mean mph:  32.24258580925573\n"
     ]
    }
   ],
   "source": [
    "# calculate the minimum value of trip_mph\n",
    "mph_min = trip_mph.min()\n",
    "\n",
    "# calculate the maximum value of trip_mph\n",
    "mph_max = trip_mph.max()\n",
    "\n",
    "# calculate the average value of trip_mph\n",
    "mph_mean = trip_mph.mean()\n",
    "\n",
    "print(\"Min mph: \", mph_min)\n",
    "print(\"Max mph: \", mph_max)\n",
    "print(\"Mean mph: \", mph_mean)"
   ]
  },
  {
   "cell_type": "markdown",
   "metadata": {},
   "source": [
    "Based on our analysis, a speed of 82,800 mph is impossible in New York traffic. That's almost 20x faster than the fastest plane in the world! This could be due to an error in the devices that records the data, or perhaps errors made somewhere in the data pipeline.\n",
    "\n",
    "Before we look at other array methods, let's review the difference between methods and functions. __Functions__ act as stand alone segments of code that usually take an input, perform some processing, and return some output. For example, we can use the __len()__ function to calculate the length of a _list_ or the number of characters in a _string_.\n",
    "\n",
    "In contrast, __methods__ are special functions that belong to a specific type of _object_. This means that, for instance, when we work with list objects, there are special functions or _methods_ that can only be used with lists. For example, we can use the __list.append()__ method to add an item to the end of a list. If we try to use that method on a _string_, we will get an error!"
   ]
  },
  {
   "cell_type": "markdown",
   "metadata": {},
   "source": [
    "In NumPy, sometimes there are operations that are implemented as both methods and functions, which can be confusing.\n",
    "\n",
    "| Calculation | Function Representation | Method Representation |\n",
    "| ----------- | ----------------------- | --------------------- |\n",
    "| Calculate the minimum value of trip_mph | np.min(trip_mph) | trip_mph.min() |\n",
    "| Calculate the maximum value of trip_mph | np.max(trip_mph) | trip_mph.max() |\n",
    "| Calculate the mean average value of trip_mph | np.mean(trip_mph) | trip_mph.mean() |\n",
    "| Calculate the median average value of trip_mph | np.median(trip_mph) | There is no ndarray median method |\n",
    "\n",
    "To remember the right terminology, anything that starts with __np__ (e.g. _np.mean()_) is a function and anything expressed with an object (or variable) name first (e.g. _trip_mph.mean()_) is a method. When both exist, it's up to you to decide which to use, but it's much more common to use the method approach."
   ]
  },
  {
   "cell_type": "markdown",
   "metadata": {},
   "source": [
    "### Calculating Statistics For 2D ndarrays\n",
    "\n",
    "If we use the _ndarray.max()_ method on a 2D ndarray without any additional parameters, it will return a single value, just like with a 1D array.\n",
    "\n",
    "But what if we wanted to find the maximum value of each row?\n",
    "- We'd need to use the __axis__ parameter and specify a value of __1__ to indicate we want to calculate the maximum value for each row.\n",
    "\n",
    "If we want to find the maximum value of each column, we'd use an __axis__ value of __0__."
   ]
  },
  {
   "cell_type": "code",
   "execution_count": 9,
   "metadata": {},
   "outputs": [
    {
     "name": "stdout",
     "output_type": "stream",
     "text": [
      "[69.99 54.3  37.8  32.76 18.8 ] [69.99 54.3  37.8  32.76 18.8 ]\n"
     ]
    }
   ],
   "source": [
    "# we'll compare against the first 5 rows only\n",
    "taxi_first_five = taxi[:5]\n",
    "\n",
    "# select these columns: fare_amount, fees_amount, tolls_amount, tip_amount\n",
    "fare_components = taxi_first_five[:,9:13]\n",
    "\n",
    "# calculate the sum of each row in fare_components\n",
    "fare_sums = fare_components.sum(axis = 1)\n",
    "\n",
    "# Extract the 14th column in taxi_first_five\n",
    "fare_totals = taxi_first_five[:, 13]  # Index is 13\n",
    "\n",
    "print(fare_totals, fare_sums)"
   ]
  },
  {
   "cell_type": "markdown",
   "metadata": {},
   "source": [
    "### Summary:\n",
    "\n",
    "We learned the following:\n",
    "- How vectorization makes our code faster.\n",
    "- About n-dimensional arrays, and NumPy's ndarrays.\n",
    "- How to select specific items, rows, columns, 1D slices, and 2D slices from ndarrays.\n",
    "- How to apply simple calculations to entire ndarrays.\n",
    "- How to use vectorized methods to perform calculations across either axis of ndarrays."
   ]
  }
 ],
 "metadata": {
  "kernelspec": {
   "display_name": "Python 3",
   "language": "python",
   "name": "python3"
  },
  "language_info": {
   "codemirror_mode": {
    "name": "ipython",
    "version": 3
   },
   "file_extension": ".py",
   "mimetype": "text/x-python",
   "name": "python",
   "nbconvert_exporter": "python",
   "pygments_lexer": "ipython3",
   "version": "3.5.2"
  }
 },
 "nbformat": 4,
 "nbformat_minor": 4
}
