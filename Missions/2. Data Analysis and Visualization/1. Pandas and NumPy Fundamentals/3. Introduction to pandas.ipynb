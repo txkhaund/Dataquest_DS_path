{
 "cells": [
  {
   "cell_type": "markdown",
   "metadata": {},
   "source": [
    "## Introduction\n",
    "\n",
    "Limitations of NumPy:\n",
    "- The lack of support for column names forces us to frame questions as multi-dimensional array operations.\n",
    "- Support for only one data type per ndarray makes it more difficult to work with data that contains both numeric and string data.\n",
    "- There are lots of low level methods, but there are many common analysis patterns that don't have pre-built methods.\n",
    "\n",
    "### Understanding pandas and NumPy\n",
    "\n",
    "The __pandas__ library provides solutions to all of these pain points and more. Pandas is not so much a replacement for NumPy as an _extension_ of NumPy.\n",
    "\n",
    "The primary data structure in pandas is called a __dataframe__. Dataframes are the pandas equivalent of a Numpy 2D ndarray, with a few key differences:\n",
    "- Axis values can have string __labels__, not just numeric ones.\n",
    "- Dataframes can contain columns with __multiple data types__: including integer, float, and string."
   ]
  },
  {
   "cell_type": "markdown",
   "metadata": {},
   "source": [
    "### Introduction to the Data\n",
    "\n",
    "We will work with the data set from Fortune magazine's 2017 Global 500 list, which ranks the top 500 corporations worldwide by revenue.\n",
    "\n",
    "Source: https://data.world/chasewillden/fortune-500-companies-2017\n",
    "\n",
    "We will be using a modified version called **_f500.csv_**. The data description is as follows:\n",
    "- company: Name of the company.\n",
    "- rank: Global 500 rank for the company.\n",
    "- revenues: Company's total revenue for the fiscal year, in millions of dollars (USD).\n",
    "- revenue_change: Percentage change in revenue between the current and prior fiscal year.\n",
    "- profits: Net income for the fiscal year, in millions of dollars (USD).\n",
    "- ceo: Company's Chief Executive Officer.\n",
    "- industry: Industry in which the company operates.\n",
    "- sector: Sector in which the company operates.\n",
    "- previous_rank: Global 500 rank for the company for the prior year.\n",
    "- country: Country in which the company is headquartered."
   ]
  },
  {
   "cell_type": "code",
   "execution_count": 1,
   "metadata": {},
   "outputs": [],
   "source": [
    "# Import library\n",
    "import pandas as pd\n",
    "\n",
    "f500 = pd.read_csv('data/f500.csv', index_col=0)\n",
    "f500.index.name = None\n",
    "\n",
    "f500_type = type(f500)\n",
    "f500_shape = f500.shape"
   ]
  },
  {
   "cell_type": "markdown",
   "metadata": {},
   "source": [
    "### Introducing Dataframes\n",
    "\n",
    "Recall that one of the features that makes pandas better for working with data is its support for string column and row labels:\n",
    "- __Axis values can have string labels, not just numeric ones.__\n",
    "- Dataframes can contain columns with multiple data types: including integer, float, and string.\n",
    "\n",
    "To view the first few rows of our dataframe, we can use the ```DataFrame.head()``` method. By default, it will return the first five rows of our dataframe.\n",
    "However, it also accepts an optional integer parameter, which specifies the number of rows"
   ]
  },
  {
   "cell_type": "code",
   "execution_count": 2,
   "metadata": {},
   "outputs": [
    {
     "data": {
      "text/html": [
       "<div>\n",
       "<style scoped>\n",
       "    .dataframe tbody tr th:only-of-type {\n",
       "        vertical-align: middle;\n",
       "    }\n",
       "\n",
       "    .dataframe tbody tr th {\n",
       "        vertical-align: top;\n",
       "    }\n",
       "\n",
       "    .dataframe thead th {\n",
       "        text-align: right;\n",
       "    }\n",
       "</style>\n",
       "<table border=\"1\" class=\"dataframe\">\n",
       "  <thead>\n",
       "    <tr style=\"text-align: right;\">\n",
       "      <th></th>\n",
       "      <th>rank</th>\n",
       "      <th>revenues</th>\n",
       "      <th>revenue_change</th>\n",
       "      <th>profits</th>\n",
       "      <th>assets</th>\n",
       "      <th>profit_change</th>\n",
       "      <th>ceo</th>\n",
       "      <th>industry</th>\n",
       "      <th>sector</th>\n",
       "      <th>previous_rank</th>\n",
       "      <th>country</th>\n",
       "      <th>hq_location</th>\n",
       "      <th>website</th>\n",
       "      <th>years_on_global_500_list</th>\n",
       "      <th>employees</th>\n",
       "      <th>total_stockholder_equity</th>\n",
       "    </tr>\n",
       "  </thead>\n",
       "  <tbody>\n",
       "    <tr>\n",
       "      <th>Walmart</th>\n",
       "      <td>1</td>\n",
       "      <td>485873</td>\n",
       "      <td>0.8</td>\n",
       "      <td>13643.0</td>\n",
       "      <td>198825</td>\n",
       "      <td>-7.2</td>\n",
       "      <td>C. Douglas McMillon</td>\n",
       "      <td>General Merchandisers</td>\n",
       "      <td>Retailing</td>\n",
       "      <td>1</td>\n",
       "      <td>USA</td>\n",
       "      <td>Bentonville, AR</td>\n",
       "      <td>http://www.walmart.com</td>\n",
       "      <td>23</td>\n",
       "      <td>2300000</td>\n",
       "      <td>77798</td>\n",
       "    </tr>\n",
       "    <tr>\n",
       "      <th>State Grid</th>\n",
       "      <td>2</td>\n",
       "      <td>315199</td>\n",
       "      <td>-4.4</td>\n",
       "      <td>9571.3</td>\n",
       "      <td>489838</td>\n",
       "      <td>-6.2</td>\n",
       "      <td>Kou Wei</td>\n",
       "      <td>Utilities</td>\n",
       "      <td>Energy</td>\n",
       "      <td>2</td>\n",
       "      <td>China</td>\n",
       "      <td>Beijing, China</td>\n",
       "      <td>http://www.sgcc.com.cn</td>\n",
       "      <td>17</td>\n",
       "      <td>926067</td>\n",
       "      <td>209456</td>\n",
       "    </tr>\n",
       "    <tr>\n",
       "      <th>Sinopec Group</th>\n",
       "      <td>3</td>\n",
       "      <td>267518</td>\n",
       "      <td>-9.1</td>\n",
       "      <td>1257.9</td>\n",
       "      <td>310726</td>\n",
       "      <td>-65.0</td>\n",
       "      <td>Wang Yupu</td>\n",
       "      <td>Petroleum Refining</td>\n",
       "      <td>Energy</td>\n",
       "      <td>4</td>\n",
       "      <td>China</td>\n",
       "      <td>Beijing, China</td>\n",
       "      <td>http://www.sinopec.com</td>\n",
       "      <td>19</td>\n",
       "      <td>713288</td>\n",
       "      <td>106523</td>\n",
       "    </tr>\n",
       "  </tbody>\n",
       "</table>\n",
       "</div>"
      ],
      "text/plain": [
       "               rank  revenues  revenue_change  profits  assets  profit_change  \\\n",
       "Walmart           1    485873             0.8  13643.0  198825           -7.2   \n",
       "State Grid        2    315199            -4.4   9571.3  489838           -6.2   \n",
       "Sinopec Group     3    267518            -9.1   1257.9  310726          -65.0   \n",
       "\n",
       "                               ceo               industry     sector  \\\n",
       "Walmart        C. Douglas McMillon  General Merchandisers  Retailing   \n",
       "State Grid                 Kou Wei              Utilities     Energy   \n",
       "Sinopec Group            Wang Yupu     Petroleum Refining     Energy   \n",
       "\n",
       "               previous_rank country      hq_location                 website  \\\n",
       "Walmart                    1     USA  Bentonville, AR  http://www.walmart.com   \n",
       "State Grid                 2   China   Beijing, China  http://www.sgcc.com.cn   \n",
       "Sinopec Group              4   China   Beijing, China  http://www.sinopec.com   \n",
       "\n",
       "               years_on_global_500_list  employees  total_stockholder_equity  \n",
       "Walmart                              23    2300000                     77798  \n",
       "State Grid                           17     926067                    209456  \n",
       "Sinopec Group                        19     713288                    106523  "
      ]
     },
     "execution_count": 2,
     "metadata": {},
     "output_type": "execute_result"
    }
   ],
   "source": [
    "f500.head(3)"
   ]
  },
  {
   "cell_type": "markdown",
   "metadata": {},
   "source": [
    "Likewise, we can use the ```DataFrame.tail()``` method to show us the last rows of our dataframe"
   ]
  },
  {
   "cell_type": "code",
   "execution_count": 3,
   "metadata": {},
   "outputs": [
    {
     "data": {
      "text/html": [
       "<div>\n",
       "<style scoped>\n",
       "    .dataframe tbody tr th:only-of-type {\n",
       "        vertical-align: middle;\n",
       "    }\n",
       "\n",
       "    .dataframe tbody tr th {\n",
       "        vertical-align: top;\n",
       "    }\n",
       "\n",
       "    .dataframe thead th {\n",
       "        text-align: right;\n",
       "    }\n",
       "</style>\n",
       "<table border=\"1\" class=\"dataframe\">\n",
       "  <thead>\n",
       "    <tr style=\"text-align: right;\">\n",
       "      <th></th>\n",
       "      <th>rank</th>\n",
       "      <th>revenues</th>\n",
       "      <th>revenue_change</th>\n",
       "      <th>profits</th>\n",
       "      <th>assets</th>\n",
       "      <th>profit_change</th>\n",
       "      <th>ceo</th>\n",
       "      <th>industry</th>\n",
       "      <th>sector</th>\n",
       "      <th>previous_rank</th>\n",
       "      <th>country</th>\n",
       "      <th>hq_location</th>\n",
       "      <th>website</th>\n",
       "      <th>years_on_global_500_list</th>\n",
       "      <th>employees</th>\n",
       "      <th>total_stockholder_equity</th>\n",
       "    </tr>\n",
       "  </thead>\n",
       "  <tbody>\n",
       "    <tr>\n",
       "      <th>Wm. Morrison Supermarkets</th>\n",
       "      <td>498</td>\n",
       "      <td>21741</td>\n",
       "      <td>-11.3</td>\n",
       "      <td>406.4</td>\n",
       "      <td>11630</td>\n",
       "      <td>20.4</td>\n",
       "      <td>David T. Potts</td>\n",
       "      <td>Food and Drug Stores</td>\n",
       "      <td>Food &amp; Drug Stores</td>\n",
       "      <td>437</td>\n",
       "      <td>Britain</td>\n",
       "      <td>Bradford, Britain</td>\n",
       "      <td>http://www.morrisons.com</td>\n",
       "      <td>13</td>\n",
       "      <td>77210</td>\n",
       "      <td>5111</td>\n",
       "    </tr>\n",
       "    <tr>\n",
       "      <th>TUI</th>\n",
       "      <td>499</td>\n",
       "      <td>21655</td>\n",
       "      <td>-5.5</td>\n",
       "      <td>1151.7</td>\n",
       "      <td>16247</td>\n",
       "      <td>195.5</td>\n",
       "      <td>Friedrich Joussen</td>\n",
       "      <td>Travel Services</td>\n",
       "      <td>Business Services</td>\n",
       "      <td>467</td>\n",
       "      <td>Germany</td>\n",
       "      <td>Hanover, Germany</td>\n",
       "      <td>http://www.tuigroup.com</td>\n",
       "      <td>23</td>\n",
       "      <td>66779</td>\n",
       "      <td>3006</td>\n",
       "    </tr>\n",
       "    <tr>\n",
       "      <th>AutoNation</th>\n",
       "      <td>500</td>\n",
       "      <td>21609</td>\n",
       "      <td>3.6</td>\n",
       "      <td>430.5</td>\n",
       "      <td>10060</td>\n",
       "      <td>-2.7</td>\n",
       "      <td>Michael J. Jackson</td>\n",
       "      <td>Specialty Retailers</td>\n",
       "      <td>Retailing</td>\n",
       "      <td>0</td>\n",
       "      <td>USA</td>\n",
       "      <td>Fort Lauderdale, FL</td>\n",
       "      <td>http://www.autonation.com</td>\n",
       "      <td>12</td>\n",
       "      <td>26000</td>\n",
       "      <td>2310</td>\n",
       "    </tr>\n",
       "  </tbody>\n",
       "</table>\n",
       "</div>"
      ],
      "text/plain": [
       "                           rank  revenues  revenue_change  profits  assets  \\\n",
       "Wm. Morrison Supermarkets   498     21741           -11.3    406.4   11630   \n",
       "TUI                         499     21655            -5.5   1151.7   16247   \n",
       "AutoNation                  500     21609             3.6    430.5   10060   \n",
       "\n",
       "                           profit_change                 ceo  \\\n",
       "Wm. Morrison Supermarkets           20.4      David T. Potts   \n",
       "TUI                                195.5   Friedrich Joussen   \n",
       "AutoNation                          -2.7  Michael J. Jackson   \n",
       "\n",
       "                                       industry              sector  \\\n",
       "Wm. Morrison Supermarkets  Food and Drug Stores  Food & Drug Stores   \n",
       "TUI                             Travel Services   Business Services   \n",
       "AutoNation                  Specialty Retailers           Retailing   \n",
       "\n",
       "                           previous_rank  country          hq_location  \\\n",
       "Wm. Morrison Supermarkets            437  Britain    Bradford, Britain   \n",
       "TUI                                  467  Germany     Hanover, Germany   \n",
       "AutoNation                             0      USA  Fort Lauderdale, FL   \n",
       "\n",
       "                                             website  \\\n",
       "Wm. Morrison Supermarkets   http://www.morrisons.com   \n",
       "TUI                          http://www.tuigroup.com   \n",
       "AutoNation                 http://www.autonation.com   \n",
       "\n",
       "                           years_on_global_500_list  employees  \\\n",
       "Wm. Morrison Supermarkets                        13      77210   \n",
       "TUI                                              23      66779   \n",
       "AutoNation                                       12      26000   \n",
       "\n",
       "                           total_stockholder_equity  \n",
       "Wm. Morrison Supermarkets                      5111  \n",
       "TUI                                            3006  \n",
       "AutoNation                                     2310  "
      ]
     },
     "execution_count": 3,
     "metadata": {},
     "output_type": "execute_result"
    }
   ],
   "source": [
    "f500.tail(3)"
   ]
  },
  {
   "cell_type": "markdown",
   "metadata": {},
   "source": [
    "Another feature that makes pandas better for working with data is that dataframes can contain more than one data type:\n",
    "- Axis values can have string labels, not just numeric ones\n",
    "- __Dataframes can contain columns with multiple data types: including integer, float, and string.__\n",
    "\n",
    "We can use the ```DataFrame.dtypes``` attribute (similar to NumPy's ```ndarray.dtype``` attribute) to return information about the types of each column.\n",
    "\n",
    "- Pandas uses NumPy dtypes for numeric columns, including integer64.\n",
    "- There is also a type we haven't seen before, object, which is used for columns that have data that doesn't fit into any other dtypes.\n",
    "    - This is almost always used for columns containing string values\n",
    "    \n",
    "If we wanted an overview of all the dtypes used in our dataframe, along with its shape and other information, we could use the ```DataFrame.info()``` method.\n",
    "- Note: ```DataFrame.info()``` prints the information, rather than returning it, so we can't assign it to a variable."
   ]
  },
  {
   "cell_type": "code",
   "execution_count": 4,
   "metadata": {},
   "outputs": [
    {
     "name": "stdout",
     "output_type": "stream",
     "text": [
      "<class 'pandas.core.frame.DataFrame'>\n",
      "Index: 500 entries, Walmart to AutoNation\n",
      "Data columns (total 16 columns):\n",
      "rank                        500 non-null int64\n",
      "revenues                    500 non-null int64\n",
      "revenue_change              498 non-null float64\n",
      "profits                     499 non-null float64\n",
      "assets                      500 non-null int64\n",
      "profit_change               436 non-null float64\n",
      "ceo                         500 non-null object\n",
      "industry                    500 non-null object\n",
      "sector                      500 non-null object\n",
      "previous_rank               500 non-null int64\n",
      "country                     500 non-null object\n",
      "hq_location                 500 non-null object\n",
      "website                     500 non-null object\n",
      "years_on_global_500_list    500 non-null int64\n",
      "employees                   500 non-null int64\n",
      "total_stockholder_equity    500 non-null int64\n",
      "dtypes: float64(3), int64(7), object(6)\n",
      "memory usage: 52.7+ KB\n"
     ]
    }
   ],
   "source": [
    "f500.info()"
   ]
  },
  {
   "cell_type": "markdown",
   "metadata": {},
   "source": [
    "### Selecting a Column From a DataFrame by Label\n",
    "\n",
    "Because our axes in pandas have labels, we can select data using those labels — unlike in NumPy, where we needed to know the exact index location.\n",
    "\n",
    "To do this, we can use the ```DataFrame.loc[]``` method. The syntax for the ```DataFrame.loc[]``` method is:\n",
    "```\n",
    "df.loc[row_label, column_label]\n",
    "```"
   ]
  },
  {
   "cell_type": "code",
   "execution_count": 5,
   "metadata": {},
   "outputs": [],
   "source": [
    "industries = f500.loc[:, \"industry\"]\n",
    "industries_type = type(industries)"
   ]
  },
  {
   "cell_type": "markdown",
   "metadata": {},
   "source": [
    "#### Introduction to Series\n",
    "\n",
    "When you select just one column of a dataframe, you get a new pandas type: a __series__ object.\n",
    "- Series is the pandas type for one-dimensional objects.\n",
    "- Anytime you see a __1D__ pandas object, it will be a __series__. Anytime you see a __2D__ pandas object, it will be a __dataframe__."
   ]
  },
  {
   "cell_type": "markdown",
   "metadata": {},
   "source": [
    "We use a __list of labels__ to select specific columns. \n",
    "\n",
    "Because the object returned is two-dimensional, we know it's a dataframe, not a series. Again, instead of ```df.loc[:,[\"col1\",\"col2\"]]```  , you can also use ```df[[\"col1\", \"col2\"]]``` to select specific columns.\n",
    "\n",
    "A summary of the techniques we've learned so far is below:\n",
    "\n",
    "| Select by Label | Explicit Syntax | Common Shorthand |\n",
    "| --------------- | --------------- | ---------------- |\n",
    "| Single column | ```df.loc[:,\"col1\"]``` | ```df[\"col1\"]``` |\n",
    "| List of columns | ```df.loc[:,[\"col1\", \"col7\"]]``` | ```df[[\"col1\", \"col7\"]]``` |\n",
    "| Slice of columns | ```df.loc[:,\"col1\":\"col4\"]``` |  |"
   ]
  },
  {
   "cell_type": "code",
   "execution_count": 6,
   "metadata": {},
   "outputs": [],
   "source": [
    "countries = f500[\"country\"]\n",
    "revenues_years = f500.loc[:, [\"revenues\", \"years_on_global_500_list\"]]\n",
    "ceo_to_sector = f500.loc[:, \"ceo\":\"sector\"]"
   ]
  },
  {
   "cell_type": "markdown",
   "metadata": {},
   "source": [
    "### Selecting Rows From a DataFrame by Label\n",
    "\n",
    "- We select rows using the labels of the __index__ axis\n",
    "- We use the same syntax to select rows from a dataframe as we do for columns:\n",
    "\n",
    "```df.loc[row_label, column_label]```\n",
    "\n",
    "Note the object returned is a series because it is one-dimensional. Since this series has to store integer, float, and string values, pandas uses the ```object``` dtype, since none of the numeric types could cater for all values"
   ]
  },
  {
   "cell_type": "code",
   "execution_count": 7,
   "metadata": {},
   "outputs": [],
   "source": [
    "toyota = f500.loc[\"Toyota Motor\"]\n",
    "drink_companies = f500.loc[[\"Anheuser-Busch InBev\", \"Coca-Cola\", \"Heineken Holding\"]]\n",
    "middle_companies = f500.loc[\"Tata Motors\":\"Nationwide\", \"rank\":\"country\"]"
   ]
  },
  {
   "cell_type": "markdown",
   "metadata": {},
   "source": [
    "### Series vs Dataframes\n",
    "\n",
    "<img src=\"_images/df_series_s_updated.svg\" />\n",
    "<img src=\"_images/df_series_df_updated.svg\" />"
   ]
  },
  {
   "cell_type": "markdown",
   "metadata": {},
   "source": [
    "### Value Counts Method\n",
    "\n",
    "Because series and dataframes are two distinct objects, they have their own unique methods.\n",
    "\n",
    "The ```Series.value_counts()``` method displays each unique non-null value in a column and their counts in order.\n",
    "\n",
    "__Note:__ Since ```value_counts()``` is a series only method, we get the following error:\n",
    "\n",
    "```AttributeError: 'DataFrame' object has no attribute 'value_counts'``` if we try to run it on multiple columns"
   ]
  },
  {
   "cell_type": "code",
   "execution_count": 8,
   "metadata": {},
   "outputs": [
    {
     "data": {
      "text/plain": [
       "USA             132\n",
       "China           109\n",
       "Japan            51\n",
       "France           29\n",
       "Germany          29\n",
       "Britain          24\n",
       "South Korea      15\n",
       "Netherlands      14\n",
       "Switzerland      14\n",
       "Canada           11\n",
       "Spain             9\n",
       "Australia         7\n",
       "Brazil            7\n",
       "India             7\n",
       "Italy             7\n",
       "Taiwan            6\n",
       "Russia            4\n",
       "Ireland           4\n",
       "Singapore         3\n",
       "Sweden            3\n",
       "Mexico            2\n",
       "Luxembourg        1\n",
       "Indonesia         1\n",
       "Venezuela         1\n",
       "Norway            1\n",
       "Belgium           1\n",
       "Saudi Arabia      1\n",
       "Turkey            1\n",
       "Finland           1\n",
       "Israel            1\n",
       "Denmark           1\n",
       "Malaysia          1\n",
       "Thailand          1\n",
       "U.A.E             1\n",
       "Name: country, dtype: int64"
      ]
     },
     "execution_count": 8,
     "metadata": {},
     "output_type": "execute_result"
    }
   ],
   "source": [
    "countries = f500[\"country\"]\n",
    "countries_count = countries.value_counts()\n",
    "countries_count"
   ]
  },
  {
   "cell_type": "markdown",
   "metadata": {},
   "source": [
    "### Selecting Items from a Series by Label\n",
    "\n",
    "What if we wanted to select just the count for India? Or the counts for just the countries in North America?\n",
    "\n",
    "As with dataframes, we can use ```Series.loc[]``` to select items from a series using single labels, a list, or a slice object. We can also omit ```loc[]``` and use bracket shortcuts for all three:\n",
    "\n",
    "| Select by Label | Explicit Syntax | Shorthand Convention |\n",
    "| --------------- | --------------- | -------------------- | \n",
    "| Single item from series | ```s.loc[\"item8\"]``` | ```s[\"item8\"]``` |\n",
    "| List of items from series | ```s.loc[[\"item1\",\"item7\"]]``` | ```s[[\"item1\",\"item7\"]]``` |\n",
    "| Slice of items from series | ```s.loc[\"item2\":\"item4\"]``` | ```s[\"item2\":\"item4\"]``` |"
   ]
  },
  {
   "cell_type": "code",
   "execution_count": 9,
   "metadata": {},
   "outputs": [],
   "source": [
    "india = countries_count[\"India\"]\n",
    "north_america = countries_count[[\"USA\", \"Canada\", \"Mexico\"]]"
   ]
  },
  {
   "cell_type": "markdown",
   "metadata": {},
   "source": [
    "### Summary Challenge\n",
    "\n",
    "Let's take a look at a summary of all the different label selection methods we've learned\n",
    "\n",
    "| Select by Label | Explicit Syntax | Shorthand Convention |\n",
    "| --------------- | --------------- | -------------------- |\n",
    "| Single column from dataframe | ```df.loc[:,\"col1\"]``` | ```df[\"col1\"]``` |\n",
    "| List of columns from dataframe | ```df.loc[:,[\"col1\",\"col7\"]]``` | ```df[[\"col1\",\"col7\"]]``` |\n",
    "| Slice of columns from dataframe | ```df.loc[:,\"col1\":\"col4\"]``` |  |\n",
    "| Single row from dataframe | ```df.loc[\"row4\"]``` |  |\n",
    "| List of rows from dataframe | ```df.loc[[\"row1\", \"row8\"]]``` |  |\n",
    "| Slice of rows from dataframe | ```df.loc[\"row3\":\"row5\"]``` | ```df[\"row3\":\"row5\"]``` |\n",
    "| Single item from series | ```s.loc[\"item8\"]``` | ```s[\"item8\"]``` |\n",
    "| List of items from series | ```s.loc[[\"item1\",\"item7\"]]``` | ```s[[\"item1\",\"item7\"]]``` |\n",
    "| Slice of items from series | ```s.loc[\"item2\":\"item4\"]``` | ```s[\"item2\":\"item4\"]``` |"
   ]
  },
  {
   "cell_type": "code",
   "execution_count": 10,
   "metadata": {},
   "outputs": [],
   "source": [
    "big_movers = f500.loc[[\"Aviva\", \"HP\", \"JD.com\", \"BHP Billiton\"], [\"rank\", \"previous_rank\"]]\n",
    "\n",
    "bottom_companies = f500.loc[\"National Grid\":\"AutoNation\", [\"rank\", \"sector\", \"country\"]]"
   ]
  },
  {
   "cell_type": "markdown",
   "metadata": {},
   "source": [
    "## Conclusion:\n",
    "\n",
    "We learned:\n",
    "- How pandas and NumPy combine to make working with data easier.\n",
    "- About the two core pandas types: series and dataframes.\n",
    "- How to select data from pandas objects using axis labels"
   ]
  }
 ],
 "metadata": {
  "kernelspec": {
   "display_name": "Python 3",
   "language": "python",
   "name": "python3"
  },
  "language_info": {
   "codemirror_mode": {
    "name": "ipython",
    "version": 3
   },
   "file_extension": ".py",
   "mimetype": "text/x-python",
   "name": "python",
   "nbconvert_exporter": "python",
   "pygments_lexer": "ipython3",
   "version": "3.5.2"
  }
 },
 "nbformat": 4,
 "nbformat_minor": 4
}
