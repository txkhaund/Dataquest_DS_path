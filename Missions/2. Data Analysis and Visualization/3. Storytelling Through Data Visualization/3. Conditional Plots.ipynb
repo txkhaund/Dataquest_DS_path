{
 "cells": [
  {
   "cell_type": "markdown",
   "metadata": {},
   "source": [
    "## Introduction to Seaborn & the Dataset\n",
    "\n",
    "We'll explore how to quickly create multiple plots that are subsetted using one or more conditions. We'll be working with the __seaborn__ visualization library, which is built on top of matplotlib. Seaborn has good support for more complex plots, attractive default styles, and integrates well with the pandas library.\n",
    "\n",
    "__Data:__ We'll be working with a data set of the passengers of the Titanic. The <a href=\"https://en.wikipedia.org/wiki/Sinking_of_the_RMS_Titanic\">Titanic shipwreck</a> is the most famous shipwreck in history and led to the creation of better safety regulations for ships. One substantial safety issue was that there were not enough lifeboats for every passenger on board, which meant that some passengers were prioritized over others to use the lifeboats.\n",
    "\n",
    "__Source:__ The data set was compiled by Kaggle for their introductory data science competition, called __Titanic: Machine Learning from Disaster.__ You can download the data from <a href=\"https://www.kaggle.com/c/titanic/data\">here</a>\n",
    "\n",
    "The data for the passengers is contained in two files:\n",
    "- `train.csv`: Contains data on 712 passengers\n",
    "- `test.csv`: Contains data on 418 passengers\n",
    "\n",
    "Here are descriptions for each of the columns in train.csv:\n",
    "- `PassengerId` -- A numerical id assigned to each passenger.\n",
    "- `Survived` -- Whether the passenger survived (1), or didn't (0).\n",
    "- `Pclass` -- The class the passenger was in.\n",
    "- `Name` -- the name of the passenger.\n",
    "- `Sex` -- The gender of the passenger -- male or female.\n",
    "- `Age` -- The age of the passenger. Fractional.\n",
    "- `SibSp` -- The number of siblings and spouses the passenger had on board.\n",
    "- `Parch` -- The number of parents and children the passenger had on board.\n",
    "- `Ticket` -- The ticket number of the passenger.\n",
    "- `Fare` -- How much the passenger paid for the ticket.\n",
    "- `Cabin` -- Which cabin the passenger was in.\n",
    "- `Embarked` -- Where the passenger boarded the Titanic."
   ]
  },
  {
   "cell_type": "code",
   "execution_count": null,
   "metadata": {},
   "outputs": [],
   "source": []
  }
 ],
 "metadata": {
  "kernelspec": {
   "display_name": "Python 3",
   "language": "python",
   "name": "python3"
  },
  "language_info": {
   "codemirror_mode": {
    "name": "ipython",
    "version": 3
   },
   "file_extension": ".py",
   "mimetype": "text/x-python",
   "name": "python",
   "nbconvert_exporter": "python",
   "pygments_lexer": "ipython3",
   "version": "3.5.2"
  }
 },
 "nbformat": 4,
 "nbformat_minor": 4
}
