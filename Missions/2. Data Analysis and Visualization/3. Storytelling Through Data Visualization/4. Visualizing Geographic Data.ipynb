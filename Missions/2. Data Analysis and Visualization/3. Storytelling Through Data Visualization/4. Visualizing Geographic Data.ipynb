{
 "cells": [
  {
   "cell_type": "markdown",
   "metadata": {},
   "source": [
    "## Intro to Geographic Data\n",
    "\n",
    "From scientific fields like meteorology and climatology, through to the software on our smartphones like Google Maps and Facebook check-ins, geographic data is always present in our everyday lives. Raw geographic data like latitudes and longitudes are difficult to understand using the data charts and plots we've discussed so far. To explore this kind of data, you'll need to learn how to visualize the data on maps.\n",
    "\n",
    "__Goal:__ We'll explore the fundamentals of geographic coordinate systems and how to work with the basemap library to plot geographic data points on maps.\n",
    "\n",
    "__Data:__ We'll be working with flight data from the <a href='http://openflights.org/data.html'>openflights website</a>.\n",
    "\n",
    "Here's a breakdown of the files we'll be working with and the most pertinent columns from each dataset:\n",
    "- `airlines.csv` - data on each airline.\n",
    "    - `country` - where the airline is headquartered.\n",
    "    - `active` - if the airline is still active.\n",
    "- `airports.csv` - data on each airport.\n",
    "    - `name` - name of the airport.\n",
    "    - `city` - city the airport is located.\n",
    "    - `country` - country the airport is located.\n",
    "    - `code` - unique airport code.\n",
    "    - `latitude` - latitude value.\n",
    "    - `longitude` - longitude value.\n",
    "- `routes.csv` - data on each flight route.\n",
    "    - `airline` - airline for the route.\n",
    "    - `source` - starting city for the route.\n",
    "    - `dest` - destination city for the route."
   ]
  },
  {
   "cell_type": "code",
   "execution_count": 1,
   "metadata": {},
   "outputs": [],
   "source": [
    "# Imports\n",
    "import pandas as pd"
   ]
  },
  {
   "cell_type": "code",
   "execution_count": 2,
   "metadata": {},
   "outputs": [],
   "source": [
    "airlines = pd.read_csv('data/airlines.csv')\n",
    "airports = pd.read_csv('data/airports.csv')\n",
    "routes = pd.read_csv('data/routes.csv')"
   ]
  },
  {
   "cell_type": "code",
   "execution_count": 4,
   "metadata": {},
   "outputs": [
    {
     "name": "stdout",
     "output_type": "stream",
     "text": [
      "id                       1\n",
      "name        Private flight\n",
      "alias                   \\N\n",
      "iata                     -\n",
      "icao                   NaN\n",
      "callsign               NaN\n",
      "country                NaN\n",
      "active                   Y\n",
      "Name: 0, dtype: object\n",
      "id                              1\n",
      "name                       Goroka\n",
      "city                       Goroka\n",
      "country          Papua New Guinea\n",
      "code                          GKA\n",
      "icao                         AYGA\n",
      "latitude                 -6.08169\n",
      "longitude                 145.392\n",
      "altitude                     5282\n",
      "offset                         10\n",
      "dst                             U\n",
      "timezone     Pacific/Port_Moresby\n",
      "Name: 0, dtype: object\n",
      "airline         2B\n",
      "airline_id     410\n",
      "source         AER\n",
      "source_id     2965\n",
      "dest           KZN\n",
      "dest_id       2990\n",
      "codeshare      NaN\n",
      "stops            0\n",
      "equipment      CR2\n",
      "Name: 0, dtype: object\n"
     ]
    }
   ],
   "source": [
    "# Display the 1st row of Airlines DF\n",
    "print(airlines.iloc[0])\n",
    "# Display the 1st row of Airports DF\n",
    "print(airports.iloc[0])\n",
    "# Display the 1st row of Routes DF\n",
    "print(routes.iloc[0])"
   ]
  },
  {
   "cell_type": "markdown",
   "metadata": {},
   "source": [
    "- The best way to link the data from the three datasets is by using geographical maps or coordinate systems.\n",
    "- The latitude and longitude values are floats."
   ]
  },
  {
   "cell_type": "markdown",
   "metadata": {},
   "source": [
    "### Geographic Coordinate Systems\n",
    "\n",
    "A geographic coordinate system allows us to locate any point on Earth using latitude and longitude coordinates.\n",
    "<img src='_images/latitude_longitude.png' />\n",
    "\n",
    "- We want to visualize latitude and longitude points on two-dimensional maps. Two-dimensional maps are faster to render, easier to view on a computer and distribute, and are more familiar to the experience of popular mapping software like Google Maps.\n",
    "- Latitude and longitude values describe points on a sphere, which is three-dimensional. To plot the values on a two-dimensional plane, we need to convert the coordinates to the Cartesian coordinate system using a __map projection__.\n",
    "    - A map projection transforms points on a sphere to a two-dimensional plane. When projecting down to the two-dimensional plane, some properties are distorted."
   ]
  },
  {
   "cell_type": "markdown",
   "metadata": {},
   "source": [
    "### Installing Basemap\n",
    "\n",
    "Basemap is an extension to Matplotlib that makes it easier to work with geographic data. Basemap makes it easy to convert from the spherical coordinate system (latitudes & longitudes) to the Mercator projection."
   ]
  },
  {
   "cell_type": "code",
   "execution_count": 5,
   "metadata": {},
   "outputs": [],
   "source": [
    "import matplotlib.pyplot as plt\n",
    "from mpl_toolkits.basemap import Basemap"
   ]
  },
  {
   "cell_type": "markdown",
   "metadata": {},
   "source": [
    "### Workflow With Basemap\n",
    "\n",
    "The general workflow will look like the following when working with two-dimensional maps:\n",
    "- Create a new basemap instance with the specific map projection we want to use and how much of the map we want included.\n",
    "- Convert spherical coordinates to Cartesian coordinates using the basemap instance.\n",
    "- Use the matplotlib and basemap methods to customize the map.\n",
    "- Display the map."
   ]
  },
  {
   "cell_type": "markdown",
   "metadata": {},
   "source": [
    "Let's focus on the first step and create a new basemap instance. To create a new instance of the basemap class, we call the basemap constructor and pass in values for the required parameters:\n",
    "- `projection`: the map projection.\n",
    "- `llcrnrlat`: latitude of lower left hand corner of the desired map domain\n",
    "- `urcrnrlat`: latitude of upper right hand corner of the desired map domain\n",
    "- `llcrnrlon`: longitude of lower left hand corner of the desired map domain\n",
    "- `urcrnrlon`: longitude of upper right hand corner of the desired map domain"
   ]
  },
  {
   "cell_type": "code",
   "execution_count": 6,
   "metadata": {},
   "outputs": [],
   "source": [
    "m = Basemap(projection='merc', llcrnrlat=-80, urcrnrlat=80, llcrnrlon=-180, urcrnrlon=180)"
   ]
  },
  {
   "cell_type": "markdown",
   "metadata": {},
   "source": [
    "### Converting From Spherical to Cartesian Coordinates\n",
    "\n",
    "- We can pass in a list of latitude and longitude values into the basemap instance and it will return back converted lists of longitude and latitude values using the projection\n",
    "- The constructor only accepts list values, so we'll need to use `Series.tolist()` to convert the `longitude` and `latitude` columns from the `airports` dataframe to lists."
   ]
  },
  {
   "cell_type": "markdown",
   "metadata": {},
   "source": [
    "Then, we pass them to the basemap instance with the longitude values first then the latitude values:\n",
    "```\n",
    "x, y = m(longitudes, latitudes)\n",
    "```\n",
    "The basemap object will return 2 list objects, which we assign to `x` and `y`"
   ]
  },
  {
   "cell_type": "code",
   "execution_count": 7,
   "metadata": {},
   "outputs": [],
   "source": [
    "x, y = m(airports['longitude'].tolist(),airports['latitude'].tolist())"
   ]
  },
  {
   "cell_type": "markdown",
   "metadata": {},
   "source": [
    "### Generating A Scatter Plot\n",
    "\n",
    "A scatter plot is the simplest way to plot points on a map, where each point is represented as an (x, y) coordinate pair. To create a scatter plot from a list of x and y coordinates, we use the basemap.scatter() method.\n",
    "```\n",
    "m.scatter(x,y)\n",
    "```"
   ]
  },
  {
   "cell_type": "code",
   "execution_count": null,
   "metadata": {},
   "outputs": [],
   "source": [
    "m.scatter(x, y, s=1)\n",
    "plt.show()"
   ]
  }
 ],
 "metadata": {
  "kernelspec": {
   "display_name": "Python 3",
   "language": "python",
   "name": "python3"
  },
  "language_info": {
   "codemirror_mode": {
    "name": "ipython",
    "version": 3
   },
   "file_extension": ".py",
   "mimetype": "text/x-python",
   "name": "python",
   "nbconvert_exporter": "python",
   "pygments_lexer": "ipython3",
   "version": "3.5.2"
  }
 },
 "nbformat": 4,
 "nbformat_minor": 4
}
