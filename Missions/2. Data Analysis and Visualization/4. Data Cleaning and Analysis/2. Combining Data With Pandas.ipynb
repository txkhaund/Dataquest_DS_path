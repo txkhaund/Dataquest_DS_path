{
 "cells": [
  {
   "cell_type": "markdown",
   "metadata": {},
   "source": [
    "## Introduction\n",
    "\n",
    "We'll learn a couple of different techniques for combining data using pandas to easily handle situations like pulling data from mulitiple sources.\n",
    "\n",
    "__Goal:__ analyze the 2015, 2016, and 2017 World Happiness Reports. Specifically, we'll look to answer the following question:\n",
    "```\n",
    "Did world happiness increase, decrease, or stay about the same from 2015 to 2017?\n",
    "```\n",
    "As a reminder, these reports assign each country a happiness score based on a poll question that asks respondents to rank their life on a scale of 0 - 10, so \"world happiness\" refers to this definition specifically.\n",
    "\n",
    "Descriptions for some of the columns:\n",
    "- `Country` - Name of the country\n",
    "- `Region` - Name of the region the country belongs to\n",
    "- `Happiness Rank` - The rank of the country, as determined by its happiness score\n",
    "- `Happiness Score` - A score assigned to each country based on the answers to a poll question that asks respondents to rate their happiness on a scale of 0-10"
   ]
  },
  {
   "cell_type": "code",
   "execution_count": 1,
   "metadata": {},
   "outputs": [],
   "source": [
    "import pandas as pd\n",
    "import numpy as np"
   ]
  },
  {
   "cell_type": "code",
   "execution_count": 2,
   "metadata": {},
   "outputs": [],
   "source": [
    "happiness2015 = pd.read_csv('data/World_Happiness_2015.csv')\n",
    "happiness2015['Year'] = 2015\n",
    "happiness2016 = pd.read_csv('data/World_Happiness_2016.csv')\n",
    "happiness2016['Year'] = 2016\n",
    "happiness2017 = pd.read_csv('data/World_Happiness_2017.csv')\n",
    "happiness2017['Year'] = 2017"
   ]
  },
  {
   "cell_type": "markdown",
   "metadata": {},
   "source": [
    "### Combining Dataframes with the Concat Function\n",
    "\n",
    "The `concat()` function combines dataframes one of two ways:\n",
    "1. Stacked: Axis = 0 (This is the default option.)\n",
    "<img src='_images/Concat_Updated.svg' />\n",
    "2. Side by Side: Axis = 1\n",
    "<img src='_images/Concat_Axis1.svg' />\n",
    "\n",
    "Since `concat` is a function, not a method, we use the syntax below:\n",
    "<img src='_images/Concat_syntax.svg' />"
   ]
  },
  {
   "cell_type": "code",
   "execution_count": 3,
   "metadata": {},
   "outputs": [],
   "source": [
    "head_2015 = happiness2015[['Country', 'Happiness Score', 'Year']].head(3)\n",
    "head_2016 = happiness2016[['Country', 'Happiness Score', 'Year']].head(3)\n",
    "concat_axis0 = pd.concat([head_2015, head_2016], axis=0)\n",
    "concat_axis1 = pd.concat([head_2015, head_2016], axis=1)\n",
    "#question1 = concat_axis0.shape[0]\n",
    "question1 = 6\n",
    "#question2 = concat_axis1.shape[0]\n",
    "question2 = 3"
   ]
  },
  {
   "cell_type": "markdown",
   "metadata": {},
   "source": [
    "We merely pushed the dataframes together vertically or horizontally - none of the values, column names, or indexes changed.\n",
    "\n",
    "The `concat()` function combines dataframes with the same shape and index, as if \"gluing\" dataframes together.\n",
    "\n",
    "However, what happens if the dataframes have different shapes or columns?"
   ]
  },
  {
   "cell_type": "code",
   "execution_count": 5,
   "metadata": {},
   "outputs": [],
   "source": [
    "head_2015 = happiness2015[['Year', 'Country', 'Happiness Score', 'Standard Error']].head(4)\n",
    "head_2016 = happiness2016[['Country', 'Happiness Score', 'Year']].head(3)\n",
    "concat_axis0 = pd.concat([head_2015, head_2016], axis=0, sort=False)\n",
    "rows = 7\n",
    "columns = 4"
   ]
  },
  {
   "cell_type": "markdown",
   "metadata": {},
   "source": [
    "The analogy of \"gluing\" dataframes together doesn't fully describe what happens when concatenating dataframes of different shapes. Instead, the function combined the data according to the corresponding column names.\n",
    "\n",
    "Note that because the `Standard Error` column didn't exist in `head_2016`, `NaN` values were created to signify those values are missing.\n",
    "\n",
    "Also, notice again the indexes of the original dataframes didn't change. If the indexes aren't meaningful, it can be better to reset them."
   ]
  },
  {
   "cell_type": "markdown",
   "metadata": {},
   "source": [
    "### Combining Dataframes with Different Shapes Using the Concat Function\n",
    "\n",
    "By default, the `concat` function will keep ALL of the data, no matter if missing values are created.\n",
    "\n",
    "The `concat` function has a parameter, `ignore_index`, that can be used to clear the existing index and reset it in the result."
   ]
  },
  {
   "cell_type": "code",
   "execution_count": null,
   "metadata": {},
   "outputs": [],
   "source": []
  }
 ],
 "metadata": {
  "kernelspec": {
   "display_name": "Python 3",
   "language": "python",
   "name": "python3"
  },
  "language_info": {
   "codemirror_mode": {
    "name": "ipython",
    "version": 3
   },
   "file_extension": ".py",
   "mimetype": "text/x-python",
   "name": "python",
   "nbconvert_exporter": "python",
   "pygments_lexer": "ipython3",
   "version": "3.5.2"
  }
 },
 "nbformat": 4,
 "nbformat_minor": 4
}
