{
 "cells": [
  {
   "cell_type": "markdown",
   "metadata": {},
   "source": [
    "### Representation Of Data\n",
    "\n",
    "We'll learn the basics of __data visualization__, a discipline that focuses on the visual representation of data. Data visualization focuses on transforming data from table representations visual ones.\n",
    "\n",
    "We'll focus on data visualization techniques to explore datasets and help us uncover patterns. We'll use a specific type of data visualization to understand U.S. unemployment data."
   ]
  },
  {
   "cell_type": "markdown",
   "metadata": {},
   "source": [
    "### Data:\n",
    "\n",
    "The United States Bureau of Labor Statistics (BLS) surveys and calculates the monthly unemployment rate. The unemployment rate is the percentage of individuals in the labor force without a job. While unemployment rate isn't perfect, it's a commonly used proxy for the health of the economy. You may have heard politicians and reporters state the unemployment rate when commenting on the economy.\n",
    "\n",
    "__Source:__ https://fred.stlouisfed.org/series/UNRATE\n",
    "\n",
    "We've downloaded the monthly unemployment rate as a `CSV` from `January 1948` to `August 2016`, saved it as `unrate.csv`"
   ]
  }
 ],
 "metadata": {
  "kernelspec": {
   "display_name": "Python 3",
   "language": "python",
   "name": "python3"
  },
  "language_info": {
   "codemirror_mode": {
    "name": "ipython",
    "version": 3
   },
   "file_extension": ".py",
   "mimetype": "text/x-python",
   "name": "python",
   "nbconvert_exporter": "python",
   "pygments_lexer": "ipython3",
   "version": "3.5.2"
  }
 },
 "nbformat": 4,
 "nbformat_minor": 4
}
