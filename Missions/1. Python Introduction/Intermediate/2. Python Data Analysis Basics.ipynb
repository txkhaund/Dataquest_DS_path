{
 "cells": [
  {
   "cell_type": "markdown",
   "metadata": {},
   "source": [
    "## Python Data Analysis Basics"
   ]
  },
  {
   "cell_type": "markdown",
   "metadata": {},
   "source": [
    "We will learn how to:\n",
    "\n",
    "- Calculate how old the artist was when they created their artwork.\n",
    "- Analyze and interpret the distribution of artist ages.\n",
    "- Create functions which summarize our data.\n",
    "- Print summaries in an easy-to-read-way.\n",
    "\n",
    "DQ has provided a dataset called '_artworks_clean.csv_' and we will analyze that but a modified version of our own.\n",
    "\n",
    "__Update:__ I have successfully fixed the 'Date' column using the Python library 'regex'."
   ]
  },
  {
   "cell_type": "code",
   "execution_count": 1,
   "metadata": {},
   "outputs": [],
   "source": [
    "from csv import reader\n",
    "\n",
    "# Read the `artworks_clean.csv` file\n",
    "opened_file = open('data/artworks_clean.csv')\n",
    "read_file = reader(opened_file)\n",
    "moma = list(read_file)\n",
    "moma_header = moma[0]\n",
    "moma_data = moma[1:]\n",
    "\n",
    "# Convert the birthdate values\n",
    "for row in moma_data:\n",
    "    birth_date = row[3]  # The Index is 3 in our dataset\n",
    "    if birth_date != \"\":\n",
    "        birth_date = int(birth_date)\n",
    "    row[3] = birth_date\n",
    "    \n",
    "# Convert the death date values\n",
    "for row in moma_data:\n",
    "    death_date = row[4]  # The Index is 4 in our dataset\n",
    "    if death_date != \"\":\n",
    "        death_date = int(death_date)\n",
    "    row[4] = death_date"
   ]
  },
  {
   "cell_type": "code",
   "execution_count": 2,
   "metadata": {},
   "outputs": [],
   "source": [
    "# Convert the date column values\n",
    "for row in moma_data:\n",
    "    date = row[6]   # The Index is 6 in our dataset\n",
    "    if date != \"\":\n",
    "        date= int(date)\n",
    "    row[6] = date"
   ]
  },
  {
   "cell_type": "markdown",
   "metadata": {},
   "source": [
    "### Calculating Artist Ages"
   ]
  },
  {
   "cell_type": "markdown",
   "metadata": {},
   "source": [
    "We're going to work on calculating the ages at which artists created their pieces of art. We need to subtract the artist's birth year (BeginDate) from the year in which their artwork was created (Date).\n",
    "\n",
    "While every row has a value for Date, there are some that are missing values for BeginDate. When we cleaned BeginDate, we encountered some missing values and left them as empty strings (\"\"). We'll use a value of 0 for these cases, which we'll replace with something more meaningful later on.\n",
    "\n",
    "There are a handful of cases where the artist's age (according to our data set) is very low, including some where the age is negative. We could investigate these specific cases one by one, but since we're looking for a summary, we'll take care of these by categorizing artists younger than 20 as \"Unknown\" also. This has the handy effect of also categorizing the artists without birth years as \"Unknown\"."
   ]
  },
  {
   "cell_type": "markdown",
   "metadata": {},
   "source": [
    "| Year Artwork Created (date) | Birth Year (birth) | age | final_age |\n",
    "| --------------------------- | ------------------ | --- | --------- |\n",
    "| 1968 | 1898 | 70 | 70        |\n",
    "| 1931 |  \"\"  | 0  | \"Unknown\" |\n",
    "| 1972 | 1976 | -4 | \"Unknown\" |"
   ]
  },
  {
   "cell_type": "code",
   "execution_count": 3,
   "metadata": {},
   "outputs": [],
   "source": [
    "ages = []\n",
    "\n",
    "for row in moma_data:\n",
    "    date = row[6] # Index 6\n",
    "    birth = row[3] # Index 3\n",
    "    if isinstance(birth, int):\n",
    "        if date == 0:\n",
    "            age = 0\n",
    "        else:\n",
    "            age = date - birth\n",
    "    else:\n",
    "        age = 0\n",
    "    ages.append(age)\n",
    "    \n",
    "final_ages = []\n",
    "\n",
    "for age in ages:\n",
    "    if age > 20:\n",
    "        final_age = age\n",
    "    else:\n",
    "        final_age = \"Unknown\"\n",
    "    final_ages.append(final_age)"
   ]
  },
  {
   "cell_type": "markdown",
   "metadata": {},
   "source": [
    "### Converting Age to Decades"
   ]
  },
  {
   "cell_type": "markdown",
   "metadata": {},
   "source": [
    "We now have a list — ages — containing the artist ages duing which each artwork was produced. Because there are many unique ages, we'll calculate only the decade in which the artist created each work. For instance, if we calculate that the artist was 24, we'll record that as the artist being in their \"20s.\"\n",
    "\n",
    "As a first step toward this, we'll need to remove the last digit in every age:\n",
    "\n",
    "- 24 will become 2\n",
    "- 86 will become 8\n",
    "- 50 will become 5\n",
    "- 106 will become 10"
   ]
  },
  {
   "cell_type": "code",
   "execution_count": 4,
   "metadata": {},
   "outputs": [],
   "source": [
    "decades = []\n",
    "\n",
    "for age in final_ages:\n",
    "    if age is \"Unknown\":\n",
    "        decade = age\n",
    "    else:\n",
    "        decade = str(age)\n",
    "        decade = decade[:-1] + '0s'\n",
    "    decades.append(decade)"
   ]
  },
  {
   "cell_type": "markdown",
   "metadata": {},
   "source": [
    "### Summarizing the Decade Data"
   ]
  },
  {
   "cell_type": "markdown",
   "metadata": {},
   "source": [
    "The last step of our analysis is to count how many instances of each decade there are. To do this, we're going to use a technique from the Python Fundamentals course: constructing a __frequency table__.\n",
    "\n"
   ]
  },
  {
   "cell_type": "code",
   "execution_count": 5,
   "metadata": {},
   "outputs": [],
   "source": [
    "decade_frequency = {}\n",
    "\n",
    "for row in decades:\n",
    "    if row not in decade_frequency:\n",
    "        decade_frequency[row] = 1\n",
    "    else:\n",
    "        decade_frequency[row] += 1"
   ]
  },
  {
   "cell_type": "markdown",
   "metadata": {},
   "source": [
    "### Inserting Variables Into Strings"
   ]
  },
  {
   "cell_type": "markdown",
   "metadata": {},
   "source": [
    "The str.format() method is a powerful tool that helps us write easy-to-read code while combining strings with other variables.\n",
    "\n",
    "There are also extra things that str.format() can do with formatting numbers, but for now we'll focus on inserting values into strings.\n",
    "\n",
    "We use the method with a string — which acts as a template — using the brace characters ({}) to signify where we want any variables to be inserted. We then pass those variables as arguments to the method.\n",
    "\n",
    "- The variables are inserted into the {} by the order that we pass them as arguments.\n",
    "- If we want to specify ordering and/or repeat numbers, we can use integers\n",
    "- Lastly, if we want to make things clearer, we can give each variable a name — technically called using keyword arguments, which you may remember from learning about functions."
   ]
  },
  {
   "cell_type": "code",
   "execution_count": 6,
   "metadata": {},
   "outputs": [
    {
     "name": "stdout",
     "output_type": "stream",
     "text": [
      "Pablo Picasso's birth year is 1881\n"
     ]
    }
   ],
   "source": [
    "artist = \"Pablo Picasso\"\n",
    "birth_year = 1881\n",
    "\n",
    "result = '{}\\'s birth year is {}'.format(artist, birth_year)\n",
    "print(result)"
   ]
  },
  {
   "cell_type": "markdown",
   "metadata": {},
   "source": [
    "### Creating an Artist Frequency Table"
   ]
  },
  {
   "cell_type": "markdown",
   "metadata": {},
   "source": [
    "We can use the same technique we used to create our earlier frequency table with one minor modification — we will be iterating over a list of lists instead of a simple list that we used to create our decades frequency table.\n",
    "\n",
    "The only difference this makes is that we will first need to extract the value we want to count from the row before we start."
   ]
  },
  {
   "cell_type": "code",
   "execution_count": 7,
   "metadata": {},
   "outputs": [],
   "source": [
    "artist_freq = {}\n",
    "\n",
    "for row in moma_data:\n",
    "    artist = row[1] # Index 1 for Artist column\n",
    "    if artist not in artist_freq:\n",
    "        artist_freq[artist] = 1\n",
    "    else:\n",
    "        artist_freq[artist] += 1"
   ]
  },
  {
   "cell_type": "markdown",
   "metadata": {},
   "source": [
    "#### Creating an Artist Summary Func"
   ]
  },
  {
   "cell_type": "markdown",
   "metadata": {},
   "source": [
    "Now that we've created a dictionary containing the counts of each artist's artworks in our data set, the final part of our task will be creating a function that displays information for a specific artist.\n",
    "\n",
    "Our function will take a single argument — the name of an artist — and will display a formatted sentence about that artist. The diagram below illustrates the input and output.\n",
    "\n",
    "Inside the function, we'll need to:\n",
    "\n",
    "- Retrieve the number of artworks by the artist from the artist_freq dictionary.\n",
    "- Define a template for our output.\n",
    "- Use str.format() to insert the artists name and number of artworks into our template.\n",
    "- Use the print() function to display the output."
   ]
  },
  {
   "cell_type": "code",
   "execution_count": 8,
   "metadata": {},
   "outputs": [
    {
     "name": "stdout",
     "output_type": "stream",
     "text": [
      "There are 1063 artworks by Henri Matisse in the data set\n"
     ]
    }
   ],
   "source": [
    "def artist_summary(artist):\n",
    "    n_artworks = artist_freq[artist]\n",
    "    output = 'There are {1} artworks by {0} in the data set'.format(artist, n_artworks)\n",
    "    print(output)\n",
    "\n",
    "artist_summary('Henri Matisse')"
   ]
  },
  {
   "cell_type": "markdown",
   "metadata": {},
   "source": [
    "### Formatting Numbers Inside Strings"
   ]
  },
  {
   "cell_type": "markdown",
   "metadata": {},
   "source": [
    "We specify number formatting, including things like precision, by adding one of various format specifications inside the braces ({}) of our string.\n",
    "\n",
    "- To indicate the precision of two, we specify :.2f after the name or position of our argument\n",
    "- Another useful format specification is to add a comma as a thousands separator, which prevents large numbers from being hard to read.\n",
    "    - To add a comma, you would use the syntax ':,' inside the brackets, after the number or name of the variable you're inserting\n",
    "\n",
    "Note that there is a specific order required – If we don't follow this order, our code will return a ValueError:\n",
    "\n",
    "- The name or position of the of the variable\n",
    "- A colon (:) to start the format spec\n",
    "- The thousands separator\n",
    "- The precision"
   ]
  },
  {
   "cell_type": "code",
   "execution_count": 9,
   "metadata": {},
   "outputs": [
    {
     "name": "stdout",
     "output_type": "stream",
     "text": [
      "The population of China is 1,379.30 million\n",
      "The population of India is 1,281.94 million\n",
      "The population of USA is 326.63 million\n",
      "The population of Indonesia is 260.58 million\n",
      "The population of Brazil is 207.35 million\n"
     ]
    }
   ],
   "source": [
    "pop_millions = [\n",
    "    [\"China\", 1379.302771],\n",
    "    [\"India\", 1281.935991],\n",
    "    [\"USA\",  326.625791],\n",
    "    [\"Indonesia\",  260.580739],\n",
    "    [\"Brazil\",  207.353391],\n",
    "]\n",
    "\n",
    "output = \"The population of {0} is {1:,.2f} million\"\n",
    "\n",
    "for row in pop_millions:\n",
    "    country = row[0]\n",
    "    population = row[1]\n",
    "    print(output.format(country,population))"
   ]
  },
  {
   "cell_type": "markdown",
   "metadata": {},
   "source": [
    "## CHALLENGE: Summarizing Artwork Gender Data"
   ]
  },
  {
   "cell_type": "markdown",
   "metadata": {},
   "source": [
    "The final exercise for this mission will combine two techniques in order to analyze and display information about the frequencies of artwork by artists of different genders. The two techniques we'll combine are:\n",
    "\n",
    "1. Creating a frequency table of the genders in the data set, which we have done for both artist ages and artists themselves.\n",
    "2. Using the str.format() and the str formatting specification to display the data in an easy to read format, which we've done on both of the previous two screens.\n",
    "\n",
    "One technique you'll need to use that we haven't encountered in the previous two missions is looping over a dictionary, which you'll need to use to display the data in the frequency table that you make.\n",
    "\n",
    "We use the dict.items() method which returns each of the key-value pairs from our dictionary one-at-a-time. This helps us loop over dictionaries more easily."
   ]
  },
  {
   "cell_type": "code",
   "execution_count": 12,
   "metadata": {},
   "outputs": [
    {
     "name": "stdout",
     "output_type": "stream",
     "text": [
      "There are 104,720 artworks by Male artists\n",
      "There are 8,398 artworks by Gender Unknown/Other artists\n",
      "There are 17,742 artworks by Female artists\n"
     ]
    }
   ],
   "source": [
    "gender_ft = {}\n",
    "\n",
    "output = 'There are {1:,} artworks by {0} artists'\n",
    "\n",
    "for row in moma_data:\n",
    "    gender = row[5] # Index is 5 for Gender\n",
    "    if gender not in gender_ft:\n",
    "        gender_ft[gender] = 1\n",
    "    else:\n",
    "        gender_ft[gender] += 1\n",
    "\n",
    "for key, value in gender_ft.items():\n",
    "    print(output.format(key, value))"
   ]
  }
 ],
 "metadata": {
  "kernelspec": {
   "display_name": "Python 3",
   "language": "python",
   "name": "python3"
  },
  "language_info": {
   "codemirror_mode": {
    "name": "ipython",
    "version": 3
   },
   "file_extension": ".py",
   "mimetype": "text/x-python",
   "name": "python",
   "nbconvert_exporter": "python",
   "pygments_lexer": "ipython3",
   "version": "3.5.2"
  }
 },
 "nbformat": 4,
 "nbformat_minor": 4
}
