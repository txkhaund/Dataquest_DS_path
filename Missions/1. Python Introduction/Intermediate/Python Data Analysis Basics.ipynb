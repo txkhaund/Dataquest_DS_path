{
 "cells": [
  {
   "cell_type": "markdown",
   "metadata": {},
   "source": [
    "## Python Data Analysis Basics"
   ]
  },
  {
   "cell_type": "markdown",
   "metadata": {},
   "source": [
    "We will learn how to:\n",
    "\n",
    "- Calculate how old the artist was when they created their artwork.\n",
    "- Analyze and interpret the distribution of artist ages.\n",
    "- Create functions which summarize our data.\n",
    "- Print summaries in an easy-to-read-way.\n",
    "\n",
    "DQ has provided a dataset called '_artworks_clean.csv_' and we will analyze that. Note that we won't run the code since we don't have that dataset available. (You have to pay to get it! :/ )\n",
    "\n",
    "__Update:__ I have successfully fixed the 'Date' column using the Python library 'regex'. "
   ]
  },
  {
   "cell_type": "code",
   "execution_count": null,
   "metadata": {},
   "outputs": [],
   "source": []
  }
 ],
 "metadata": {
  "kernelspec": {
   "display_name": "Python 3",
   "language": "python",
   "name": "python3"
  },
  "language_info": {
   "codemirror_mode": {
    "name": "ipython",
    "version": 3
   },
   "file_extension": ".py",
   "mimetype": "text/x-python",
   "name": "python",
   "nbconvert_exporter": "python",
   "pygments_lexer": "ipython3",
   "version": "3.5.2"
  }
 },
 "nbformat": 4,
 "nbformat_minor": 4
}
