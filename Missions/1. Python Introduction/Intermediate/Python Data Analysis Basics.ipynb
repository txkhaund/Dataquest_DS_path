{
 "cells": [
  {
   "cell_type": "markdown",
   "metadata": {},
   "source": [
    "## Python Data Analysis Basics"
   ]
  },
  {
   "cell_type": "markdown",
   "metadata": {},
   "source": [
    "We will learn how to:\n",
    "\n",
    "- Calculate how old the artist was when they created their artwork.\n",
    "- Analyze and interpret the distribution of artist ages.\n",
    "- Create functions which summarize our data.\n",
    "- Print summaries in an easy-to-read-way.\n",
    "\n",
    "DQ has provided a dataset called '_artworks_clean.csv_' and we will analyze that. Note that we won't run the code since we don't have that dataset available. (You have to pay to get it! :/ )\n",
    "\n",
    "__Update:__ I have successfully fixed the 'Date' column using the Python library 'regex'. "
   ]
  },
  {
   "cell_type": "code",
   "execution_count": null,
   "metadata": {},
   "outputs": [],
   "source": [
    "from csv import reader\n",
    "\n",
    "# Read the `artworks_clean.csv` file\n",
    "opened_file = open('data/artworks_clean.csv')\n",
    "read_file = reader(opened_file)\n",
    "moma = list(read_file)\n",
    "moma_header = moma[0]\n",
    "moma_data = moma[1:]\n",
    "\n",
    "# Convert the birthdate values\n",
    "for row in moma_data:\n",
    "    birth_date = row[5]  # The Index is 5 in our dataset\n",
    "    if birth_date != \"\":\n",
    "        birth_date = int(birth_date)\n",
    "    row[5] = birth_date\n",
    "    \n",
    "# Convert the death date values\n",
    "for row in moma:\n",
    "    death_date = row[6]  # The Index is 6 in our dataset\n",
    "    if death_date != \"\":\n",
    "        death_date = int(death_date)\n",
    "    row[6] = death_date"
   ]
  },
  {
   "cell_type": "code",
   "execution_count": null,
   "metadata": {},
   "outputs": [],
   "source": [
    "# Convert the date column values\n",
    "for row in moma_data:\n",
    "    date = row[8]   # The Index is 8 in our dataset\n",
    "    if date != \"\":\n",
    "        date= int(date)\n",
    "    row[8] = date"
   ]
  },
  {
   "cell_type": "markdown",
   "metadata": {},
   "source": [
    "We're going to work on calculating the ages at which artists created their pieces of art. We need to subtract the artist's birth year (BeginDate) from the year in which their artwork was created (Date).\n",
    "\n",
    "While every row has a value for Date, there are some that are missing values for BeginDate. When we cleaned BeginDate, we encountered some missing values and left them as empty strings (\"\"). We'll use a value of 0 for these cases, which we'll replace with something more meaningful later on.\n",
    "\n",
    "There are a handful of cases where the artist's age (according to our data set) is very low, including some where the age is negative. We could investigate these specific cases one by one, but since we're looking for a summary, we'll take care of these by categorizing artists younger than 20 as \"Unknown\" also. This has the handy effect of also categorizing the artists without birth years as \"Unknown\"."
   ]
  },
  {
   "cell_type": "markdown",
   "metadata": {},
   "source": [
    "| Year Artwork Created (date) | Birth Year (birth) | age | final_age |\n",
    "| --------------------------- | ------------------ | --- | --------- |\n",
    "| 1968 | 1898 | 70 | 70        |\n",
    "| 1931 |  \"\"  | 0  | \"Unknown\" |\n",
    "| 1972 | 1976 | -4 | \"Unknown\" |"
   ]
  },
  {
   "cell_type": "code",
   "execution_count": null,
   "metadata": {},
   "outputs": [],
   "source": [
    "ages = []\n",
    "\n",
    "for row in moma_data:\n",
    "    date = row[8]\n",
    "    birth = row[5]\n",
    "    if isinstance(birth, int):\n",
    "        age = date - birth\n",
    "    elif"
   ]
  },
  {
   "cell_type": "code",
   "execution_count": null,
   "metadata": {},
   "outputs": [],
   "source": []
  }
 ],
 "metadata": {
  "kernelspec": {
   "display_name": "Python 3",
   "language": "python",
   "name": "python3"
  },
  "language_info": {
   "codemirror_mode": {
    "name": "ipython",
    "version": 3
   },
   "file_extension": ".py",
   "mimetype": "text/x-python",
   "name": "python",
   "nbconvert_exporter": "python",
   "pygments_lexer": "ipython3",
   "version": "3.5.2"
  }
 },
 "nbformat": 4,
 "nbformat_minor": 4
}
