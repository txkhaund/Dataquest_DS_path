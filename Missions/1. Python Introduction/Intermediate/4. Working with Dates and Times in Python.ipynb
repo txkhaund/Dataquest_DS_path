{
 "cells": [
  {
   "cell_type": "markdown",
   "metadata": {},
   "source": [
    "## Working with Dates and Times in Python"
   ]
  },
  {
   "cell_type": "markdown",
   "metadata": {},
   "source": [
    "Working with date and times is a vital skill, because many data include date/time information, including:\n",
    "\n",
    "- Weather data with dates and/or times.\n",
    "- Computer logs with the timestamp for each event.\n",
    "- Sales data with date/time range included."
   ]
  },
  {
   "cell_type": "markdown",
   "metadata": {},
   "source": [
    "Unfortunately, working with date/time data is often a lot more complex:\n",
    "\n",
    "- Where you have a compound date format, like January 1, 1901, separating each component value and converting it to its numeric form is cumbersome.\n",
    "- There are many different formats, e.g. 12-hour time versus 24-hour time.\n",
    "- Adding and subtracting across date/time boundaries isn't easy — for instance, if I wanted to add 1 hour 35 minutes to the time 32 minutes, we need to account for the fact that there are 60 minutes in an hour to be able to come up with the correct answer, 2 hours 7 minutes."
   ]
  },
  {
   "cell_type": "markdown",
   "metadata": {},
   "source": [
    "Luckily, Python comes with functionality that makes working with dates and times easier. In this mission, we'll learn this functionality while working with a data set of White House visitors.\n",
    "\n",
    "__Data source:__ https://www.kaggle.com/somertonman/dq-lessons-potus-white-house#potus_visitors_2015.csv (which only includes visitors who met with the president in 2015)\n",
    "\n",
    "In December 2009, the White House started publishing records of visitors to the White House. Over a seven-year span, almost six million visitor records were published. The records contain data from the __WAVES (Workers and Visitors Entry System)__ appointment system that is used to make appointments for all White House visitors, excluding staff members and other people not categorized as visitors.\n",
    "\n",
    "The full set of records can be found on the <a href=\"https://obamawhitehouse.archives.gov/briefing-room/disclosures/visitor-records\">Obama White House Archives Site</a>"
   ]
  },
  {
   "cell_type": "markdown",
   "metadata": {},
   "source": [
    "Here are descriptions of each column:\n",
    "\n",
    "- __name__: The name of the visitor.\n",
    "- __appt_made_date__: The date and time that the appointment was created.\n",
    "- __appt_start_date__: The date and time that the appointment was scheduled to start.\n",
    "- __appt_end_date__: The date and time that the appointment was scheduled to end.\n",
    "- __visitee_namelast__: The last name of the visitee (the person the visitor was meeting with).\n",
    "- __visitee_namefirst__: The first name of the visitee.\n",
    "- __meeting_room__: The room in which the appointment was scheduled.\n",
    "- __description__: Optional comments added by the WAVES operator."
   ]
  },
  {
   "cell_type": "markdown",
   "metadata": {},
   "source": [
    "In this mission we'll learn techniques that will allow us to:\n",
    "\n",
    "- Calculate the month with the most visitors.\n",
    "- Calculate the most common time that visits occurred.\n",
    "- Calculate summary statistics on visit length and how far ahead visits are booked.\n",
    "- Produce neatly formatted summaries of daily visits."
   ]
  },
  {
   "cell_type": "code",
   "execution_count": 1,
   "metadata": {},
   "outputs": [],
   "source": [
    "from csv import reader\n",
    "\n",
    "read_file = reader(open('data/potus_visitors_2015.csv'))\n",
    "potus = list(read_file)\n",
    "potus_header = potus[0]\n",
    "potus_data = potus[1:]"
   ]
  },
  {
   "cell_type": "markdown",
   "metadata": {},
   "source": [
    "We used the _csv_ module to make reading CSV files easier. In Python, a __module__ is simply a collection of variables, functions, and/or classes (which we'll collectively call 'definitions') that can be imported into a Python script.\n",
    "\n",
    "Python contains many __standard modules__ that help us perform various tasks, such as performing advanced mathematical operations, working with specific file formats and databases, and working with dates and times.\n",
    "\n",
    "Whenever we use definitions from a module, we first need to __import__ those definitions. There are a number of ways we can import modules and their definitions using the import statement:\n",
    "\n",
    "1. __Import the whole module by name.__ This is the most common method for importing a module.\n",
    "    \n",
    "    import csv\n",
    "    \n",
    "    csv.reader()\n",
    "\n",
    "2. __Import the whole module with an alias.__ This is especially useful if a module is long and we need to type it a lot.\n",
    "    \n",
    "    import csv as c\n",
    "    \n",
    "    c.reader()\n",
    "\n",
    "3. __Import one or more definitions from the module by name.__ This is the technique we've used so far. This technique is useful if you want only a single or select definitions and don't want to import everything.\n",
    "    \n",
    "    from csv import reader\n",
    "    \n",
    "    reader()\n",
    "    \n",
    "4. __Import all definitions with a wildcard.__ This is useful if you want to import and use many definitions from a module.\n",
    "    \n",
    "    from csv import *\n",
    "    \n",
    "    reader()\n",
    "    writer()\n",
    "    get_dialect()"
   ]
  },
  {
   "cell_type": "markdown",
   "metadata": {},
   "source": [
    "### The Datetime Module:\n",
    "\n",
    "Python has three standard modules that are designed to help working with dates and times:\n",
    "\n",
    "- The _calendar_ module\n",
    "- The _time_ module\n",
    "- The _datetime_ module\n",
    "\n",
    "The datetime module contains a number of classes, including:\n",
    "\n",
    "- __datetime.datetime__: For working with date and time data.\n",
    "- __datetime.time__: For working with time data only.\n",
    "- __datetime.timedelta__: For representing time periods."
   ]
  },
  {
   "cell_type": "code",
   "execution_count": 2,
   "metadata": {},
   "outputs": [],
   "source": [
    "import datetime as dt"
   ]
  },
  {
   "cell_type": "markdown",
   "metadata": {},
   "source": [
    "The _datetime.datetime_ class is the most commonly-used class from the datetime module, and has attributes and methods designed to work with data containing both the date and time.\n",
    "\n",
    "The signature of the class is below (with some lesser used parameters omitted):\n",
    "\n",
    "datetime.datetime(year, month, day, hour=0, minute=0, second=0)"
   ]
  },
  {
   "cell_type": "code",
   "execution_count": 3,
   "metadata": {},
   "outputs": [],
   "source": [
    "ibm_founded = dt.datetime(1911, 6, 16)\n",
    "man_on_moon = dt.datetime(1969, 7, 20, 20, 17)"
   ]
  },
  {
   "cell_type": "markdown",
   "metadata": {},
   "source": [
    "### Using Strptime to Parse Strings as Dates\n",
    "\n",
    "From our POTUS dataset, the date value indicates clearly that the format is month/day/year, and additionally confirms that the time is in 24-hour format.\n",
    "\n",
    "Using what we know so far, we could convert these values into datetime objects by manually splitting the string, converting the variables to numeric types and then instantiating a datetime object using the resultant values."
   ]
  },
  {
   "cell_type": "markdown",
   "metadata": {},
   "source": [
    "- Luckily, there is an easier way — using a special __constructor__.\n",
    "    - Classes can also have additional constructors, so objects can be defined in multiple ways. The datetime class has one of these that we can use to parse dates directly from strings.\n",
    "\n",
    "- The datetime.strptime() constructor returns a datetime object defined using a special syntax system to describe date and time formats called __strftime__.\n",
    "    - The strftime syntax uses a series of format codes consisting of a % character followed by a single character which specifies a date or time part in a particular format"
   ]
  },
  {
   "cell_type": "markdown",
   "metadata": {},
   "source": [
    "| Strftime Code | Meaning | Examples |\n",
    "| ------------- | ------- | -------- |\n",
    "| %d | Day of the month as a zero-padded number<sup>1</sup> | 04 |\n",
    "| %A | Day of the week as a word<sup>2</sup> | Monday |\n",
    "| %m | Month as a zero-padded number<sup>1</sup> | 09 |\n",
    "| %Y | Year as a four-digit number | 1901 |\n",
    "| %y | Year as a two-digit number with zero-padding<sup>1, 3</sup> | 01 (2001) <br> 88 (1988) |\n",
    "| %B | Month as a word<sup>2</sup> | September |\n",
    "| %H | Hour in 24 hour time as zero-padded number<sup>1</sup> | 05 (5 a.m.)<br> 15 (3 p.m.) |\n",
    "| %p | a.m. or p.m.<sup>2</sup> | AM |\n",
    "| %I | Hour in 12 hour time as zero-padded number<sup>1</sup> | 05 (5 a.m., or 5 p.m. if AM/PM indicates otherwise) |\n",
    "| %M | Minute as a zero-padded number<sup>1</sup> | 07 |"
   ]
  },
  {
   "cell_type": "markdown",
   "metadata": {},
   "source": [
    "_1. The strptime parser will parse non-zero padded numbers without raising an error._\n",
    "\n",
    "_2. Date parts containing words will be interpreted using the locale settings on your computer, so strptime won't be able to parse \"febrero\" (\"February\" in Spanish) if your locale is set to an English language locale._\n",
    "\n",
    "_3. Year values from 00-68 will be interpreted as 2000-2068, with values 70-99 interpreted as 1970-1999._"
   ]
  },
  {
   "cell_type": "code",
   "execution_count": 4,
   "metadata": {},
   "outputs": [],
   "source": [
    "# The format of the app_start_date column is {month}/{day}/{two digit year} {hour 24hr time}:{minute}.\n",
    "date_format = \"%m/%d/%y %H:%M\"\n",
    "\n",
    "for row in potus_data:\n",
    "    appt_start_date = row[2]  # Index for the appointment start date\n",
    "    date = dt.datetime.strptime(appt_start_date, date_format)\n",
    "    row[2] = date"
   ]
  },
  {
   "cell_type": "markdown",
   "metadata": {},
   "source": [
    "### Using Strftime to format dates\n",
    "\n",
    "The datetime class has a number of attributes which make it easy to retrieve the various parts that make up the date stored within the object:\n",
    "\n",
    "- _datetime.day_: The day of the month.\n",
    "- _datetime.month_: The month of the year.\n",
    "- _datetime.year_: The year.\n",
    "- _datetime.hour_: The hour of the day.\n",
    "- _datetime.minute_: The minute of the hour."
   ]
  },
  {
   "cell_type": "markdown",
   "metadata": {},
   "source": [
    "The datetime class has a datetime.strftime() method which will return a string representation of the date using the strftime syntax.\n",
    "\n",
    "It's easy to get strptime and strftime confused. An easy way to remember which is which is:\n",
    "\n",
    "- strptime >> str-p-time >> string parse time\n",
    "- strftime >> str-f-time >> string format time"
   ]
  },
  {
   "cell_type": "markdown",
   "metadata": {},
   "source": [
    "Let's use the datetime.strftime() method to create a formatted frequency table and analyze the appointment dates in our data set. We'll:\n",
    "\n",
    "- Iterate over each of the datetime objects we created in the previous screen.\n",
    "- Create a string containing the month and year from each datetime object.\n",
    "- Create a frequency table for the month/year of the appointments."
   ]
  },
  {
   "cell_type": "code",
   "execution_count": 5,
   "metadata": {},
   "outputs": [],
   "source": [
    "visitors_per_month = {}\n",
    "\n",
    "for row in potus_data:\n",
    "    appt_start_date = row[2]  # Index for the appointment start date\n",
    "    date = dt.datetime.strftime(appt_start_date, \"%B, %Y\")\n",
    "    if date not in visitors_per_month:\n",
    "        visitors_per_month[date] = 1\n",
    "    else:\n",
    "        visitors_per_month[date] += 1"
   ]
  },
  {
   "cell_type": "markdown",
   "metadata": {},
   "source": [
    "### The Time Class"
   ]
  },
  {
   "cell_type": "code",
   "execution_count": null,
   "metadata": {},
   "outputs": [],
   "source": []
  }
 ],
 "metadata": {
  "kernelspec": {
   "display_name": "Python 3",
   "language": "python",
   "name": "python3"
  },
  "language_info": {
   "codemirror_mode": {
    "name": "ipython",
    "version": 3
   },
   "file_extension": ".py",
   "mimetype": "text/x-python",
   "name": "python",
   "nbconvert_exporter": "python",
   "pygments_lexer": "ipython3",
   "version": "3.5.2"
  }
 },
 "nbformat": 4,
 "nbformat_minor": 4
}
