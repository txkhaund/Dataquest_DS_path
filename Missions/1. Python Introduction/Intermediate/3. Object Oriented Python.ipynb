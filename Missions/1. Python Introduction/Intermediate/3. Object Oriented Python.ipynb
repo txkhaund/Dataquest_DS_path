{
 "cells": [
  {
   "cell_type": "markdown",
   "metadata": {},
   "source": [
    "## Introduction"
   ]
  },
  {
   "cell_type": "markdown",
   "metadata": {},
   "source": [
    "So far, we've learned a system of programming known as __Procedural Programming__. In its simplest definition, procedural programming involves writing code in a number of sequential steps — and sometimes we combine these steps into commands called __functions__.\n",
    "\n",
    "We are now going to learn about a new system: __object-oriented programming (OOP)__. Rather than code being designed around sequential steps, it is instead defined around objects.\n",
    "\n",
    "When working with data, it's much more common to use a style that is closer to procedural programming style than OOP, but it's very important to understand how OOP works, because Python is an object-oriented language.\n",
    "\n",
    "This means almost everything in Python is actually an object; when you're working with Python, you are creating and manipulating objects."
   ]
  },
  {
   "cell_type": "markdown",
   "metadata": {},
   "source": [
    "### Classes and Objects:\n",
    "\n",
    "In OOP, objects have types, but instead of \"type\" we use the word __class__.\n",
    "- An __object__ is an entity that stores data.\n",
    "- An object's __class__ defines specific properties objects of that class will have."
   ]
  },
  {
   "cell_type": "markdown",
   "metadata": {},
   "source": [
    "#### Example: Compare Python string objects to Tesla electric cars.\n",
    "\n",
    "There are hundreds of thousands of Tesla cars around the world. Each car is similar in that it is a Tesla — it's not a Ford or Toyota — but at the same time, it is not necessarily identical to other Teslas. We would say that each of the cars are objects that belong to the Tesla class.\n",
    "\n",
    "Tesla has a blueprint — or plan — for making their cars. The blueprint defines what the car is, what it does, and how — everything that makes the car unique. That said, the blueprint isn't a car, it's just all the information needed to create the car. Similarly, in Python, we have code blueprints for classes. These blueprints are __class definitions__."
   ]
  },
  {
   "cell_type": "markdown",
   "metadata": {},
   "source": [
    "### Defining a Class"
   ]
  },
  {
   "cell_type": "markdown",
   "metadata": {},
   "source": [
    "Just like a function, we use parentheses and a colon after the class name (():) when we define a class. Similarly, the body of our class is indented like a function's body is.\n",
    "\n",
    "The rules for naming classes are the same as they are for naming functions and variables:\n",
    "\n",
    "1. We must use only letters, numbers, or underscores.\n",
    "    - We cannot use apostrophes, hyphens, whitespace characters, etc.\n",
    "2. Class names can't start with a number."
   ]
  },
  {
   "cell_type": "code",
   "execution_count": 1,
   "metadata": {},
   "outputs": [],
   "source": [
    "class NewList():\n",
    "    pass"
   ]
  },
  {
   "cell_type": "markdown",
   "metadata": {},
   "source": [
    "###  Instantiating a Class"
   ]
  },
  {
   "cell_type": "markdown",
   "metadata": {},
   "source": [
    "In OOP, we use instance to describe each different object.\n",
    "\n",
    "Once we have defined our class, we can create an object of that class, which is known as __instantiation__. If you create an object of a particular class, the technical phrase for what you did is to \"__Instantiate__ an object of that class\".\n",
    "\n",
    "**_my_class_instance = MyClass()_**\n",
    "\n",
    "That single line of our code actually did two things:\n",
    "- Instantiated an object of the class MyClass.\n",
    "- Assigned that instance to the variable named my_class_instance."
   ]
  },
  {
   "cell_type": "code",
   "execution_count": 2,
   "metadata": {},
   "outputs": [
    {
     "name": "stdout",
     "output_type": "stream",
     "text": [
      "<__main__.NewList object at 0x03D37ED0>\n"
     ]
    }
   ],
   "source": [
    "class NewList():\n",
    "    pass\n",
    "\n",
    "newlist_1 = NewList()\n",
    "\n",
    "print(newlist_1)"
   ]
  },
  {
   "cell_type": "markdown",
   "metadata": {},
   "source": [
    "### Creating Methods"
   ]
  },
  {
   "cell_type": "code",
   "execution_count": null,
   "metadata": {},
   "outputs": [],
   "source": []
  }
 ],
 "metadata": {
  "kernelspec": {
   "display_name": "Python 3",
   "language": "python",
   "name": "python3"
  },
  "language_info": {
   "codemirror_mode": {
    "name": "ipython",
    "version": 3
   },
   "file_extension": ".py",
   "mimetype": "text/x-python",
   "name": "python",
   "nbconvert_exporter": "python",
   "pygments_lexer": "ipython3",
   "version": "3.5.2"
  }
 },
 "nbformat": 4,
 "nbformat_minor": 4
}
