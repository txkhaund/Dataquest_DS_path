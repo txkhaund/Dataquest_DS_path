{
 "cells": [
  {
   "cell_type": "markdown",
   "metadata": {},
   "source": [
    "## Introduction"
   ]
  },
  {
   "cell_type": "markdown",
   "metadata": {},
   "source": [
    "So far, we've learned a system of programming known as __Procedural Programming__. In its simplest definition, procedural programming involves writing code in a number of sequential steps — and sometimes we combine these steps into commands called __functions__.\n",
    "\n",
    "We are now going to learn about a new system: __object-oriented programming (OOP)__. Rather than code being designed around sequential steps, it is instead defined around objects.\n",
    "\n",
    "When working with data, it's much more common to use a style that is closer to procedural programming style than OOP, but it's very important to understand how OOP works, because Python is an object-oriented language.\n",
    "\n",
    "This means almost everything in Python is actually an object; when you're working with Python, you are creating and manipulating objects."
   ]
  },
  {
   "cell_type": "markdown",
   "metadata": {},
   "source": [
    "### Classes and Objects:\n",
    "\n",
    "In OOP, objects have types, but instead of \"type\" we use the word __class__.\n",
    "- An __object__ is an entity that stores data.\n",
    "- An object's __class__ defines specific properties objects of that class will have."
   ]
  },
  {
   "cell_type": "markdown",
   "metadata": {},
   "source": [
    "#### Example: Compare Python string objects to Tesla electric cars.\n",
    "\n",
    "There are hundreds of thousands of Tesla cars around the world. Each car is similar in that it is a Tesla — it's not a Ford or Toyota — but at the same time, it is not necessarily identical to other Teslas. We would say that each of the cars are objects that belong to the Tesla class.\n",
    "\n",
    "Tesla has a blueprint — or plan — for making their cars. The blueprint defines what the car is, what it does, and how — everything that makes the car unique. That said, the blueprint isn't a car, it's just all the information needed to create the car. Similarly, in Python, we have code blueprints for classes. These blueprints are __class definitions__."
   ]
  },
  {
   "cell_type": "markdown",
   "metadata": {},
   "source": [
    "### Defining a Class"
   ]
  },
  {
   "cell_type": "markdown",
   "metadata": {},
   "source": [
    "Just like a function, we use parentheses and a colon after the class name (():) when we define a class. Similarly, the body of our class is indented like a function's body is.\n",
    "\n",
    "The rules for naming classes are the same as they are for naming functions and variables:\n",
    "\n",
    "1. We must use only letters, numbers, or underscores.\n",
    "    - We cannot use apostrophes, hyphens, whitespace characters, etc.\n",
    "2. Class names can't start with a number."
   ]
  },
  {
   "cell_type": "code",
   "execution_count": 1,
   "metadata": {},
   "outputs": [],
   "source": [
    "class NewList():\n",
    "    pass"
   ]
  },
  {
   "cell_type": "markdown",
   "metadata": {},
   "source": [
    "###  Instantiating a Class"
   ]
  },
  {
   "cell_type": "markdown",
   "metadata": {},
   "source": [
    "In OOP, we use instance to describe each different object.\n",
    "\n",
    "Once we have defined our class, we can create an object of that class, which is known as __instantiation__. If you create an object of a particular class, the technical phrase for what you did is to \"__Instantiate__ an object of that class\".\n",
    "\n",
    "**_my_class_instance = MyClass()_**\n",
    "\n",
    "That single line of our code actually did two things:\n",
    "- Instantiated an object of the class MyClass.\n",
    "- Assigned that instance to the variable named my_class_instance."
   ]
  },
  {
   "cell_type": "code",
   "execution_count": 2,
   "metadata": {},
   "outputs": [
    {
     "name": "stdout",
     "output_type": "stream",
     "text": [
      "<__main__.NewList object at 0x03D37ED0>\n"
     ]
    }
   ],
   "source": [
    "class NewList():\n",
    "    pass\n",
    "\n",
    "newlist_1 = NewList()\n",
    "\n",
    "print(newlist_1)"
   ]
  },
  {
   "cell_type": "markdown",
   "metadata": {},
   "source": [
    "### Creating Methods"
   ]
  },
  {
   "cell_type": "markdown",
   "metadata": {},
   "source": [
    "- Methods allow objects to perform actions\n",
    "- While a function can be used with any object, each class has its own set of methods.\n",
    "- We can't use a method from one class with the other class\n",
    "- The syntax for creating a method is almost identical to when we create a function, except it is indented within our class definition."
   ]
  },
  {
   "cell_type": "code",
   "execution_count": 3,
   "metadata": {},
   "outputs": [],
   "source": [
    "class NewList():\n",
    "    def first_method():\n",
    "        return \"This is my first method\"\n",
    "    \n",
    "newlist = NewList()"
   ]
  },
  {
   "cell_type": "markdown",
   "metadata": {},
   "source": [
    "### Understanding 'self'\n",
    "\n",
    "When we call the method, we run into an error"
   ]
  },
  {
   "cell_type": "code",
   "execution_count": 4,
   "metadata": {},
   "outputs": [
    {
     "ename": "TypeError",
     "evalue": "first_method() takes 0 positional arguments but 1 was given",
     "output_type": "error",
     "traceback": [
      "\u001b[1;31m---------------------------------------------------------------------------\u001b[0m",
      "\u001b[1;31mTypeError\u001b[0m                                 Traceback (most recent call last)",
      "\u001b[1;32m<ipython-input-4-696d058b84c9>\u001b[0m in \u001b[0;36m<module>\u001b[1;34m\u001b[0m\n\u001b[1;32m----> 1\u001b[1;33m \u001b[0mnewlist\u001b[0m\u001b[1;33m.\u001b[0m\u001b[0mfirst_method\u001b[0m\u001b[1;33m(\u001b[0m\u001b[1;33m)\u001b[0m\u001b[1;33m\u001b[0m\u001b[0m\n\u001b[0m",
      "\u001b[1;31mTypeError\u001b[0m: first_method() takes 0 positional arguments but 1 was given"
     ]
    }
   ],
   "source": [
    "newlist.first_method()"
   ]
  },
  {
   "cell_type": "markdown",
   "metadata": {},
   "source": [
    "This error is a bit confusing. It says that one argument was given to first_method(), but when we called the method we didn't provide any arguments. It seems like there is a \"__phantom__\" argument being inserted somewhere. To understand what's happening, let's look at what happens behind the scenes when we call a method.\n",
    "\n",
    "When we call the _first_method()_ method belonging to the _newlist_ object, Python interprets that syntax and adds in an argument representing the instance we're calling the method on.\n",
    "\n",
    "The extra argument that Python has added, which is the instance itself, is what is causing our error.\n",
    "\n",
    "Technically, we can give this first argument — which is passed to every method — any parameter name we like. However, the convention is to call the parameter __self__. This is an important convention, as without it class definitions can get confusing."
   ]
  },
  {
   "cell_type": "code",
   "execution_count": 5,
   "metadata": {},
   "outputs": [
    {
     "data": {
      "text/plain": [
       "'This is my first method'"
      ]
     },
     "execution_count": 5,
     "metadata": {},
     "output_type": "execute_result"
    }
   ],
   "source": [
    "class NewList():\n",
    "    def first_method(self):\n",
    "        return \"This is my first method\"\n",
    "\n",
    "newlist = NewList()\n",
    "\n",
    "result = newlist.first_method()\n",
    "\n",
    "result"
   ]
  },
  {
   "cell_type": "markdown",
   "metadata": {},
   "source": [
    "### Creating a method that accepts an argument"
   ]
  },
  {
   "cell_type": "code",
   "execution_count": 6,
   "metadata": {},
   "outputs": [],
   "source": [
    "class NewList():\n",
    "    def return_list(self, input_list):\n",
    "        return input_list\n",
    "    \n",
    "newlist = NewList()\n",
    "\n",
    "result = newlist.return_list([1, 2, 3])"
   ]
  },
  {
   "cell_type": "markdown",
   "metadata": {},
   "source": [
    "### Attributes and the Init Method\n",
    "\n",
    "- The power of objects is in their ability to store data, and data is stored inside objects using attributes.\n",
    "- Attributes are like special variables that belong to a particular class. Attributes let us store specific values about each instance of our class.\n",
    "- We define what is done with any arguments provided at instantiation using the __init method__.\n",
    "- The init method — also called a __constructor__ — is a special method that runs when an instance is created so we can perform any tasks to set up the instance.\n",
    "- The init method has a special name that starts and ends with two underscores: __ init __ ()\n",
    "- The init method's most common usage is to store data as an attribute\n",
    "    - Like methods, attributes are accessed using dot notation, but attributes don't have parentheses like methods do"
   ]
  },
  {
   "cell_type": "markdown",
   "metadata": {},
   "source": [
    "The table below summarizes some of the differences between attributes and methods:\n",
    "\n",
    "|           | Purpose | Similar to | Example Syntax |\n",
    "| --------- | ------- | ---------- | -------------- |\n",
    "| Attribute | Stores data | Variable | object.attribute |\n",
    "| Method | Performs actions | Function | object.method() |\n",
    "\n",
    "Let's take a moment to summarize what we've learned so far:\n",
    "\n",
    "- The power of objects is in their ability to store data.\n",
    "- Data is stored as attributes inside objects.\n",
    "- We access attributes using dot notation.\n",
    "- To give attributes values when we instantiate objects, we pass them as arguments to a special method called __ init __ (), which runs when we instantiate an object."
   ]
  },
  {
   "cell_type": "code",
   "execution_count": 7,
   "metadata": {},
   "outputs": [
    {
     "name": "stdout",
     "output_type": "stream",
     "text": [
      "[1, 2, 3, 4, 5]\n"
     ]
    }
   ],
   "source": [
    "class NewList():\n",
    "    def __init__(self, initial_state):\n",
    "        self.data = initial_state\n",
    "        \n",
    "my_list = NewList([1, 2, 3, 4, 5])\n",
    "\n",
    "print(my_list.data)"
   ]
  },
  {
   "cell_type": "markdown",
   "metadata": {},
   "source": [
    "### Creating an Append Method\n",
    "\n",
    "The method:\n",
    "\n",
    "- Accepts one argument.\n",
    "- Changes the underlying value of the object, so the list contains one extra value, which is the argument it was passed.\n",
    "- Doesn't return any value.\n",
    "\n",
    "In order to create this method, we need a way to add one extra item to a list. One straightforward way is to add brackets around the second item, making it a list with a single item, then use the + operator to join those two lists."
   ]
  },
  {
   "cell_type": "code",
   "execution_count": 9,
   "metadata": {},
   "outputs": [
    {
     "name": "stdout",
     "output_type": "stream",
     "text": [
      "[1, 2, 3, 4, 5]\n",
      "[1, 2, 3, 4, 5, 6]\n"
     ]
    }
   ],
   "source": [
    "class NewList():\n",
    "    \"\"\"\n",
    "    A Python list with some extras\n",
    "    \"\"\"\n",
    "    def __init__(self, initial_state):\n",
    "        self.data = initial_state\n",
    "        \n",
    "    def append(self, mylist):\n",
    "        self.data = self.data + [mylist]\n",
    "        \n",
    "        \n",
    "my_list = NewList([1, 2, 3, 4, 5])\n",
    "print(my_list.data)\n",
    "\n",
    "my_list.append(6)\n",
    "print(my_list.data)"
   ]
  },
  {
   "cell_type": "markdown",
   "metadata": {},
   "source": [
    "### Creating and updating an attribute\n",
    "\n",
    "Let's summarize the work we've done so far:\n",
    "\n",
    "- We've created a NewList class which stores a list at the point of instantiation using the init constructor.\n",
    "- We stored that list inside an attribute NewList.data.\n",
    "- We've created a method — NewList.append() — which mimics the behavior of list.append()."
   ]
  },
  {
   "cell_type": "markdown",
   "metadata": {},
   "source": [
    "We mentioned earlier that the order in which you define methods within a class doesn't matter, but there is a convention to order methods as follows:\n",
    "\n",
    "1. Init method\n",
    "2. Other methods"
   ]
  },
  {
   "cell_type": "code",
   "execution_count": 11,
   "metadata": {},
   "outputs": [
    {
     "name": "stdout",
     "output_type": "stream",
     "text": [
      "5\n",
      "6\n"
     ]
    }
   ],
   "source": [
    "class NewList():\n",
    "    \"\"\"\n",
    "    A Python list with extras!\n",
    "    \"\"\"\n",
    "    def __init__(self, initial_state):\n",
    "        self.data = initial_state\n",
    "        self.calc_length()    \n",
    "        \n",
    "    def append(self, new_item):\n",
    "        \"\"\"\n",
    "        Append 'new_item' to the NewList\n",
    "        \"\"\"\n",
    "        self.data = self.data + [new_item]\n",
    "        self.calc_length()\n",
    "    \n",
    "    def calc_length(self):\n",
    "        \"\"\"\n",
    "        Helper method to calculate the length of a list\n",
    "        \"\"\"\n",
    "        length = 0\n",
    "        for item in self.data:\n",
    "            length += 1\n",
    "        self.length = length\n",
    "        \n",
    "        \n",
    "fibonacci = NewList([1, 1, 2, 3, 5])\n",
    "print(fibonacci.length)\n",
    "\n",
    "fibonacci.append(8)\n",
    "print(fibonacci.length)"
   ]
  }
 ],
 "metadata": {
  "kernelspec": {
   "display_name": "Python 3",
   "language": "python",
   "name": "python3"
  },
  "language_info": {
   "codemirror_mode": {
    "name": "ipython",
    "version": 3
   },
   "file_extension": ".py",
   "mimetype": "text/x-python",
   "name": "python",
   "nbconvert_exporter": "python",
   "pygments_lexer": "ipython3",
   "version": "3.5.2"
  }
 },
 "nbformat": 4,
 "nbformat_minor": 4
}
