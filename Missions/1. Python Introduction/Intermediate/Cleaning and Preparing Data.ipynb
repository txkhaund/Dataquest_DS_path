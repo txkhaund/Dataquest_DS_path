{
 "cells": [
  {
   "cell_type": "markdown",
   "metadata": {},
   "source": [
    "### Python Intermediate Practice Code"
   ]
  },
  {
   "cell_type": "markdown",
   "metadata": {},
   "source": [
    "#### Intro to Data Cleaning\n",
    "\n",
    "Data with a consistent format is often described as \"clean.\" As data scientists, not all data we encounter is clean; we often need to prepare it in a process called __data cleaning__.\n",
    "\n",
    "We'll perform data cleaning on a real-world data set of artworks contained in the Museum of Modern Art (MoMA)."
   ]
  },
  {
   "cell_type": "markdown",
   "metadata": {},
   "source": [
    "#### Reading our MoMA Data Set"
   ]
  },
  {
   "cell_type": "code",
   "execution_count": 1,
   "metadata": {},
   "outputs": [],
   "source": [
    "from csv import reader\n",
    "opened_file = open('data/artworks.csv')\n",
    "read_file = reader(opened_file)\n",
    "moma = list(read_file)\n",
    "moma_header = moma[0]\n",
    "moma_data = moma[1:]"
   ]
  },
  {
   "cell_type": "markdown",
   "metadata": {},
   "source": [
    "#### Replacing substrings with the 'replace()' function\n",
    "\n",
    "Often when we're cleaning data, we need to replace parts of strings so our data is consistent. When we want to refer to part of a string, we use the term __substring__.\n",
    "\n",
    "The __str.replace()__ method is like a \"find and replace\" tool for strings. To achieve this using str.replace(), we need to provide two arguments:\n",
    "\n",
    "1. __old__: The substring we want to find and replace.\n",
    "2. __new__: The substring we want to replace old with.\n",
    "\n",
    "When we use __str.replace()__, we substitute the _str_ for the variable name of the string we want to modify.\n",
    "We need to use _=_ to assign the modified string to a variable name."
   ]
  },
  {
   "cell_type": "code",
   "execution_count": 2,
   "metadata": {},
   "outputs": [
    {
     "data": {
      "text/plain": [
       "'I am twenty-seven years old'"
      ]
     },
     "execution_count": 2,
     "metadata": {},
     "output_type": "execute_result"
    }
   ],
   "source": [
    "age1 = \"I am twenty-six years old\"\n",
    "\n",
    "age2 = age1.replace('six','seven')\n",
    "age2"
   ]
  },
  {
   "cell_type": "markdown",
   "metadata": {},
   "source": [
    "#### Cleaning the _Nationality_ and _Gender_ Columns"
   ]
  },
  {
   "cell_type": "code",
   "execution_count": 3,
   "metadata": {},
   "outputs": [],
   "source": [
    "for row in moma_data:\n",
    "    nationality = row[2] # Index 2 for Nationality\n",
    "    nationality = nationality.replace('(', '')\n",
    "    nationality = nationality.replace(')', '')\n",
    "    row[2] = nationality\n",
    "    \n",
    "    gender = row[5] # Index 5 for Gender\n",
    "    gender = gender.replace('(', '')\n",
    "    gender = gender.replace(')', '')\n",
    "    row[5] = gender"
   ]
  },
  {
   "cell_type": "markdown",
   "metadata": {},
   "source": [
    "#### String Capitalization"
   ]
  },
  {
   "cell_type": "markdown",
   "metadata": {},
   "source": [
    "The Gender column in our data set contains four unique values:\n",
    "\n",
    "- \"\" (an empty string)\n",
    "- \"Male\"\n",
    "- \"Female\"\n",
    "- \"male\"\n",
    "\n",
    "There are a few ways we could handle this using what we know so far:\n",
    "\n",
    "1. We could use str.replace() to replace m with M, but then we'd end up with instances of FeMale.\n",
    "2. We could use str.replace() to replace male with Male. This would also give us instances of FeMale.\n",
    "\n",
    "We can use a Python string method designed specifically for handling capitalization: the __str.title()__ method. The str.title() method returns a copy of the string with the first letter of each word transformed to uppercase (also known as __title__ case)."
   ]
  },
  {
   "cell_type": "markdown",
   "metadata": {},
   "source": [
    "We have a number of rows containing an empty string (\"\") for the Gender column. This could mean:\n",
    "\n",
    "- That the person entering the data didn't know the gender of the artist.\n",
    "- That the artist is unknown and so the gender is also unknown.\n",
    "- That the artist's gender is non-binary.\n",
    "\n",
    "When we correct the capitalization, we'll also take the opportunity to label these with the string \"Gender Unknown/Other\""
   ]
  },
  {
   "cell_type": "code",
   "execution_count": 4,
   "metadata": {},
   "outputs": [],
   "source": [
    "for row in moma_data:\n",
    "    # Cleaning the Gender column\n",
    "    gender = row[5]\n",
    "    gender = gender.title()\n",
    "    if not gender:\n",
    "        gender = \"Gender Unknown/Other\"\n",
    "    \n",
    "    row[5] = gender\n",
    "    \n",
    "    # Cleaning the Nationality column\n",
    "    nationality = row[2]\n",
    "    nationality = nationality.title()\n",
    "    if not nationality:\n",
    "        nationality = \"Nationality Unknown\"\n",
    "    row[2] = nationality"
   ]
  },
  {
   "cell_type": "markdown",
   "metadata": {},
   "source": [
    "#### Errors during data cleaning\n",
    "\n",
    "To clean up the BeginDate and EndDate columns, let's write a function that will remove '()' and convert str to int for later use"
   ]
  },
  {
   "cell_type": "code",
   "execution_count": 5,
   "metadata": {},
   "outputs": [],
   "source": [
    "def clean_and_convert(date):\n",
    "    # check that we don't have any empty strings\n",
    "    if date != '':\n",
    "        date = date.replace('-', '')\n",
    "        date = date.replace(')','')\n",
    "        date = int(date)\n",
    "    return date"
   ]
  },
  {
   "cell_type": "code",
   "execution_count": 6,
   "metadata": {},
   "outputs": [],
   "source": [
    "for row in moma_data:\n",
    "    BeginDate = clean_and_convert(row[3]) # Index 3 for BeginDate\n",
    "    EndDate = clean_and_convert(row[4])   # Index 4 for EndDate\n",
    "    row[3], row[4] = BeginDate, EndDate"
   ]
  },
  {
   "cell_type": "code",
   "execution_count": 9,
   "metadata": {},
   "outputs": [
    {
     "data": {
      "text/plain": [
       "1944"
      ]
     },
     "execution_count": 9,
     "metadata": {},
     "output_type": "execute_result"
    }
   ],
   "source": [
    "moma_data[254][3]"
   ]
  },
  {
   "cell_type": "markdown",
   "metadata": {},
   "source": [
    "If we were to combine the data from the BeginDate column — which represents the artist's year of birth — with the data in the Date column — which represents the year in which the piece of art was created — we can calculate the age at which the artist produced the work.\n",
    "\n",
    "The Date column contains data in many different formats:\n",
    "\n",
    "- Some years are in parentheses.\n",
    "- Some years have c. or C. before them, indicating that the year is approximate.\n",
    "- Some have year ranges, indicated with a dash.\n",
    "- Some have 's to indicate a decade."
   ]
  },
  {
   "cell_type": "code",
   "execution_count": 10,
   "metadata": {},
   "outputs": [],
   "source": [
    "test_data = [\"1912\", \"1929\", \"1913-1923\",\n",
    "             \"(1951)\", \"1994\", \"1934\",\n",
    "             \"c. 1915\", \"1995\", \"c. 1912\",\n",
    "             \"(1988)\", \"2002\", \"1957-1959\",\n",
    "             \"c. 1955.\", \"c. 1970's\", \n",
    "             \"C. 1990-1999\"]\n",
    "\n",
    "bad_chars = [\"(\",\")\",\"c\",\"C\",\".\",\"s\",\"'\", \" \"]\n",
    "stripped_test_data = []\n",
    "\n",
    "def strip_characters(date):\n",
    "    for char in bad_chars:\n",
    "        date = date.replace(char,\"\")\n",
    "    return date\n",
    "\n",
    "for entry in test_data:\n",
    "    date = strip_characters(entry)\n",
    "    stripped_test_data.append(date)"
   ]
  },
  {
   "cell_type": "markdown",
   "metadata": {},
   "source": [
    "In our test data, we successfully removed the bad characters and we are left with two types of dates.\n",
    "- Some are a single year, e.g. 1912.\n",
    "- Some are ranges of years, e.g. 1913-1923.\n",
    "\n",
    "When we encounter data like this, we need to make decisions on how you'll proceed. One option might be to discard all approximate years so we know that our calculations are exact. Because we're calculating an artist's age, approximate data is fine — the difference between an artist being 42 and 44 years old, for instance, is more nuanced than we need."
   ]
  },
  {
   "cell_type": "code",
   "execution_count": 11,
   "metadata": {},
   "outputs": [
    {
     "data": {
      "text/plain": [
       "['1912',\n",
       " '1929',\n",
       " '1913-1923',\n",
       " '1951',\n",
       " '1994',\n",
       " '1934',\n",
       " '1915',\n",
       " '1995',\n",
       " '1912',\n",
       " '1988',\n",
       " '2002',\n",
       " '1957-1959',\n",
       " '1955',\n",
       " '1970',\n",
       " '1990-1999']"
      ]
     },
     "execution_count": 11,
     "metadata": {},
     "output_type": "execute_result"
    }
   ],
   "source": [
    "stripped_test_data"
   ]
  },
  {
   "cell_type": "markdown",
   "metadata": {},
   "source": [
    "Here are the ways we'll treat the various cases:\n",
    "\n",
    "- Where there is a single year, we'll keep it.\n",
    "- Where there is a year range, we'll average the two years.\n",
    "\n",
    "We want to write code that does the following for each value:\n",
    "\n",
    "- Checks if the dash character (-) is in the string so we know if it's a range or not.\n",
    "- If the __date is a range__:\n",
    "    - Splits the string into two strings, before and after the dash character.\n",
    "    - Converts the two numbers to the integer type and then average them by adding them together and dividing by two.\n",
    "    - Uses the round() function to round the average, so values like 1964.5 become 1964.\n",
    "- If the __date isn't a range__:\n",
    "    - Converts the value to an integer type."
   ]
  },
  {
   "cell_type": "code",
   "execution_count": 12,
   "metadata": {},
   "outputs": [],
   "source": [
    "processed_test_date = []\n",
    "\n",
    "def process_date(date):\n",
    "    if '-' in date:\n",
    "        date = date.split('-')\n",
    "        date =round((int(date[0]) + int(date[1]))/len(date))\n",
    "    elif not date:\n",
    "        date = 0\n",
    "    else:\n",
    "        date = int(date)\n",
    "    return date\n",
    "\n",
    "for entry in stripped_test_data:\n",
    "    date = process_date(entry)\n",
    "    processed_test_date.append(date)"
   ]
  },
  {
   "cell_type": "code",
   "execution_count": 13,
   "metadata": {},
   "outputs": [
    {
     "data": {
      "text/plain": [
       "[1912,\n",
       " 1929,\n",
       " 1918,\n",
       " 1951,\n",
       " 1994,\n",
       " 1934,\n",
       " 1915,\n",
       " 1995,\n",
       " 1912,\n",
       " 1988,\n",
       " 2002,\n",
       " 1958,\n",
       " 1955,\n",
       " 1970,\n",
       " 1994]"
      ]
     },
     "execution_count": 13,
     "metadata": {},
     "output_type": "execute_result"
    }
   ],
   "source": [
    "processed_test_date"
   ]
  },
  {
   "cell_type": "markdown",
   "metadata": {},
   "source": [
    "Let's test the functions on the actual data. Date column is in index 8 in our dataset. We will not run the code on our original datset since it is very very noisy. I am currently working on it to clean it and will add the new code accordingly."
   ]
  },
  {
   "cell_type": "markdown",
   "metadata": {},
   "source": [
    "__Note:__ For now, let's focus on the lessons from Dataquest and just have the code written. Since this is my own copy, I will post the code that works after testing them on their console."
   ]
  },
  {
   "cell_type": "code",
   "execution_count": null,
   "metadata": {},
   "outputs": [],
   "source": [
    "# for row in moma_data:\n",
    "#     date = row[8]\n",
    "#     strip_date = strip_characters(date) # Index 8 for Date\n",
    "    \n",
    "#     clean_date = process_date(strip_date)\n",
    "#     row[8]= clean_date\n",
    "    \n",
    "# moma_data[7][8]"
   ]
  },
  {
   "cell_type": "code",
   "execution_count": 15,
   "metadata": {},
   "outputs": [],
   "source": [
    "import csv\n",
    "\n",
    "output_file = \"data/artworks_clean.csv\"\n",
    "with open(output_file, \"w\", newline='') as result:\n",
    "    writer = csv.writer(result)\n",
    "    writer.writerow(moma_header)\n",
    "    for row in moma_data:\n",
    "        writer.writerow(row)\n",
    "    "
   ]
  },
  {
   "cell_type": "code",
   "execution_count": null,
   "metadata": {},
   "outputs": [],
   "source": []
  }
 ],
 "metadata": {
  "kernelspec": {
   "display_name": "Python 3",
   "language": "python",
   "name": "python3"
  },
  "language_info": {
   "codemirror_mode": {
    "name": "ipython",
    "version": 3
   },
   "file_extension": ".py",
   "mimetype": "text/x-python",
   "name": "python",
   "nbconvert_exporter": "python",
   "pygments_lexer": "ipython3",
   "version": "3.5.2"
  }
 },
 "nbformat": 4,
 "nbformat_minor": 4
}
