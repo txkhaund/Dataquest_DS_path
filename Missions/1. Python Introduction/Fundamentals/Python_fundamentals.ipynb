{
 "cells": [
  {
   "cell_type": "markdown",
   "metadata": {},
   "source": [
    "## Python Practice code"
   ]
  },
  {
   "cell_type": "code",
   "execution_count": 1,
   "metadata": {},
   "outputs": [
    {
     "data": {
      "text/plain": [
       "30"
      ]
     },
     "execution_count": 1,
     "metadata": {},
     "output_type": "execute_result"
    }
   ],
   "source": [
    "23+7"
   ]
  },
  {
   "cell_type": "code",
   "execution_count": 2,
   "metadata": {},
   "outputs": [
    {
     "name": "stdout",
     "output_type": "stream",
     "text": [
      "44\n",
      "175\n",
      "17\n"
     ]
    }
   ],
   "source": [
    "print(40+4)\n",
    "print(200-25)\n",
    "print(14+3)"
   ]
  },
  {
   "cell_type": "code",
   "execution_count": 3,
   "metadata": {},
   "outputs": [
    {
     "name": "stdout",
     "output_type": "stream",
     "text": [
      "80\n",
      "4\n",
      "-3\n"
     ]
    }
   ],
   "source": [
    "print(30 + 10 + 40)\n",
    "print(4)\n",
    "print(-3)"
   ]
  },
  {
   "cell_type": "code",
   "execution_count": 4,
   "metadata": {},
   "outputs": [
    {
     "name": "stdout",
     "output_type": "stream",
     "text": [
      "50\n",
      "34\n",
      "-34\n"
     ]
    }
   ],
   "source": [
    "print(34 + 16)\n",
    "print(34)\n",
    "print(-34)"
   ]
  },
  {
   "cell_type": "code",
   "execution_count": 5,
   "metadata": {},
   "outputs": [
    {
     "name": "stdout",
     "output_type": "stream",
     "text": [
      "160\n",
      "9.6\n",
      "125\n"
     ]
    }
   ],
   "source": [
    "print(16 * 10)\n",
    "print(48 / 5)\n",
    "print(5 ** 3)"
   ]
  },
  {
   "cell_type": "markdown",
   "metadata": {},
   "source": [
    "### Variables and Data Types"
   ]
  },
  {
   "cell_type": "code",
   "execution_count": 6,
   "metadata": {},
   "outputs": [
    {
     "name": "stdout",
     "output_type": "stream",
     "text": [
      "682\n"
     ]
    }
   ],
   "source": [
    "result = (42 - 11) * 22\n",
    "print(result)"
   ]
  },
  {
   "cell_type": "code",
   "execution_count": 7,
   "metadata": {},
   "outputs": [
    {
     "name": "stdout",
     "output_type": "stream",
     "text": [
      "15\n",
      "318\n",
      "321\n"
     ]
    }
   ],
   "source": [
    "a_value = 15\n",
    "a_result = (25 - 7) * 17\n",
    "print(a_value)\n",
    "print(a_result + 12)\n",
    "print(a_value + a_result)"
   ]
  },
  {
   "cell_type": "code",
   "execution_count": 8,
   "metadata": {},
   "outputs": [],
   "source": [
    "# INITIAL CODE\n",
    "old_income = 34000\n",
    "new_income = 40000"
   ]
  },
  {
   "cell_type": "code",
   "execution_count": 9,
   "metadata": {},
   "outputs": [
    {
     "name": "stdout",
     "output_type": "stream",
     "text": [
      "40000\n"
     ]
    }
   ],
   "source": [
    "income = 34000\n",
    "income = income + 6000\n",
    "print(income)"
   ]
  },
  {
   "cell_type": "code",
   "execution_count": 10,
   "metadata": {},
   "outputs": [
    {
     "name": "stdout",
     "output_type": "stream",
     "text": [
      "80\n",
      "30\n"
     ]
    }
   ],
   "source": [
    "variable_1 = 20\n",
    "variable_2 = 20\n",
    "variable_2 += 10\n",
    "variable_1 *= 4\n",
    "print(variable_1)\n",
    "print(variable_2)"
   ]
  },
  {
   "cell_type": "code",
   "execution_count": 11,
   "metadata": {},
   "outputs": [
    {
     "name": "stdout",
     "output_type": "stream",
     "text": [
      "16.5\n",
      "5.0\n"
     ]
    }
   ],
   "source": [
    "variable_1 = 10\n",
    "variable_2 = 2.5\n",
    "variable_1 += 6.5\n",
    "variable_2 *= 2\n",
    "print(variable_1)\n",
    "print(variable_2)"
   ]
  },
  {
   "cell_type": "code",
   "execution_count": 12,
   "metadata": {},
   "outputs": [
    {
     "name": "stdout",
     "output_type": "stream",
     "text": [
      "14\n",
      "2\n"
     ]
    }
   ],
   "source": [
    "variable_a = 13.9\n",
    "variable_b = 2.8\n",
    "variable_a = round(variable_a)\n",
    "variable_b = int(variable_b)\n",
    "print(variable_a)\n",
    "print(variable_b)"
   ]
  },
  {
   "cell_type": "code",
   "execution_count": 13,
   "metadata": {},
   "outputs": [
    {
     "name": "stdout",
     "output_type": "stream",
     "text": [
      "Pandora - Music & Radio\n"
     ]
    }
   ],
   "source": [
    "app_name = 'Pandora - Music & Radio'\n",
    "average_rating = str(4.5)\n",
    "total_ratings = '1724546'\n",
    "price = 'free'\n",
    "print(app_name)"
   ]
  },
  {
   "cell_type": "code",
   "execution_count": 14,
   "metadata": {},
   "outputs": [
    {
     "name": "stdout",
     "output_type": "stream",
     "text": [
      "Facebook's new motto is \"move fast with stable infra.\"\n"
     ]
    }
   ],
   "source": [
    "motto = 'Facebook\\'s new motto is \"move fast with stable infra.\"'\n",
    "print(motto)"
   ]
  },
  {
   "cell_type": "code",
   "execution_count": 15,
   "metadata": {},
   "outputs": [
    {
     "name": "stdout",
     "output_type": "stream",
     "text": [
      "Facebook's rating is 3.5\n"
     ]
    }
   ],
   "source": [
    "facebook = 'Facebook\\'s rating is'\n",
    "fb_rating = 3.5\n",
    "fb_rating_str = str(fb_rating)\n",
    "fb = facebook + ' ' + fb_rating_str\n",
    "print(fb)"
   ]
  },
  {
   "cell_type": "markdown",
   "metadata": {},
   "source": [
    "### Lists"
   ]
  },
  {
   "cell_type": "code",
   "execution_count": 16,
   "metadata": {},
   "outputs": [],
   "source": [
    "row_1 = ['Facebook', 0.0, 'USD', 2974676, 3.5]\n",
    "row_2 = ['Instagram', 0.0, 'USD', 2161558, 4.5]\n",
    "row_3 = ['Clash of Clans', 0.0, 'USD', 2130805, 4.5]"
   ]
  },
  {
   "cell_type": "code",
   "execution_count": 17,
   "metadata": {},
   "outputs": [],
   "source": [
    "ratings_1 = row_1[3]\n",
    "ratings_2 = row_2[3]\n",
    "ratings_3 = row_3[3]\n",
    "total = ratings_1 + ratings_2 + ratings_3\n",
    "average = total / 3"
   ]
  },
  {
   "cell_type": "code",
   "execution_count": 18,
   "metadata": {},
   "outputs": [],
   "source": [
    "rating_1 = row_1[-1]\n",
    "rating_2 = row_2[-1]\n",
    "rating_3 = row_3[-1]\n",
    "total_rating = rating_1 + rating_2 + rating_3\n",
    "average_rating = total_rating / 3"
   ]
  },
  {
   "cell_type": "code",
   "execution_count": 19,
   "metadata": {},
   "outputs": [],
   "source": [
    "row_1 = ['Facebook', 0.0, 'USD', 2974676, 3.5]\n",
    "row_2 = ['Instagram', 0.0, 'USD', 2161558, 4.5]\n",
    "row_3 = ['Clash of Clans', 0.0, 'USD', 2130805, 4.5]\n",
    "row_4 = ['Temple Run', 0.0, 'USD', 1724546, 4.5]\n",
    "row_5 = ['Pandora - Music & Radio', 0.0, 'USD', 1126879, 4.0]"
   ]
  },
  {
   "cell_type": "code",
   "execution_count": 20,
   "metadata": {},
   "outputs": [],
   "source": [
    "fb_rating_data = [row_1[0], row_1[3], row_1[-1]]\n",
    "insta_rating_data = [row_2[0], row_2[3], row_2[-1]]\n",
    "pandora_rating_data = [row_5[0], row_5[3], row_5[-1]]\n",
    "\n",
    "avg_rating = (fb_rating_data[-1] + insta_rating_data[-1] + pandora_rating_data[-1]) / 3"
   ]
  },
  {
   "cell_type": "code",
   "execution_count": 21,
   "metadata": {},
   "outputs": [],
   "source": [
    "first_4_fb = row_1[:4]\n",
    "last_3_fb = row_1[-3:]\n",
    "pandora_3_4 = row_5[2:4]"
   ]
  },
  {
   "cell_type": "code",
   "execution_count": 22,
   "metadata": {},
   "outputs": [],
   "source": [
    "app_data_set = [row_1, row_2, row_3, row_4, row_5]\n",
    "avg_rating = (app_data_set[0][-1] + app_data_set[1][-1] + app_data_set[2][-1] + app_data_set[3][-1] + app_data_set[4][-1]) / len(app_data_set)"
   ]
  },
  {
   "cell_type": "code",
   "execution_count": 23,
   "metadata": {},
   "outputs": [
    {
     "name": "stdout",
     "output_type": "stream",
     "text": [
      "['Facebook', 0.0, 'USD', 2974676, 3.5]\n",
      "['Instagram', 0.0, 'USD', 2161558, 4.5]\n",
      "['Clash of Clans', 0.0, 'USD', 2130805, 4.5]\n",
      "['Temple Run', 0.0, 'USD', 1724546, 4.5]\n",
      "['Pandora - Music & Radio', 0.0, 'USD', 1126879, 4.0]\n"
     ]
    }
   ],
   "source": [
    "for mylist in app_data_set:\n",
    "    print(mylist)"
   ]
  },
  {
   "cell_type": "code",
   "execution_count": 24,
   "metadata": {},
   "outputs": [
    {
     "data": {
      "text/plain": [
       "4.166666666666667"
      ]
     },
     "execution_count": 24,
     "metadata": {},
     "output_type": "execute_result"
    }
   ],
   "source": [
    "rating_sum = 0\n",
    "\n",
    "for value in app_data_set:\n",
    "    rating = value[-1]\n",
    "    rating_sum += rating\n",
    "avg_rating = rating_sum / len(app_data_set[-1])\n",
    "\n",
    "average_rating"
   ]
  },
  {
   "cell_type": "code",
   "execution_count": 25,
   "metadata": {},
   "outputs": [
    {
     "name": "stdout",
     "output_type": "stream",
     "text": [
      "25383.5\n"
     ]
    },
    {
     "data": {
      "text/plain": [
       "3.526955675976101"
      ]
     },
     "execution_count": 25,
     "metadata": {},
     "output_type": "execute_result"
    }
   ],
   "source": [
    "from csv import reader\n",
    "\n",
    "opened_file = open('./data/AppleStore.csv', mode='r', encoding ='UTF-8')\n",
    "read_file = reader(opened_file)\n",
    "apps_data = list(read_file)\n",
    "\n",
    "rating_sum = 0\n",
    "\n",
    "for row in apps_data[1:]:\n",
    "    rating = float(row[7])\n",
    "    rating_sum += rating\n",
    "    \n",
    "print(rating_sum)\n",
    "avg_rating = rating_sum / len(apps_data[1:])\n",
    "\n",
    "avg_rating\n",
    "    "
   ]
  },
  {
   "cell_type": "code",
   "execution_count": 26,
   "metadata": {},
   "outputs": [
    {
     "data": {
      "text/plain": [
       "3.526955675976101"
      ]
     },
     "execution_count": 26,
     "metadata": {},
     "output_type": "execute_result"
    }
   ],
   "source": [
    "all_ratings = []\n",
    "for row in apps_data[1:]:\n",
    "    rating = float(row[7])\n",
    "    all_ratings.append(rating)\n",
    "        \n",
    "avg_rating = sum(all_ratings) / len(apps_data[1:])\n",
    "avg_rating"
   ]
  },
  {
   "cell_type": "markdown",
   "metadata": {},
   "source": [
    "### Conditional Statements"
   ]
  },
  {
   "cell_type": "markdown",
   "metadata": {},
   "source": [
    "#### Average Rating of free apps:"
   ]
  },
  {
   "cell_type": "code",
   "execution_count": 27,
   "metadata": {},
   "outputs": [
    {
     "data": {
      "text/plain": [
       "3.3767258382642997"
      ]
     },
     "execution_count": 27,
     "metadata": {},
     "output_type": "execute_result"
    }
   ],
   "source": [
    "from csv import reader\n",
    "opened_file = open('data/AppleStore.csv', encoding = 'UTF-8')\n",
    "read_file = reader(opened_file)\n",
    "apps_data = list(read_file)\n",
    "\n",
    "free_apps_ratings = []\n",
    "\n",
    "for row in apps_data[1:]:\n",
    "    rating = float(row[7])\n",
    "    price = float(row[4])\n",
    "    if price == 0.0:\n",
    "        free_apps_ratings.append(rating)\n",
    "avg_rating_free = sum(free_apps_ratings) / len(free_apps_ratings)\n",
    "avg_rating_free"
   ]
  },
  {
   "cell_type": "code",
   "execution_count": 28,
   "metadata": {},
   "outputs": [
    {
     "name": "stdout",
     "output_type": "stream",
     "text": [
      "This is free\n"
     ]
    }
   ],
   "source": [
    "a_price = 0\n",
    "if a_price == 0:\n",
    "    print('This is free')\n",
    "if a_price == 1:\n",
    "    print('This is not free')"
   ]
  },
  {
   "cell_type": "markdown",
   "metadata": {},
   "source": [
    "#### Average Rating of non-free apps:"
   ]
  },
  {
   "cell_type": "code",
   "execution_count": 29,
   "metadata": {},
   "outputs": [
    {
     "data": {
      "text/plain": [
       "3.720948742438714"
      ]
     },
     "execution_count": 29,
     "metadata": {},
     "output_type": "execute_result"
    }
   ],
   "source": [
    "non_free_apps_ratings = []\n",
    "for row in apps_data[1:]:\n",
    "    rating = float(row[7])\n",
    "    price = float(row[4])\n",
    "    if price != 0:\n",
    "        non_free_apps_ratings.append(rating)\n",
    "avg_rating_non_free = sum(non_free_apps_ratings) / len(non_free_apps_ratings)\n",
    "\n",
    "avg_rating_non_free"
   ]
  },
  {
   "cell_type": "markdown",
   "metadata": {},
   "source": [
    "#### Average Rating of gaming apps vs non-gaming apps"
   ]
  },
  {
   "cell_type": "code",
   "execution_count": 30,
   "metadata": {},
   "outputs": [
    {
     "name": "stdout",
     "output_type": "stream",
     "text": [
      "3.6850077679958573 3.343928035982009\n"
     ]
    }
   ],
   "source": [
    "games_ratings = []\n",
    "non_games_ratings = []\n",
    "\n",
    "for row in apps_data[1:]:\n",
    "    rating = float(row[7])\n",
    "    genre = row[11]\n",
    "    if genre == 'Games':\n",
    "        games_ratings.append(rating)\n",
    "    if genre != 'Games':\n",
    "        non_games_ratings.append(rating)\n",
    "avg_rating_games = sum(games_ratings) / len(games_ratings)\n",
    "avg_rating_non_games = sum(non_games_ratings) / len(non_games_ratings)\n",
    "\n",
    "print(avg_rating_games, avg_rating_non_games)"
   ]
  },
  {
   "cell_type": "markdown",
   "metadata": {},
   "source": [
    "### Multiple conditional statements"
   ]
  },
  {
   "cell_type": "markdown",
   "metadata": {},
   "source": [
    "#### Average Rating of free gaming apps vs non-free gaming apps"
   ]
  },
  {
   "cell_type": "code",
   "execution_count": 31,
   "metadata": {},
   "outputs": [
    {
     "name": "stdout",
     "output_type": "stream",
     "text": [
      "3.5285777580859548 3.9049844236760123\n"
     ]
    }
   ],
   "source": [
    "free_games_ratings = []\n",
    "non_free_games_ratings = []\n",
    "\n",
    "for row in apps_data[1:]:\n",
    "    price = float(row[4])\n",
    "    rating = float(row[7])\n",
    "    genre = row[11]\n",
    "    if price == 0.0 and genre == 'Games':\n",
    "        free_games_ratings.append(rating)\n",
    "    if price != 0.0 and genre == 'Games':\n",
    "        non_free_games_ratings.append(rating)\n",
    "avg_rating_free_games = sum(free_games_ratings) / len(free_games_ratings)\n",
    "avg_rating_non_free_games = sum(non_free_games_ratings) / len(non_free_games_ratings)\n",
    "\n",
    "print(avg_rating_free_games, avg_rating_non_free_games)"
   ]
  },
  {
   "cell_type": "markdown",
   "metadata": {},
   "source": [
    "#### Average Rating of free non-gaming apps vs non-free non-gaming apps"
   ]
  },
  {
   "cell_type": "code",
   "execution_count": 32,
   "metadata": {},
   "outputs": [
    {
     "name": "stdout",
     "output_type": "stream",
     "text": [
      "3.18621456364647 3.5286458333333335\n"
     ]
    }
   ],
   "source": [
    "free_non_games_ratings = []\n",
    "non_free_non_games_ratings = []\n",
    "\n",
    "for row in apps_data[1:]:\n",
    "    price = float(row[4])\n",
    "    rating = float(row[7])\n",
    "    genre = row[11]\n",
    "    if price == 0.0 and genre != 'Games':\n",
    "        free_non_games_ratings.append(rating)\n",
    "    if price != 0.0 and genre != 'Games':\n",
    "        non_free_non_games_ratings.append(rating)\n",
    "avg_rating_free_non_games = sum(free_non_games_ratings) / len(free_non_games_ratings)\n",
    "avg_rating_non_free_non_games = sum(non_free_non_games_ratings) / len(non_free_non_games_ratings)\n",
    "\n",
    "print(avg_rating_free_non_games, avg_rating_non_free_non_games)"
   ]
  },
  {
   "cell_type": "markdown",
   "metadata": {},
   "source": [
    "#### Average Rating of gaming or social networking apps"
   ]
  },
  {
   "cell_type": "code",
   "execution_count": 33,
   "metadata": {},
   "outputs": [
    {
     "data": {
      "text/plain": [
       "3.655994043186895"
      ]
     },
     "execution_count": 33,
     "metadata": {},
     "output_type": "execute_result"
    }
   ],
   "source": [
    "games_social_ratings = []\n",
    "\n",
    "for row in apps_data[1:]:\n",
    "    rating = float(row[7])\n",
    "    genre = row[11]\n",
    "    if genre == 'Social Networking' or genre == 'Games':\n",
    "        games_social_ratings.append(rating)\n",
    "        \n",
    "avg_games_social = sum(games_social_ratings) / len(games_social_ratings)\n",
    "avg_games_social"
   ]
  },
  {
   "cell_type": "markdown",
   "metadata": {},
   "source": [
    "#### What is the average rating of free apps whose genre is either \"Social Networking\" or \"Games\"?"
   ]
  },
  {
   "cell_type": "code",
   "execution_count": 34,
   "metadata": {},
   "outputs": [
    {
     "data": {
      "text/plain": [
       "3.496875"
      ]
     },
     "execution_count": 34,
     "metadata": {},
     "output_type": "execute_result"
    }
   ],
   "source": [
    "free_games_social_ratings = []\n",
    "\n",
    "for row in apps_data[1:]:\n",
    "    price = float(row[4])\n",
    "    rating = float(row[7])\n",
    "    genre = row[11]\n",
    "    if price == 0.0 and (genre == 'Social Networking' or genre == 'Games'):\n",
    "        free_games_social_ratings.append(rating)\n",
    "        \n",
    "avg_free_games_social = sum(free_games_social_ratings) / len(free_games_social_ratings)\n",
    "avg_free_games_social"
   ]
  },
  {
   "cell_type": "markdown",
   "metadata": {},
   "source": [
    "#### What is the average rating of non-free apps whose genre is either \"Social Networking\" or \"Games\"?"
   ]
  },
  {
   "cell_type": "code",
   "execution_count": 35,
   "metadata": {},
   "outputs": [
    {
     "data": {
      "text/plain": [
       "3.8904235727440146"
      ]
     },
     "execution_count": 35,
     "metadata": {},
     "output_type": "execute_result"
    }
   ],
   "source": [
    "non_free_games_social_ratings = []\n",
    "\n",
    "for row in apps_data[1:]:\n",
    "    price = float(row[4])\n",
    "    rating = float(row[7])\n",
    "    genre = row[11]\n",
    "    if price != 0.0 and (genre == 'Social Networking' or genre == 'Games'):\n",
    "        non_free_games_social_ratings.append(rating)\n",
    "        \n",
    "avg_non_free_games_social = sum(non_free_games_social_ratings) / len(non_free_games_social_ratings)\n",
    "avg_non_free_games_social"
   ]
  },
  {
   "cell_type": "markdown",
   "metadata": {},
   "source": [
    "### Other Comparison operators"
   ]
  },
  {
   "cell_type": "markdown",
   "metadata": {},
   "source": [
    "#### How many apps have a rating of 4.0 or greater?"
   ]
  },
  {
   "cell_type": "code",
   "execution_count": 36,
   "metadata": {},
   "outputs": [
    {
     "data": {
      "text/plain": [
       "4781"
      ]
     },
     "execution_count": 36,
     "metadata": {},
     "output_type": "execute_result"
    }
   ],
   "source": [
    "num_apps = 0\n",
    "\n",
    "for row in apps_data[1:]:\n",
    "    rating = float(row[7])\n",
    "    if rating >= 4.0:\n",
    "        num_apps += 1\n",
    "        \n",
    "num_apps"
   ]
  },
  {
   "cell_type": "markdown",
   "metadata": {},
   "source": [
    "#### What is the average rating of the apps that have a price greater than $9?"
   ]
  },
  {
   "cell_type": "code",
   "execution_count": 37,
   "metadata": {},
   "outputs": [
    {
     "data": {
      "text/plain": [
       "3.5280898876404496"
      ]
     },
     "execution_count": 37,
     "metadata": {},
     "output_type": "execute_result"
    }
   ],
   "source": [
    "apps_9_or_greater = []\n",
    "\n",
    "for row in apps_data[1:]:\n",
    "    rating = float(row[7])\n",
    "    price = float(row[4])\n",
    "    if price > 9.0:\n",
    "        apps_9_or_greater.append(rating)\n",
    "        \n",
    "avg_rating = sum(apps_9_or_greater) / len(apps_9_or_greater)\n",
    "avg_rating"
   ]
  },
  {
   "cell_type": "markdown",
   "metadata": {},
   "source": [
    "#### How many apps have a price greater than $9?"
   ]
  },
  {
   "cell_type": "code",
   "execution_count": 38,
   "metadata": {},
   "outputs": [
    {
     "data": {
      "text/plain": [
       "178"
      ]
     },
     "execution_count": 38,
     "metadata": {},
     "output_type": "execute_result"
    }
   ],
   "source": [
    "n_apps_more_9 = len(apps_9_or_greater)\n",
    "n_apps_more_9"
   ]
  },
  {
   "cell_type": "markdown",
   "metadata": {},
   "source": [
    "#### How many apps have a price smaller than or equal to $9?"
   ]
  },
  {
   "cell_type": "code",
   "execution_count": 39,
   "metadata": {},
   "outputs": [
    {
     "data": {
      "text/plain": [
       "7019"
      ]
     },
     "execution_count": 39,
     "metadata": {},
     "output_type": "execute_result"
    }
   ],
   "source": [
    "n_apps_less_9 = len(apps_data[1:]) - n_apps_more_9\n",
    "n_apps_less_9"
   ]
  },
  {
   "cell_type": "markdown",
   "metadata": {},
   "source": [
    "#### Labeling 'free' and 'non-free' apps:"
   ]
  },
  {
   "cell_type": "code",
   "execution_count": 40,
   "metadata": {},
   "outputs": [
    {
     "name": "stdout",
     "output_type": "stream",
     "text": [
      "[['id', 'track_name', 'size_bytes', 'currency', 'price', 'rating_count_tot', 'rating_count_ver', 'user_rating', 'user_rating_ver', 'ver', 'cont_rating', 'prime_genre', 'sup_devices.num', 'ipadSc_urls.num', 'lang.num', 'vpp_lic', 'free_or_not'], ['281656475', 'PAC-MAN Premium', '100788224', 'USD', '3.99', '21292', '26', '4', '4.5', '6.3.5', '4+', 'Games', '38', '5', '10', '1', 'non-free'], ['281796108', 'Evernote - stay organized', '158578688', 'USD', '0', '161065', '26', '4', '3.5', '8.2.2', '4+', 'Productivity', '37', '5', '23', '1', 'free'], ['281940292', 'WeatherBug - Local Weather, Radar, Maps, Alerts', '100524032', 'USD', '0', '188583', '2822', '3.5', '4.5', '5.0.0', '4+', 'Weather', '37', '5', '3', '1', 'free'], ['282614216', 'eBay: Best App to Buy, Sell, Save! Online Shopping', '128512000', 'USD', '0', '262241', '649', '4', '4.5', '5.10.0', '12+', 'Shopping', '37', '5', '9', '1', 'free'], ['282935706', 'Bible', '92774400', 'USD', '0', '985920', '5320', '4.5', '5', '7.5.1', '4+', 'Reference', '37', '5', '45', '1', 'free']]\n"
     ]
    }
   ],
   "source": [
    "for app in apps_data[1:]:\n",
    "    price = float(app[4])\n",
    "    if price == 0.0:\n",
    "        app.append('free')\n",
    "    else:\n",
    "        app.append('non-free')\n",
    "apps_data[0].append('free_or_not')\n",
    "\n",
    "print(apps_data[:6])"
   ]
  },
  {
   "cell_type": "markdown",
   "metadata": {},
   "source": [
    "#### Better Labeling of columns:"
   ]
  },
  {
   "cell_type": "code",
   "execution_count": 41,
   "metadata": {},
   "outputs": [
    {
     "name": "stdout",
     "output_type": "stream",
     "text": [
      "[['id', 'track_name', 'size_bytes', 'currency', 'price', 'rating_count_tot', 'rating_count_ver', 'user_rating', 'user_rating_ver', 'ver', 'cont_rating', 'prime_genre', 'sup_devices.num', 'ipadSc_urls.num', 'lang.num', 'vpp_lic', 'free_or_not', 'price_label'], ['281656475', 'PAC-MAN Premium', '100788224', 'USD', '3.99', '21292', '26', '4', '4.5', '6.3.5', '4+', 'Games', '38', '5', '10', '1', 'non-free', 'affordable'], ['281796108', 'Evernote - stay organized', '158578688', 'USD', '0', '161065', '26', '4', '3.5', '8.2.2', '4+', 'Productivity', '37', '5', '23', '1', 'free', 'free'], ['281940292', 'WeatherBug - Local Weather, Radar, Maps, Alerts', '100524032', 'USD', '0', '188583', '2822', '3.5', '4.5', '5.0.0', '4+', 'Weather', '37', '5', '3', '1', 'free', 'free'], ['282614216', 'eBay: Best App to Buy, Sell, Save! Online Shopping', '128512000', 'USD', '0', '262241', '649', '4', '4.5', '5.10.0', '12+', 'Shopping', '37', '5', '9', '1', 'free', 'free'], ['282935706', 'Bible', '92774400', 'USD', '0', '985920', '5320', '4.5', '5', '7.5.1', '4+', 'Reference', '37', '5', '45', '1', 'free', 'free']]\n"
     ]
    }
   ],
   "source": [
    "for app in apps_data[1:]:\n",
    "    price = float(app[4])\n",
    "    if price == 0.0:\n",
    "        app.append('free')\n",
    "    elif price > 0.0 and price < 20:\n",
    "        app.append('affordable')\n",
    "    elif price > 20 and price < 50:\n",
    "        app.append('expensive')\n",
    "    elif price > 50:\n",
    "        app.append('very expensive')\n",
    "        \n",
    "apps_data[0].append('price_label')\n",
    "\n",
    "print(apps_data[:6])"
   ]
  },
  {
   "cell_type": "code",
   "execution_count": 42,
   "metadata": {},
   "outputs": [
    {
     "data": {
      "text/plain": [
       "[['4+', '9+', '12+', '17+'], [4433, 987, 1155, 622]]"
      ]
     },
     "execution_count": 42,
     "metadata": {},
     "output_type": "execute_result"
    }
   ],
   "source": [
    "content_ratings = ['4+', '9+', '12+', '17+']\n",
    "numbers = [4433, 987, 1155, 622]\n",
    "content_rating_numbers = [content_ratings, numbers]\n",
    "content_rating_numbers"
   ]
  },
  {
   "cell_type": "markdown",
   "metadata": {},
   "source": [
    "### Dictionaries"
   ]
  },
  {
   "cell_type": "code",
   "execution_count": 43,
   "metadata": {},
   "outputs": [
    {
     "name": "stdout",
     "output_type": "stream",
     "text": [
      "{'17+': 622, '9+': 987, '12+': 1155, '4+': 4433}\n"
     ]
    }
   ],
   "source": [
    "content_ratings = {'4+': 4433, '9+': 987, '12+': 1155, '17+': 622}\n",
    "print(content_ratings)"
   ]
  },
  {
   "cell_type": "code",
   "execution_count": 44,
   "metadata": {},
   "outputs": [
    {
     "name": "stdout",
     "output_type": "stream",
     "text": [
      "987 622\n"
     ]
    }
   ],
   "source": [
    "over_9 = content_ratings['9+']\n",
    "over_17 = content_ratings['17+']\n",
    "\n",
    "print(over_9, over_17)"
   ]
  },
  {
   "cell_type": "code",
   "execution_count": 45,
   "metadata": {},
   "outputs": [
    {
     "data": {
      "text/plain": [
       "1155"
      ]
     },
     "execution_count": 45,
     "metadata": {},
     "output_type": "execute_result"
    }
   ],
   "source": [
    "content_ratings = {}\n",
    "content_ratings['4+'] = 4433\n",
    "content_ratings['9+'] = 987\n",
    "content_ratings['12+'] = 1155\n",
    "content_ratings['17+'] = 622\n",
    "over_12_n_apps = content_ratings['12+']\n",
    "over_12_n_apps"
   ]
  },
  {
   "cell_type": "code",
   "execution_count": 46,
   "metadata": {},
   "outputs": [],
   "source": [
    "d_1 = {'key_1': 'first_value', \n",
    "       'key_2': 2,\n",
    "       'key_3': 3.14,\n",
    "       'key_4': True,\n",
    "       'key_5': [4,2,1],\n",
    "       'key_6': {'inner_key' : 6}}"
   ]
  },
  {
   "cell_type": "code",
   "execution_count": 47,
   "metadata": {},
   "outputs": [
    {
     "name": "stdout",
     "output_type": "stream",
     "text": [
      "It exists\n"
     ]
    }
   ],
   "source": [
    "is_in_dictionary_1 = '9+' in content_ratings\n",
    "is_in_dictionary_2 = '987' in content_ratings\n",
    "\n",
    "if '17+' in content_ratings:\n",
    "    result = 'It exists'\n",
    "print(result)"
   ]
  },
  {
   "cell_type": "code",
   "execution_count": 48,
   "metadata": {},
   "outputs": [
    {
     "name": "stdout",
     "output_type": "stream",
     "text": [
      "{'17+': 622, '9+': 987, '12+': 1155, '4+': 4433}\n"
     ]
    }
   ],
   "source": [
    "from csv import reader\n",
    "opened_file = open('data/AppleStore.csv', encoding = 'UTF-8')\n",
    "read_file = reader(opened_file)\n",
    "apps_data = list(read_file)\n",
    "\n",
    "content_ratings = {'4+': 0, '9+': 0, '12+': 0, '17+': 0}\n",
    "\n",
    "for row in apps_data[1:]:\n",
    "    c_rating = row[10]\n",
    "    if c_rating in content_ratings:\n",
    "        content_ratings[c_rating] += 1\n",
    "        \n",
    "print(content_ratings)"
   ]
  },
  {
   "cell_type": "code",
   "execution_count": 49,
   "metadata": {},
   "outputs": [
    {
     "name": "stdout",
     "output_type": "stream",
     "text": [
      "{'17+': 622, '9+': 987, '12+': 1155, '4+': 4433}\n"
     ]
    }
   ],
   "source": [
    "content_ratings = {}\n",
    "for row in apps_data[1:]:\n",
    "    c_rating = row[10]\n",
    "    if c_rating in content_ratings:\n",
    "        content_ratings[c_rating] += 1\n",
    "    else:\n",
    "        content_ratings[c_rating] = 1\n",
    "print(content_ratings)"
   ]
  },
  {
   "cell_type": "markdown",
   "metadata": {},
   "source": [
    "#### Count the number of times each unique genre occurs"
   ]
  },
  {
   "cell_type": "code",
   "execution_count": 50,
   "metadata": {},
   "outputs": [
    {
     "name": "stdout",
     "output_type": "stream",
     "text": [
      "{'Book': 112, 'Medical': 23, 'News': 75, 'Education': 453, 'Sports': 114, 'Business': 57, 'Social Networking': 167, 'Utilities': 248, 'Reference': 64, 'Shopping': 122, 'Catalogs': 10, 'Games': 3862, 'Entertainment': 535, 'Lifestyle': 144, 'Health & Fitness': 180, 'Music': 138, 'Photo & Video': 349, 'Travel': 81, 'Productivity': 178, 'Navigation': 46, 'Weather': 72, 'Finance': 104, 'Food & Drink': 63}\n"
     ]
    }
   ],
   "source": [
    "genre_counting = {}\n",
    "for row in apps_data[1:]:\n",
    "    genre = row[11]\n",
    "    if genre in genre_counting:\n",
    "        genre_counting[genre] += 1\n",
    "    else:\n",
    "        genre_counting[genre] = 1\n",
    "print(genre_counting)"
   ]
  },
  {
   "cell_type": "markdown",
   "metadata": {},
   "source": [
    "#### What proportion of apps have a content rating of  '17+' ?"
   ]
  },
  {
   "cell_type": "code",
   "execution_count": 51,
   "metadata": {},
   "outputs": [
    {
     "name": "stdout",
     "output_type": "stream",
     "text": [
      "8.642489926358204\n",
      "91.35751007364179\n"
     ]
    }
   ],
   "source": [
    "content_ratings = {'4+': 4433, '12+': 1155, '9+': 987, '17+': 622}\n",
    "total_number_of_apps = 7197\n",
    "for app in content_ratings:\n",
    "    content_ratings[app] /= total_number_of_apps\n",
    "    content_ratings[app] *= 100\n",
    "    \n",
    "percentage_17_plus = content_ratings['17+']\n",
    "percentage_15_allowed = sum(content_ratings.values()) - percentage_17_plus\n",
    "\n",
    "print(percentage_17_plus)\n",
    "print(percentage_15_allowed)"
   ]
  },
  {
   "cell_type": "code",
   "execution_count": 52,
   "metadata": {},
   "outputs": [
    {
     "name": "stdout",
     "output_type": "stream",
     "text": [
      "{'17+': 0.08642489926358204, '9+': 0.13714047519799916, '12+': 0.16048353480616923, '4+': 0.6159510907322495}\n",
      "{'17+': 8.642489926358204, '9+': 13.714047519799916, '12+': 16.04835348061692, '4+': 61.595109073224954}\n"
     ]
    }
   ],
   "source": [
    "content_ratings = {'4+': 4433, '12+': 1155, '9+': 987, '17+': 622}\n",
    "total_number_of_apps = 7197\n",
    "c_ratings_proportions = {} \n",
    "c_ratings_percentages = {}\n",
    "for app in content_ratings:\n",
    "    \n",
    "    c_ratings_proportions[app] = content_ratings[app] / total_number_of_apps\n",
    "    c_ratings_percentages[app] = c_ratings_proportions[app] * 100\n",
    "\n",
    "print(c_ratings_proportions)\n",
    "print(c_ratings_percentages)"
   ]
  },
  {
   "cell_type": "markdown",
   "metadata": {},
   "source": [
    "#### Find the minimum and maximum app data size"
   ]
  },
  {
   "cell_type": "code",
   "execution_count": 53,
   "metadata": {},
   "outputs": [
    {
     "name": "stdout",
     "output_type": "stream",
     "text": [
      "589824.0 4025969664.0\n"
     ]
    }
   ],
   "source": [
    "data_sizes = []\n",
    "for row in apps_data[1:]:\n",
    "    size = float(row[2])\n",
    "    data_sizes.append(size)\n",
    "min_size = min(data_sizes)\n",
    "max_size = max(data_sizes)\n",
    "\n",
    "print(min_size, max_size)"
   ]
  },
  {
   "cell_type": "markdown",
   "metadata": {},
   "source": [
    "#### Frequency of user ratings for an app"
   ]
  },
  {
   "cell_type": "code",
   "execution_count": 54,
   "metadata": {},
   "outputs": [
    {
     "name": "stdout",
     "output_type": "stream",
     "text": [
      "0 2974676\n"
     ]
    }
   ],
   "source": [
    "from csv import reader\n",
    "opened_file = open('data/AppleStore.csv', encoding = 'UTF-8')\n",
    "read_file = reader(opened_file)\n",
    "apps_data = list(read_file)\n",
    "\n",
    "usr_rating_count = []\n",
    "for row in apps_data[1:]:\n",
    "    rating_ct = int(row[5])\n",
    "    usr_rating_count.append(rating_ct)\n",
    "min_rating_ct = min(usr_rating_count)\n",
    "max_rating_ct = max(usr_rating_count)\n",
    "print(min_rating_ct,max_rating_ct)\n"
   ]
  },
  {
   "cell_type": "code",
   "execution_count": 55,
   "metadata": {},
   "outputs": [
    {
     "name": "stdout",
     "output_type": "stream",
     "text": [
      "{'1M +': 6, '100K - 500K': 196, '0 - 10K': 6181, '10K - 100K': 798, '500K - 1M': 16}\n"
     ]
    }
   ],
   "source": [
    "rating_total_ct = {'0 - 10K' : 0, '10K - 100K' : 0, '100K - 500K': 0, '500K - 1M': 0, '1M +': 0}\n",
    "\n",
    "for row in apps_data[1:]:\n",
    "    rating_ct = int(row[5])\n",
    "    \n",
    "    if rating_ct <= 10000:\n",
    "        rating_total_ct['0 - 10K'] += 1\n",
    "    elif rating_ct > 10000 and rating_ct <= 100000:\n",
    "        rating_total_ct['10K - 100K'] += 1\n",
    "    elif rating_ct > 100000 and rating_ct <= 500000:\n",
    "        rating_total_ct['100K - 500K'] += 1\n",
    "    elif rating_ct > 500000 and rating_ct <= 1000000:\n",
    "        rating_total_ct['500K - 1M'] += 1\n",
    "    elif rating_ct > 1000000:\n",
    "        rating_total_ct['1M +'] += 1\n",
    "print(rating_total_ct)"
   ]
  },
  {
   "cell_type": "markdown",
   "metadata": {},
   "source": [
    "### Functions : Fundamentals"
   ]
  },
  {
   "cell_type": "code",
   "execution_count": 56,
   "metadata": {},
   "outputs": [
    {
     "name": "stdout",
     "output_type": "stream",
     "text": [
      "103945\n",
      "103945\n"
     ]
    }
   ],
   "source": [
    "a_list = [4444, 8897, 6340, 9896, 4835, 4324, 10, 6445,\n",
    "          661, 1246, 1000, 7429, 1376, 8121, 647, 1280,\n",
    "          3993, 4881, 9500, 6701, 1199, 6251, 4432, 37]\n",
    "\n",
    "sum_manual = 0\n",
    "for num in a_list:\n",
    "    sum_manual += num\n",
    "\n",
    "print(sum_manual)\n",
    "print(sum(a_list))"
   ]
  },
  {
   "cell_type": "code",
   "execution_count": 57,
   "metadata": {},
   "outputs": [
    {
     "name": "stdout",
     "output_type": "stream",
     "text": [
      "{'17+': 2, '9+': 1, '12+': 2, '4+': 3}\n"
     ]
    }
   ],
   "source": [
    "ratings = ['4+', '4+', '4+', '9+', '12+', '12+', '17+', '17+']\n",
    "\n",
    "content_ratings = {}\n",
    "\n",
    "for rating in ratings:\n",
    "    if rating in content_ratings:\n",
    "        content_ratings[rating] += 1\n",
    "    else:\n",
    "        content_ratings[rating] = 1\n",
    "print(content_ratings)"
   ]
  },
  {
   "cell_type": "markdown",
   "metadata": {},
   "source": [
    "#### Example: Find the square of a number"
   ]
  },
  {
   "cell_type": "code",
   "execution_count": 58,
   "metadata": {},
   "outputs": [
    {
     "name": "stdout",
     "output_type": "stream",
     "text": [
      "100\n",
      "256\n"
     ]
    }
   ],
   "source": [
    "def square(a_number):\n",
    "    squared_number = a_number * a_number\n",
    "    return squared_number\n",
    "\n",
    "square_10 = square(10)\n",
    "print(square_10)\n",
    "square_16 = square(16)\n",
    "print(square_16)"
   ]
  },
  {
   "cell_type": "markdown",
   "metadata": {},
   "source": [
    "#### Example: Add 10 to a number"
   ]
  },
  {
   "cell_type": "code",
   "execution_count": 59,
   "metadata": {},
   "outputs": [
    {
     "name": "stdout",
     "output_type": "stream",
     "text": [
      "40\n",
      "100\n"
     ]
    }
   ],
   "source": [
    "def add_10(a_number):\n",
    "    added_num = a_number + 10\n",
    "    return added_num\n",
    "\n",
    "add_30 = add_10(30)\n",
    "print(add_30)\n",
    "add_90 = add_10(90)\n",
    "print(add_90)"
   ]
  },
  {
   "cell_type": "code",
   "execution_count": 60,
   "metadata": {},
   "outputs": [
    {
     "name": "stdout",
     "output_type": "stream",
     "text": [
      "36 121\n"
     ]
    }
   ],
   "source": [
    "def square(a_number):\n",
    "    return(a_number * a_number)\n",
    "\n",
    "squared_6 = square(6)\n",
    "squared_11 = square(11)\n",
    "\n",
    "print(squared_6, squared_11)"
   ]
  },
  {
   "cell_type": "markdown",
   "metadata": {},
   "source": [
    "#### Example: Write a program to extract the column info based on the index number"
   ]
  },
  {
   "cell_type": "code",
   "execution_count": 62,
   "metadata": {},
   "outputs": [],
   "source": [
    "from csv import reader\n",
    "opened_file = open('data/AppleStore.csv', encoding = 'UTF-8')\n",
    "read_file = reader(opened_file)\n",
    "apps_data = list(read_file)\n",
    "\n",
    "def extract(index_num):\n",
    "    emp_lst = []\n",
    "    for row in apps_data[1:]:\n",
    "        data_row = row[index_num]\n",
    "        emp_lst.append(data_row)\n",
    "    return emp_lst\n",
    "\n",
    "genres = extract(11)"
   ]
  },
  {
   "cell_type": "markdown",
   "metadata": {},
   "source": [
    "#### Ext. create a func to calculate the frequency table"
   ]
  },
  {
   "cell_type": "code",
   "execution_count": 63,
   "metadata": {},
   "outputs": [
    {
     "data": {
      "text/plain": [
       "{'Book': 112,\n",
       " 'Business': 57,\n",
       " 'Catalogs': 10,\n",
       " 'Education': 453,\n",
       " 'Entertainment': 535,\n",
       " 'Finance': 104,\n",
       " 'Food & Drink': 63,\n",
       " 'Games': 3862,\n",
       " 'Health & Fitness': 180,\n",
       " 'Lifestyle': 144,\n",
       " 'Medical': 23,\n",
       " 'Music': 138,\n",
       " 'Navigation': 46,\n",
       " 'News': 75,\n",
       " 'Photo & Video': 349,\n",
       " 'Productivity': 178,\n",
       " 'Reference': 64,\n",
       " 'Shopping': 122,\n",
       " 'Social Networking': 167,\n",
       " 'Sports': 114,\n",
       " 'Travel': 81,\n",
       " 'Utilities': 248,\n",
       " 'Weather': 72}"
      ]
     },
     "execution_count": 63,
     "metadata": {},
     "output_type": "execute_result"
    }
   ],
   "source": [
    "def freq_table(a_list):\n",
    "    freq_table = {}\n",
    "    for entry in a_list:\n",
    "        if entry in freq_table:\n",
    "            freq_table[entry] += 1\n",
    "        else:\n",
    "            freq_table[entry] = 1\n",
    "    return freq_table\n",
    "\n",
    "genres_ft = freq_table(extract(11))\n",
    "genres_ft"
   ]
  },
  {
   "cell_type": "markdown",
   "metadata": {},
   "source": [
    "#### Example: Modify the two functions into one. Create freq table using the index number"
   ]
  },
  {
   "cell_type": "code",
   "execution_count": 64,
   "metadata": {},
   "outputs": [
    {
     "data": {
      "text/plain": [
       "{'0': 929,\n",
       " '1': 44,\n",
       " '1.5': 56,\n",
       " '2': 106,\n",
       " '2.5': 196,\n",
       " '3': 383,\n",
       " '3.5': 702,\n",
       " '4': 1626,\n",
       " '4.5': 2663,\n",
       " '5': 492}"
      ]
     },
     "execution_count": 64,
     "metadata": {},
     "output_type": "execute_result"
    }
   ],
   "source": [
    "def freq_table(index_num):\n",
    "    freq_table = {}\n",
    "    for row in apps_data[1:]:\n",
    "        data_row = row[index_num]\n",
    "        if data_row in freq_table:\n",
    "            freq_table[data_row] += 1\n",
    "        else:\n",
    "            freq_table[data_row] = 1\n",
    "    return freq_table\n",
    "\n",
    "ratings_ft = freq_table(7)\n",
    "ratings_ft"
   ]
  },
  {
   "cell_type": "markdown",
   "metadata": {},
   "source": [
    "#### Example: Modify the function above to read any dataset (Reusability)"
   ]
  },
  {
   "cell_type": "code",
   "execution_count": 65,
   "metadata": {},
   "outputs": [
    {
     "data": {
      "text/plain": [
       "{'0': 929,\n",
       " '1': 44,\n",
       " '1.5': 56,\n",
       " '2': 106,\n",
       " '2.5': 196,\n",
       " '3': 383,\n",
       " '3.5': 702,\n",
       " '4': 1626,\n",
       " '4.5': 2663,\n",
       " '5': 492}"
      ]
     },
     "execution_count": 65,
     "metadata": {},
     "output_type": "execute_result"
    }
   ],
   "source": [
    "from csv import reader\n",
    "opened_file = open('data/AppleStore.csv', encoding = 'UTF-8')\n",
    "read_file = reader(opened_file)\n",
    "apps_data = list(read_file)\n",
    "\n",
    "def freq_table(index_num, data_set):\n",
    "    freq_table = {}\n",
    "    for row in data_set[1:]:\n",
    "        data_row = row[index_num]\n",
    "        if data_row in freq_table:\n",
    "            freq_table[data_row] += 1\n",
    "        else:\n",
    "            freq_table[data_row] = 1\n",
    "    return freq_table\n",
    "\n",
    "ratings_ft = freq_table(7, apps_data)\n",
    "\n",
    "ratings_ft"
   ]
  },
  {
   "cell_type": "markdown",
   "metadata": {},
   "source": [
    "#### Keyword arguments:\n",
    "Consider the function square(a, b) where it takes two arguments a and b\n",
    "- When we use the syntax subtract(a=10, b=7) or subtract(b=7, a=10), we pass in the arguments 10 and 7 using the variable names a and b. They are called named arguments or keywrd arguments\n",
    "\n",
    "#### Positional arguments:\n",
    "- Arguments that are passed by position are called positional arguments.\n",
    "- when we use subtract(10, 7) or subtract(7, 10), we're not explicit about what arguments correspond to what parameters. To solve this ambiguity, Python maps arguments with parameters by position; the first argument will be mapped to the first parameter, and the second argument will be mapped to the second parameter."
   ]
  },
  {
   "cell_type": "code",
   "execution_count": 68,
   "metadata": {},
   "outputs": [
    {
     "name": "stdout",
     "output_type": "stream",
     "text": [
      "{'17+': 622, '9+': 987, '12+': 1155, '4+': 4433}\n",
      "{'3': 383, '4': 1626, '3.5': 702, '4.5': 2663, '1': 44, '0': 929, '2': 106, '5': 492, '1.5': 56, '2.5': 196}\n",
      "{'Book': 112, 'Medical': 23, 'News': 75, 'Education': 453, 'Sports': 114, 'Business': 57, 'Social Networking': 167, 'Utilities': 248, 'Reference': 64, 'Shopping': 122, 'Catalogs': 10, 'Games': 3862, 'Entertainment': 535, 'Lifestyle': 144, 'Health & Fitness': 180, 'Music': 138, 'Photo & Video': 349, 'Travel': 81, 'Productivity': 178, 'Navigation': 46, 'Weather': 72, 'Finance': 104, 'Food & Drink': 63}\n"
     ]
    }
   ],
   "source": [
    "from csv import reader\n",
    "opened_file = open('data/AppleStore.csv', encoding = 'UTF-8')\n",
    "read_file = reader(opened_file)\n",
    "apps_data = list(read_file)\n",
    "\n",
    "def freq_table(index_num, data_set):\n",
    "    freq_table = {}\n",
    "    for row in data_set[1:]:\n",
    "        data_row = row[index_num]\n",
    "        if data_row in freq_table:\n",
    "            freq_table[data_row] += 1\n",
    "        else:\n",
    "            freq_table[data_row] = 1\n",
    "    return freq_table\n",
    "\n",
    "content_ratings_ft = freq_table(10, apps_data)\n",
    "ratings_ft = freq_table(data_set= apps_data, index_num=7)\n",
    "genres_ft = freq_table(index_num=11, data_set= apps_data)\n",
    "\n",
    "print(content_ratings_ft)\n",
    "print(ratings_ft)\n",
    "print(genres_ft)"
   ]
  },
  {
   "cell_type": "markdown",
   "metadata": {},
   "source": [
    "#### Example: Calculate the mean of a list of numbers. [Reusability and Combination of funcs]"
   ]
  },
  {
   "cell_type": "code",
   "execution_count": 69,
   "metadata": {},
   "outputs": [
    {
     "data": {
      "text/plain": [
       "1.7262178685562626"
      ]
     },
     "execution_count": 69,
     "metadata": {},
     "output_type": "execute_result"
    }
   ],
   "source": [
    "from csv import reader\n",
    "opened_file = open('data/AppleStore.csv', encoding = 'UTF-8')\n",
    "read_file = reader(opened_file)\n",
    "apps_data = list(read_file)\n",
    "\n",
    "def extract(data_set, index):\n",
    "    column = []    \n",
    "    for row in data_set[1:]:\n",
    "        value = row[index]\n",
    "        column.append(value)    \n",
    "    return column\n",
    "\n",
    "def find_sum(a_list):\n",
    "    a_sum = 0\n",
    "    for element in a_list:\n",
    "        a_sum += float(element)\n",
    "    return a_sum\n",
    "\n",
    "def find_length(a_list):\n",
    "    length = 0\n",
    "    for element in a_list:\n",
    "        length += 1\n",
    "    return length\n",
    "\n",
    "def mean(data_set, index_num):\n",
    "    column = extract(data_set, index_num)\n",
    "    sum_list =  find_sum(column)\n",
    "    list_length = find_length(column)\n",
    "    mean_list = sum_list/list_length\n",
    "    return mean_list  \n",
    "        \n",
    "avg_price = mean(apps_data, 4)\n",
    "avg_price"
   ]
  },
  {
   "cell_type": "markdown",
   "metadata": {},
   "source": [
    "### Functions: Intermediate"
   ]
  },
  {
   "cell_type": "code",
   "execution_count": 70,
   "metadata": {},
   "outputs": [
    {
     "data": {
      "text/plain": [
       "'No max value returned'"
      ]
     },
     "execution_count": 70,
     "metadata": {},
     "output_type": "execute_result"
    }
   ],
   "source": [
    "a_list = [1, 8, 10, 9, 7]\n",
    "\n",
    "def max(a_list):\n",
    "    return \"No max value returned\"\n",
    "\n",
    "max_value_test_0 = max(a_list)\n",
    "max_value_test_0"
   ]
  },
  {
   "cell_type": "code",
   "execution_count": 71,
   "metadata": {},
   "outputs": [],
   "source": [
    "del max"
   ]
  },
  {
   "cell_type": "code",
   "execution_count": 72,
   "metadata": {},
   "outputs": [
    {
     "data": {
      "text/plain": [
       "10"
      ]
     },
     "execution_count": 72,
     "metadata": {},
     "output_type": "execute_result"
    }
   ],
   "source": [
    "max_value = max(a_list)\n",
    "max_value"
   ]
  },
  {
   "cell_type": "code",
   "execution_count": 73,
   "metadata": {},
   "outputs": [],
   "source": [
    "# INITIAL CODE\n",
    "def open_dataset(file_name='data/AppleStore.csv'):\n",
    "    \n",
    "    opened_file = open(file_name, encoding='UTF-8')\n",
    "    from csv import reader\n",
    "    read_file = reader(opened_file)\n",
    "    data = list(read_file)\n",
    "    \n",
    "    return data\n",
    "\n",
    "apps_data = open_dataset()"
   ]
  },
  {
   "cell_type": "markdown",
   "metadata": {},
   "source": [
    "#### round():"
   ]
  },
  {
   "cell_type": "code",
   "execution_count": 75,
   "metadata": {},
   "outputs": [
    {
     "name": "stdout",
     "output_type": "stream",
     "text": [
      "3.4\n",
      "0.23\n",
      "921.22252\n"
     ]
    }
   ],
   "source": [
    "one_decimal = round(3.43, 1)\n",
    "two_decimals = round(0.23321, 2)\n",
    "five_decimals = round(921.2225227, 5)\n",
    "\n",
    "print(one_decimal)\n",
    "print(two_decimals)\n",
    "print(five_decimals)"
   ]
  },
  {
   "cell_type": "code",
   "execution_count": null,
   "metadata": {},
   "outputs": [],
   "source": []
  }
 ],
 "metadata": {
  "kernelspec": {
   "display_name": "Python 3",
   "language": "python",
   "name": "python3"
  },
  "language_info": {
   "codemirror_mode": {
    "name": "ipython",
    "version": 3
   },
   "file_extension": ".py",
   "mimetype": "text/x-python",
   "name": "python",
   "nbconvert_exporter": "python",
   "pygments_lexer": "ipython3",
   "version": "3.5.2"
  }
 },
 "nbformat": 4,
 "nbformat_minor": 4
}
